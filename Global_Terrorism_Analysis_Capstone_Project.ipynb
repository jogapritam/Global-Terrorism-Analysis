{
  "nbformat": 4,
  "nbformat_minor": 0,
  "metadata": {
    "kernelspec": {
      "display_name": "Python 3",
      "language": "python",
      "name": "python3"
    },
    "language_info": {
      "codemirror_mode": {
        "name": "ipython",
        "version": 3
      },
      "file_extension": ".py",
      "mimetype": "text/x-python",
      "name": "python",
      "nbconvert_exporter": "python",
      "pygments_lexer": "ipython3",
      "version": "3.6.6"
    },
    "colab": {
      "name": "Global Terrorism Analysis - Capstone Project.ipynb",
      "provenance": [],
      "collapsed_sections": [],
      "include_colab_link": true
    }
  },
  "cells": [
    {
      "cell_type": "markdown",
      "metadata": {
        "id": "view-in-github",
        "colab_type": "text"
      },
      "source": [
        "<a href=\"https://colab.research.google.com/github/jogapritam/Global-Terrorism-Analysis/blob/main/Global_Terrorism_Analysis_Capstone_Project.ipynb\" target=\"_parent\"><img src=\"https://colab.research.google.com/assets/colab-badge.svg\" alt=\"Open In Colab\"/></a>"
      ]
    },
    {
      "cell_type": "markdown",
      "metadata": {
        "id": "Y06xIdG26kRF"
      },
      "source": [
        "## <b> The Global Terrorism Database (GTD) is an open-source database including information on terrorist attacks around the world from 1970 through 2017. The GTD includes systematic data on domestic as well as international terrorist incidents that have occurred during this time period and now includes more than 180,000 attacks. The database is maintained by researchers at the National Consortium for the Study of Terrorism and Responses to Terrorism (START), headquartered at the University of Maryland.</b>\n",
        "\n",
        "# <b> Explore and analyze the data to discover key findings pertaining to terrorist activities. </b>"
      ]
    },
    {
      "cell_type": "code",
      "metadata": {
        "id": "dByMsuzT8Tnw"
      },
      "source": [
        "#import all required libraries\n",
        "import pandas as pd\n",
        "import numpy as np\n",
        "import matplotlib.pyplot as plt\n",
        "%matplotlib inline\n",
        "import seaborn as sns"
      ],
      "execution_count": null,
      "outputs": []
    },
    {
      "cell_type": "code",
      "metadata": {
        "colab": {
          "base_uri": "https://localhost:8080/"
        },
        "id": "z844cU5Nk-O2",
        "outputId": "69b3e9e7-c90d-49ce-96c4-d938a37c6d3b"
      },
      "source": [
        "#Make a handshake to our collab notebook with googledrive\n",
        "from google.colab import drive\n",
        "drive.mount('/content/drive')"
      ],
      "execution_count": null,
      "outputs": [
        {
          "output_type": "stream",
          "text": [
            "Mounted at /content/drive\n"
          ],
          "name": "stdout"
        }
      ]
    },
    {
      "cell_type": "code",
      "metadata": {
        "colab": {
          "base_uri": "https://localhost:8080/"
        },
        "id": "8tpja81R_9FS",
        "outputId": "50f6befc-cb63-44af-e444-f1bfd014b918"
      },
      "source": [
        "#here it's the path, where data is kept\n",
        "file_path = ('/content/drive/MyDrive/Copy of Global Terrorism Data.csv')\n",
        "#using this code our dataframe is going to read\n",
        "df = pd.read_csv(file_path,encoding=\"ISO-8859-1\")"
      ],
      "execution_count": null,
      "outputs": [
        {
          "output_type": "stream",
          "text": [
            "/usr/local/lib/python3.7/dist-packages/IPython/core/interactiveshell.py:2718: DtypeWarning: Columns (4,6,31,33,61,62,63,76,79,90,92,94,96,114,115,121) have mixed types.Specify dtype option on import or set low_memory=False.\n",
            "  interactivity=interactivity, compiler=compiler, result=result)\n"
          ],
          "name": "stderr"
        }
      ]
    },
    {
      "cell_type": "code",
      "metadata": {
        "colab": {
          "base_uri": "https://localhost:8080/",
          "height": 230
        },
        "id": "WiZ4-Qq6LUql",
        "outputId": "19202ee8-9f25-4f17-8386-2bada5012f34"
      },
      "source": [
        "#check our first and last 5 rows\n",
        "df.head(2)\n",
        "#df.tail()"
      ],
      "execution_count": null,
      "outputs": [
        {
          "output_type": "execute_result",
          "data": {
            "text/html": [
              "<div>\n",
              "<style scoped>\n",
              "    .dataframe tbody tr th:only-of-type {\n",
              "        vertical-align: middle;\n",
              "    }\n",
              "\n",
              "    .dataframe tbody tr th {\n",
              "        vertical-align: top;\n",
              "    }\n",
              "\n",
              "    .dataframe thead th {\n",
              "        text-align: right;\n",
              "    }\n",
              "</style>\n",
              "<table border=\"1\" class=\"dataframe\">\n",
              "  <thead>\n",
              "    <tr style=\"text-align: right;\">\n",
              "      <th></th>\n",
              "      <th>eventid</th>\n",
              "      <th>iyear</th>\n",
              "      <th>imonth</th>\n",
              "      <th>iday</th>\n",
              "      <th>approxdate</th>\n",
              "      <th>extended</th>\n",
              "      <th>resolution</th>\n",
              "      <th>country</th>\n",
              "      <th>country_txt</th>\n",
              "      <th>region</th>\n",
              "      <th>region_txt</th>\n",
              "      <th>provstate</th>\n",
              "      <th>city</th>\n",
              "      <th>latitude</th>\n",
              "      <th>longitude</th>\n",
              "      <th>specificity</th>\n",
              "      <th>vicinity</th>\n",
              "      <th>location</th>\n",
              "      <th>summary</th>\n",
              "      <th>crit1</th>\n",
              "      <th>crit2</th>\n",
              "      <th>crit3</th>\n",
              "      <th>doubtterr</th>\n",
              "      <th>alternative</th>\n",
              "      <th>alternative_txt</th>\n",
              "      <th>multiple</th>\n",
              "      <th>success</th>\n",
              "      <th>suicide</th>\n",
              "      <th>attacktype1</th>\n",
              "      <th>attacktype1_txt</th>\n",
              "      <th>attacktype2</th>\n",
              "      <th>attacktype2_txt</th>\n",
              "      <th>attacktype3</th>\n",
              "      <th>attacktype3_txt</th>\n",
              "      <th>targtype1</th>\n",
              "      <th>targtype1_txt</th>\n",
              "      <th>targsubtype1</th>\n",
              "      <th>targsubtype1_txt</th>\n",
              "      <th>corp1</th>\n",
              "      <th>target1</th>\n",
              "      <th>...</th>\n",
              "      <th>weapsubtype4</th>\n",
              "      <th>weapsubtype4_txt</th>\n",
              "      <th>weapdetail</th>\n",
              "      <th>nkill</th>\n",
              "      <th>nkillus</th>\n",
              "      <th>nkillter</th>\n",
              "      <th>nwound</th>\n",
              "      <th>nwoundus</th>\n",
              "      <th>nwoundte</th>\n",
              "      <th>property</th>\n",
              "      <th>propextent</th>\n",
              "      <th>propextent_txt</th>\n",
              "      <th>propvalue</th>\n",
              "      <th>propcomment</th>\n",
              "      <th>ishostkid</th>\n",
              "      <th>nhostkid</th>\n",
              "      <th>nhostkidus</th>\n",
              "      <th>nhours</th>\n",
              "      <th>ndays</th>\n",
              "      <th>divert</th>\n",
              "      <th>kidhijcountry</th>\n",
              "      <th>ransom</th>\n",
              "      <th>ransomamt</th>\n",
              "      <th>ransomamtus</th>\n",
              "      <th>ransompaid</th>\n",
              "      <th>ransompaidus</th>\n",
              "      <th>ransomnote</th>\n",
              "      <th>hostkidoutcome</th>\n",
              "      <th>hostkidoutcome_txt</th>\n",
              "      <th>nreleased</th>\n",
              "      <th>addnotes</th>\n",
              "      <th>scite1</th>\n",
              "      <th>scite2</th>\n",
              "      <th>scite3</th>\n",
              "      <th>dbsource</th>\n",
              "      <th>INT_LOG</th>\n",
              "      <th>INT_IDEO</th>\n",
              "      <th>INT_MISC</th>\n",
              "      <th>INT_ANY</th>\n",
              "      <th>related</th>\n",
              "    </tr>\n",
              "  </thead>\n",
              "  <tbody>\n",
              "    <tr>\n",
              "      <th>0</th>\n",
              "      <td>197000000001</td>\n",
              "      <td>1970</td>\n",
              "      <td>7</td>\n",
              "      <td>2</td>\n",
              "      <td>NaN</td>\n",
              "      <td>0</td>\n",
              "      <td>NaN</td>\n",
              "      <td>58</td>\n",
              "      <td>Dominican Republic</td>\n",
              "      <td>2</td>\n",
              "      <td>Central America &amp; Caribbean</td>\n",
              "      <td>NaN</td>\n",
              "      <td>Santo Domingo</td>\n",
              "      <td>18.456792</td>\n",
              "      <td>-69.951164</td>\n",
              "      <td>1.0</td>\n",
              "      <td>0</td>\n",
              "      <td>NaN</td>\n",
              "      <td>NaN</td>\n",
              "      <td>1</td>\n",
              "      <td>1</td>\n",
              "      <td>1</td>\n",
              "      <td>0.0</td>\n",
              "      <td>NaN</td>\n",
              "      <td>NaN</td>\n",
              "      <td>0.0</td>\n",
              "      <td>1</td>\n",
              "      <td>0</td>\n",
              "      <td>1</td>\n",
              "      <td>Assassination</td>\n",
              "      <td>NaN</td>\n",
              "      <td>NaN</td>\n",
              "      <td>NaN</td>\n",
              "      <td>NaN</td>\n",
              "      <td>14</td>\n",
              "      <td>Private Citizens &amp; Property</td>\n",
              "      <td>68.0</td>\n",
              "      <td>Named Civilian</td>\n",
              "      <td>NaN</td>\n",
              "      <td>Julio Guzman</td>\n",
              "      <td>...</td>\n",
              "      <td>NaN</td>\n",
              "      <td>NaN</td>\n",
              "      <td>NaN</td>\n",
              "      <td>1.0</td>\n",
              "      <td>NaN</td>\n",
              "      <td>NaN</td>\n",
              "      <td>0.0</td>\n",
              "      <td>NaN</td>\n",
              "      <td>NaN</td>\n",
              "      <td>0</td>\n",
              "      <td>NaN</td>\n",
              "      <td>NaN</td>\n",
              "      <td>NaN</td>\n",
              "      <td>NaN</td>\n",
              "      <td>0.0</td>\n",
              "      <td>NaN</td>\n",
              "      <td>NaN</td>\n",
              "      <td>NaN</td>\n",
              "      <td>NaN</td>\n",
              "      <td>NaN</td>\n",
              "      <td>NaN</td>\n",
              "      <td>0.0</td>\n",
              "      <td>NaN</td>\n",
              "      <td>NaN</td>\n",
              "      <td>NaN</td>\n",
              "      <td>NaN</td>\n",
              "      <td>NaN</td>\n",
              "      <td>NaN</td>\n",
              "      <td>NaN</td>\n",
              "      <td>NaN</td>\n",
              "      <td>NaN</td>\n",
              "      <td>NaN</td>\n",
              "      <td>NaN</td>\n",
              "      <td>NaN</td>\n",
              "      <td>PGIS</td>\n",
              "      <td>0</td>\n",
              "      <td>0</td>\n",
              "      <td>0</td>\n",
              "      <td>0</td>\n",
              "      <td>NaN</td>\n",
              "    </tr>\n",
              "    <tr>\n",
              "      <th>1</th>\n",
              "      <td>197000000002</td>\n",
              "      <td>1970</td>\n",
              "      <td>0</td>\n",
              "      <td>0</td>\n",
              "      <td>NaN</td>\n",
              "      <td>0</td>\n",
              "      <td>NaN</td>\n",
              "      <td>130</td>\n",
              "      <td>Mexico</td>\n",
              "      <td>1</td>\n",
              "      <td>North America</td>\n",
              "      <td>Federal</td>\n",
              "      <td>Mexico city</td>\n",
              "      <td>19.371887</td>\n",
              "      <td>-99.086624</td>\n",
              "      <td>1.0</td>\n",
              "      <td>0</td>\n",
              "      <td>NaN</td>\n",
              "      <td>NaN</td>\n",
              "      <td>1</td>\n",
              "      <td>1</td>\n",
              "      <td>1</td>\n",
              "      <td>0.0</td>\n",
              "      <td>NaN</td>\n",
              "      <td>NaN</td>\n",
              "      <td>0.0</td>\n",
              "      <td>1</td>\n",
              "      <td>0</td>\n",
              "      <td>6</td>\n",
              "      <td>Hostage Taking (Kidnapping)</td>\n",
              "      <td>NaN</td>\n",
              "      <td>NaN</td>\n",
              "      <td>NaN</td>\n",
              "      <td>NaN</td>\n",
              "      <td>7</td>\n",
              "      <td>Government (Diplomatic)</td>\n",
              "      <td>45.0</td>\n",
              "      <td>Diplomatic Personnel (outside of embassy, cons...</td>\n",
              "      <td>Belgian Ambassador Daughter</td>\n",
              "      <td>Nadine Chaval, daughter</td>\n",
              "      <td>...</td>\n",
              "      <td>NaN</td>\n",
              "      <td>NaN</td>\n",
              "      <td>NaN</td>\n",
              "      <td>0.0</td>\n",
              "      <td>NaN</td>\n",
              "      <td>NaN</td>\n",
              "      <td>0.0</td>\n",
              "      <td>NaN</td>\n",
              "      <td>NaN</td>\n",
              "      <td>0</td>\n",
              "      <td>NaN</td>\n",
              "      <td>NaN</td>\n",
              "      <td>NaN</td>\n",
              "      <td>NaN</td>\n",
              "      <td>1.0</td>\n",
              "      <td>1.0</td>\n",
              "      <td>0.0</td>\n",
              "      <td>NaN</td>\n",
              "      <td>NaN</td>\n",
              "      <td>NaN</td>\n",
              "      <td>Mexico</td>\n",
              "      <td>1.0</td>\n",
              "      <td>800000.0</td>\n",
              "      <td>NaN</td>\n",
              "      <td>NaN</td>\n",
              "      <td>NaN</td>\n",
              "      <td>NaN</td>\n",
              "      <td>NaN</td>\n",
              "      <td>NaN</td>\n",
              "      <td>NaN</td>\n",
              "      <td>NaN</td>\n",
              "      <td>NaN</td>\n",
              "      <td>NaN</td>\n",
              "      <td>NaN</td>\n",
              "      <td>PGIS</td>\n",
              "      <td>0</td>\n",
              "      <td>1</td>\n",
              "      <td>1</td>\n",
              "      <td>1</td>\n",
              "      <td>NaN</td>\n",
              "    </tr>\n",
              "  </tbody>\n",
              "</table>\n",
              "<p>2 rows × 135 columns</p>\n",
              "</div>"
            ],
            "text/plain": [
              "        eventid  iyear  imonth  iday  ... INT_IDEO  INT_MISC INT_ANY  related\n",
              "0  197000000001   1970       7     2  ...        0         0       0      NaN\n",
              "1  197000000002   1970       0     0  ...        1         1       1      NaN\n",
              "\n",
              "[2 rows x 135 columns]"
            ]
          },
          "metadata": {
            "tags": []
          },
          "execution_count": 5
        }
      ]
    },
    {
      "cell_type": "code",
      "metadata": {
        "colab": {
          "base_uri": "https://localhost:8080/"
        },
        "id": "Uw4WwvPKELv6",
        "outputId": "1e2c0169-9577-4930-ca42-000d44a0da22"
      },
      "source": [
        "#check the dimension of our dataframe\n",
        "df.shape"
      ],
      "execution_count": null,
      "outputs": [
        {
          "output_type": "execute_result",
          "data": {
            "text/plain": [
              "(181691, 135)"
            ]
          },
          "metadata": {
            "tags": []
          },
          "execution_count": 6
        }
      ]
    },
    {
      "cell_type": "code",
      "metadata": {
        "id": "WjN8KxJCmR0e"
      },
      "source": [
        "#create a new column named casualities\n",
        "df['casualities']=df['nwound']+df['nkill']"
      ],
      "execution_count": null,
      "outputs": []
    },
    {
      "cell_type": "code",
      "metadata": {
        "colab": {
          "base_uri": "https://localhost:8080/"
        },
        "id": "O22ViyTems6H",
        "outputId": "9fdb7030-cc0a-4fba-cd0d-c8a74751ac1c"
      },
      "source": [
        "#after adding new column, dimention of dataframe will change\n",
        "df.shape"
      ],
      "execution_count": null,
      "outputs": [
        {
          "output_type": "execute_result",
          "data": {
            "text/plain": [
              "(181691, 136)"
            ]
          },
          "metadata": {
            "tags": []
          },
          "execution_count": 8
        }
      ]
    },
    {
      "cell_type": "code",
      "metadata": {
        "colab": {
          "base_uri": "https://localhost:8080/"
        },
        "id": "RN9fgZ7eLKye",
        "outputId": "365d7633-e4b8-4ca2-bb45-40d81e14324f"
      },
      "source": [
        "#check the structure ot our dataframe\n",
        "df.info()"
      ],
      "execution_count": null,
      "outputs": [
        {
          "output_type": "stream",
          "text": [
            "<class 'pandas.core.frame.DataFrame'>\n",
            "RangeIndex: 181691 entries, 0 to 181690\n",
            "Columns: 136 entries, eventid to casualities\n",
            "dtypes: float64(56), int64(22), object(58)\n",
            "memory usage: 188.5+ MB\n"
          ],
          "name": "stdout"
        }
      ]
    },
    {
      "cell_type": "code",
      "metadata": {
        "colab": {
          "base_uri": "https://localhost:8080/"
        },
        "id": "zkSU5IqbBh7j",
        "outputId": "21c053f3-e1a3-4b8b-9ecc-e5786e4273eb"
      },
      "source": [
        "df.columns"
      ],
      "execution_count": null,
      "outputs": [
        {
          "output_type": "execute_result",
          "data": {
            "text/plain": [
              "Index(['eventid', 'iyear', 'imonth', 'iday', 'approxdate', 'extended',\n",
              "       'resolution', 'country', 'country_txt', 'region',\n",
              "       ...\n",
              "       'scite1', 'scite2', 'scite3', 'dbsource', 'INT_LOG', 'INT_IDEO',\n",
              "       'INT_MISC', 'INT_ANY', 'related', 'casualities'],\n",
              "      dtype='object', length=136)"
            ]
          },
          "metadata": {
            "tags": []
          },
          "execution_count": 10
        }
      ]
    },
    {
      "cell_type": "code",
      "metadata": {
        "colab": {
          "base_uri": "https://localhost:8080/"
        },
        "id": "5RViwEZSXihj",
        "outputId": "06066dbb-e7f6-4706-e0f8-1892db1953f9"
      },
      "source": [
        "#check the column names of our dataframe\n",
        "df.columns.values"
      ],
      "execution_count": null,
      "outputs": [
        {
          "output_type": "execute_result",
          "data": {
            "text/plain": [
              "array(['eventid', 'iyear', 'imonth', 'iday', 'approxdate', 'extended',\n",
              "       'resolution', 'country', 'country_txt', 'region', 'region_txt',\n",
              "       'provstate', 'city', 'latitude', 'longitude', 'specificity',\n",
              "       'vicinity', 'location', 'summary', 'crit1', 'crit2', 'crit3',\n",
              "       'doubtterr', 'alternative', 'alternative_txt', 'multiple',\n",
              "       'success', 'suicide', 'attacktype1', 'attacktype1_txt',\n",
              "       'attacktype2', 'attacktype2_txt', 'attacktype3', 'attacktype3_txt',\n",
              "       'targtype1', 'targtype1_txt', 'targsubtype1', 'targsubtype1_txt',\n",
              "       'corp1', 'target1', 'natlty1', 'natlty1_txt', 'targtype2',\n",
              "       'targtype2_txt', 'targsubtype2', 'targsubtype2_txt', 'corp2',\n",
              "       'target2', 'natlty2', 'natlty2_txt', 'targtype3', 'targtype3_txt',\n",
              "       'targsubtype3', 'targsubtype3_txt', 'corp3', 'target3', 'natlty3',\n",
              "       'natlty3_txt', 'gname', 'gsubname', 'gname2', 'gsubname2',\n",
              "       'gname3', 'gsubname3', 'motive', 'guncertain1', 'guncertain2',\n",
              "       'guncertain3', 'individual', 'nperps', 'nperpcap', 'claimed',\n",
              "       'claimmode', 'claimmode_txt', 'claim2', 'claimmode2',\n",
              "       'claimmode2_txt', 'claim3', 'claimmode3', 'claimmode3_txt',\n",
              "       'compclaim', 'weaptype1', 'weaptype1_txt', 'weapsubtype1',\n",
              "       'weapsubtype1_txt', 'weaptype2', 'weaptype2_txt', 'weapsubtype2',\n",
              "       'weapsubtype2_txt', 'weaptype3', 'weaptype3_txt', 'weapsubtype3',\n",
              "       'weapsubtype3_txt', 'weaptype4', 'weaptype4_txt', 'weapsubtype4',\n",
              "       'weapsubtype4_txt', 'weapdetail', 'nkill', 'nkillus', 'nkillter',\n",
              "       'nwound', 'nwoundus', 'nwoundte', 'property', 'propextent',\n",
              "       'propextent_txt', 'propvalue', 'propcomment', 'ishostkid',\n",
              "       'nhostkid', 'nhostkidus', 'nhours', 'ndays', 'divert',\n",
              "       'kidhijcountry', 'ransom', 'ransomamt', 'ransomamtus',\n",
              "       'ransompaid', 'ransompaidus', 'ransomnote', 'hostkidoutcome',\n",
              "       'hostkidoutcome_txt', 'nreleased', 'addnotes', 'scite1', 'scite2',\n",
              "       'scite3', 'dbsource', 'INT_LOG', 'INT_IDEO', 'INT_MISC', 'INT_ANY',\n",
              "       'related', 'casualities'], dtype=object)"
            ]
          },
          "metadata": {
            "tags": []
          },
          "execution_count": 11
        }
      ]
    },
    {
      "cell_type": "code",
      "metadata": {
        "colab": {
          "base_uri": "https://localhost:8080/"
        },
        "id": "vX-b3513CbT4",
        "outputId": "d347b1cb-5abc-4823-8cf9-a3891465f979"
      },
      "source": [
        "#lets check the number of data present in each variable\n",
        "df.count()"
      ],
      "execution_count": null,
      "outputs": [
        {
          "output_type": "execute_result",
          "data": {
            "text/plain": [
              "eventid        181691\n",
              "iyear          181691\n",
              "imonth         181691\n",
              "iday           181691\n",
              "approxdate       9239\n",
              "                ...  \n",
              "INT_IDEO       181691\n",
              "INT_MISC       181691\n",
              "INT_ANY        181691\n",
              "related         25038\n",
              "casualities    164817\n",
              "Length: 136, dtype: int64"
            ]
          },
          "metadata": {
            "tags": []
          },
          "execution_count": 12
        }
      ]
    },
    {
      "cell_type": "code",
      "metadata": {
        "id": "9TfUzeNGHXp_",
        "colab": {
          "base_uri": "https://localhost:8080/",
          "height": 319
        },
        "outputId": "19c55893-961b-4dd4-d7cf-478e4bf5acb4"
      },
      "source": [
        "#lets check the short description of our dataframe\n",
        "df.describe()"
      ],
      "execution_count": null,
      "outputs": [
        {
          "output_type": "execute_result",
          "data": {
            "text/html": [
              "<div>\n",
              "<style scoped>\n",
              "    .dataframe tbody tr th:only-of-type {\n",
              "        vertical-align: middle;\n",
              "    }\n",
              "\n",
              "    .dataframe tbody tr th {\n",
              "        vertical-align: top;\n",
              "    }\n",
              "\n",
              "    .dataframe thead th {\n",
              "        text-align: right;\n",
              "    }\n",
              "</style>\n",
              "<table border=\"1\" class=\"dataframe\">\n",
              "  <thead>\n",
              "    <tr style=\"text-align: right;\">\n",
              "      <th></th>\n",
              "      <th>eventid</th>\n",
              "      <th>iyear</th>\n",
              "      <th>imonth</th>\n",
              "      <th>iday</th>\n",
              "      <th>extended</th>\n",
              "      <th>country</th>\n",
              "      <th>region</th>\n",
              "      <th>latitude</th>\n",
              "      <th>longitude</th>\n",
              "      <th>specificity</th>\n",
              "      <th>vicinity</th>\n",
              "      <th>crit1</th>\n",
              "      <th>crit2</th>\n",
              "      <th>crit3</th>\n",
              "      <th>doubtterr</th>\n",
              "      <th>alternative</th>\n",
              "      <th>multiple</th>\n",
              "      <th>success</th>\n",
              "      <th>suicide</th>\n",
              "      <th>attacktype1</th>\n",
              "      <th>attacktype2</th>\n",
              "      <th>attacktype3</th>\n",
              "      <th>targtype1</th>\n",
              "      <th>targsubtype1</th>\n",
              "      <th>natlty1</th>\n",
              "      <th>targtype2</th>\n",
              "      <th>targsubtype2</th>\n",
              "      <th>natlty2</th>\n",
              "      <th>targtype3</th>\n",
              "      <th>targsubtype3</th>\n",
              "      <th>natlty3</th>\n",
              "      <th>guncertain1</th>\n",
              "      <th>guncertain2</th>\n",
              "      <th>guncertain3</th>\n",
              "      <th>individual</th>\n",
              "      <th>nperps</th>\n",
              "      <th>nperpcap</th>\n",
              "      <th>claimed</th>\n",
              "      <th>claimmode</th>\n",
              "      <th>claim2</th>\n",
              "      <th>claimmode2</th>\n",
              "      <th>claim3</th>\n",
              "      <th>claimmode3</th>\n",
              "      <th>compclaim</th>\n",
              "      <th>weaptype1</th>\n",
              "      <th>weapsubtype1</th>\n",
              "      <th>weaptype2</th>\n",
              "      <th>weapsubtype2</th>\n",
              "      <th>weaptype3</th>\n",
              "      <th>weapsubtype3</th>\n",
              "      <th>weaptype4</th>\n",
              "      <th>weapsubtype4</th>\n",
              "      <th>nkill</th>\n",
              "      <th>nkillus</th>\n",
              "      <th>nkillter</th>\n",
              "      <th>nwound</th>\n",
              "      <th>nwoundus</th>\n",
              "      <th>nwoundte</th>\n",
              "      <th>property</th>\n",
              "      <th>propextent</th>\n",
              "      <th>propvalue</th>\n",
              "      <th>ishostkid</th>\n",
              "      <th>nhostkid</th>\n",
              "      <th>nhostkidus</th>\n",
              "      <th>nhours</th>\n",
              "      <th>ndays</th>\n",
              "      <th>ransom</th>\n",
              "      <th>ransomamt</th>\n",
              "      <th>ransomamtus</th>\n",
              "      <th>ransompaid</th>\n",
              "      <th>ransompaidus</th>\n",
              "      <th>hostkidoutcome</th>\n",
              "      <th>nreleased</th>\n",
              "      <th>INT_LOG</th>\n",
              "      <th>INT_IDEO</th>\n",
              "      <th>INT_MISC</th>\n",
              "      <th>INT_ANY</th>\n",
              "      <th>casualities</th>\n",
              "    </tr>\n",
              "  </thead>\n",
              "  <tbody>\n",
              "    <tr>\n",
              "      <th>count</th>\n",
              "      <td>1.816910e+05</td>\n",
              "      <td>181691.000000</td>\n",
              "      <td>181691.000000</td>\n",
              "      <td>181691.000000</td>\n",
              "      <td>181691.000000</td>\n",
              "      <td>181691.000000</td>\n",
              "      <td>181691.000000</td>\n",
              "      <td>177135.000000</td>\n",
              "      <td>1.771340e+05</td>\n",
              "      <td>181685.000000</td>\n",
              "      <td>181691.000000</td>\n",
              "      <td>181691.000000</td>\n",
              "      <td>181691.000000</td>\n",
              "      <td>181691.000000</td>\n",
              "      <td>181690.000000</td>\n",
              "      <td>29011.000000</td>\n",
              "      <td>181690.000000</td>\n",
              "      <td>181691.000000</td>\n",
              "      <td>181691.000000</td>\n",
              "      <td>181691.000000</td>\n",
              "      <td>6314.000000</td>\n",
              "      <td>428.000000</td>\n",
              "      <td>181691.000000</td>\n",
              "      <td>171318.000000</td>\n",
              "      <td>180132.000000</td>\n",
              "      <td>11144.000000</td>\n",
              "      <td>10685.000000</td>\n",
              "      <td>10828.000000</td>\n",
              "      <td>1176.000000</td>\n",
              "      <td>1097.000000</td>\n",
              "      <td>1147.000000</td>\n",
              "      <td>181311.000000</td>\n",
              "      <td>1955.000000</td>\n",
              "      <td>320.000000</td>\n",
              "      <td>181691.000000</td>\n",
              "      <td>110576.000000</td>\n",
              "      <td>112202.000000</td>\n",
              "      <td>115571.000000</td>\n",
              "      <td>19083.000000</td>\n",
              "      <td>1890.000000</td>\n",
              "      <td>616.000000</td>\n",
              "      <td>318.000000</td>\n",
              "      <td>133.000000</td>\n",
              "      <td>4839.000000</td>\n",
              "      <td>181691.000000</td>\n",
              "      <td>160923.000000</td>\n",
              "      <td>13127.000000</td>\n",
              "      <td>11542.000000</td>\n",
              "      <td>1863.000000</td>\n",
              "      <td>1693.000000</td>\n",
              "      <td>73.000000</td>\n",
              "      <td>70.000000</td>\n",
              "      <td>171378.000000</td>\n",
              "      <td>117245.000000</td>\n",
              "      <td>114733.000000</td>\n",
              "      <td>165380.000000</td>\n",
              "      <td>116989.000000</td>\n",
              "      <td>112548.000000</td>\n",
              "      <td>181691.000000</td>\n",
              "      <td>64065.000000</td>\n",
              "      <td>3.898900e+04</td>\n",
              "      <td>181513.000000</td>\n",
              "      <td>13572.000000</td>\n",
              "      <td>13517.000000</td>\n",
              "      <td>4063.000000</td>\n",
              "      <td>8124.000000</td>\n",
              "      <td>77381.000000</td>\n",
              "      <td>1.350000e+03</td>\n",
              "      <td>5.630000e+02</td>\n",
              "      <td>7.740000e+02</td>\n",
              "      <td>552.000000</td>\n",
              "      <td>10991.000000</td>\n",
              "      <td>10400.000000</td>\n",
              "      <td>181691.000000</td>\n",
              "      <td>181691.000000</td>\n",
              "      <td>181691.000000</td>\n",
              "      <td>181691.000000</td>\n",
              "      <td>164817.000000</td>\n",
              "    </tr>\n",
              "    <tr>\n",
              "      <th>mean</th>\n",
              "      <td>2.002705e+11</td>\n",
              "      <td>2002.638997</td>\n",
              "      <td>6.467277</td>\n",
              "      <td>15.505644</td>\n",
              "      <td>0.045346</td>\n",
              "      <td>131.968501</td>\n",
              "      <td>7.160938</td>\n",
              "      <td>23.498343</td>\n",
              "      <td>-4.586957e+02</td>\n",
              "      <td>1.451452</td>\n",
              "      <td>0.068297</td>\n",
              "      <td>0.988530</td>\n",
              "      <td>0.993093</td>\n",
              "      <td>0.875668</td>\n",
              "      <td>-0.523171</td>\n",
              "      <td>1.292923</td>\n",
              "      <td>0.137773</td>\n",
              "      <td>0.889598</td>\n",
              "      <td>0.036507</td>\n",
              "      <td>3.247547</td>\n",
              "      <td>3.719512</td>\n",
              "      <td>5.245327</td>\n",
              "      <td>8.439719</td>\n",
              "      <td>46.971474</td>\n",
              "      <td>127.686441</td>\n",
              "      <td>10.247218</td>\n",
              "      <td>55.311652</td>\n",
              "      <td>131.179442</td>\n",
              "      <td>10.021259</td>\n",
              "      <td>55.548769</td>\n",
              "      <td>144.564952</td>\n",
              "      <td>0.081440</td>\n",
              "      <td>0.265473</td>\n",
              "      <td>0.193750</td>\n",
              "      <td>0.002950</td>\n",
              "      <td>-65.361154</td>\n",
              "      <td>-1.517727</td>\n",
              "      <td>0.049666</td>\n",
              "      <td>7.022848</td>\n",
              "      <td>0.247619</td>\n",
              "      <td>7.176948</td>\n",
              "      <td>0.411950</td>\n",
              "      <td>6.729323</td>\n",
              "      <td>-6.296342</td>\n",
              "      <td>6.447325</td>\n",
              "      <td>11.117162</td>\n",
              "      <td>6.812524</td>\n",
              "      <td>10.754029</td>\n",
              "      <td>6.911433</td>\n",
              "      <td>11.643237</td>\n",
              "      <td>6.246575</td>\n",
              "      <td>10.842857</td>\n",
              "      <td>2.403272</td>\n",
              "      <td>0.045981</td>\n",
              "      <td>0.508058</td>\n",
              "      <td>3.167668</td>\n",
              "      <td>0.038944</td>\n",
              "      <td>0.107163</td>\n",
              "      <td>-0.544556</td>\n",
              "      <td>3.295403</td>\n",
              "      <td>2.088119e+05</td>\n",
              "      <td>0.059054</td>\n",
              "      <td>4.533230</td>\n",
              "      <td>-0.353999</td>\n",
              "      <td>-46.793933</td>\n",
              "      <td>-32.516371</td>\n",
              "      <td>-0.145811</td>\n",
              "      <td>3.172530e+06</td>\n",
              "      <td>5.784865e+05</td>\n",
              "      <td>7.179437e+05</td>\n",
              "      <td>240.378623</td>\n",
              "      <td>4.629242</td>\n",
              "      <td>-29.018269</td>\n",
              "      <td>-4.543731</td>\n",
              "      <td>-4.464398</td>\n",
              "      <td>0.090010</td>\n",
              "      <td>-3.945952</td>\n",
              "      <td>5.296128</td>\n",
              "    </tr>\n",
              "    <tr>\n",
              "      <th>std</th>\n",
              "      <td>1.325957e+09</td>\n",
              "      <td>13.259430</td>\n",
              "      <td>3.388303</td>\n",
              "      <td>8.814045</td>\n",
              "      <td>0.208063</td>\n",
              "      <td>112.414535</td>\n",
              "      <td>2.933408</td>\n",
              "      <td>18.569242</td>\n",
              "      <td>2.047790e+05</td>\n",
              "      <td>0.995430</td>\n",
              "      <td>0.284553</td>\n",
              "      <td>0.106483</td>\n",
              "      <td>0.082823</td>\n",
              "      <td>0.329961</td>\n",
              "      <td>2.455819</td>\n",
              "      <td>0.703729</td>\n",
              "      <td>0.344663</td>\n",
              "      <td>0.313391</td>\n",
              "      <td>0.187549</td>\n",
              "      <td>1.915772</td>\n",
              "      <td>2.272023</td>\n",
              "      <td>2.246642</td>\n",
              "      <td>6.653838</td>\n",
              "      <td>30.953357</td>\n",
              "      <td>89.299120</td>\n",
              "      <td>5.709076</td>\n",
              "      <td>25.640310</td>\n",
              "      <td>125.951485</td>\n",
              "      <td>5.723447</td>\n",
              "      <td>26.288955</td>\n",
              "      <td>163.299295</td>\n",
              "      <td>0.273511</td>\n",
              "      <td>0.441698</td>\n",
              "      <td>0.395854</td>\n",
              "      <td>0.054234</td>\n",
              "      <td>216.536633</td>\n",
              "      <td>12.830346</td>\n",
              "      <td>1.093195</td>\n",
              "      <td>2.476851</td>\n",
              "      <td>0.974018</td>\n",
              "      <td>2.783725</td>\n",
              "      <td>0.492962</td>\n",
              "      <td>2.908003</td>\n",
              "      <td>4.234620</td>\n",
              "      <td>2.173435</td>\n",
              "      <td>6.495612</td>\n",
              "      <td>2.277081</td>\n",
              "      <td>7.594574</td>\n",
              "      <td>2.177956</td>\n",
              "      <td>8.493166</td>\n",
              "      <td>1.507212</td>\n",
              "      <td>8.192672</td>\n",
              "      <td>11.545741</td>\n",
              "      <td>5.681854</td>\n",
              "      <td>4.199937</td>\n",
              "      <td>35.949392</td>\n",
              "      <td>3.057361</td>\n",
              "      <td>1.488881</td>\n",
              "      <td>3.122889</td>\n",
              "      <td>0.486912</td>\n",
              "      <td>1.552463e+07</td>\n",
              "      <td>0.461244</td>\n",
              "      <td>202.316386</td>\n",
              "      <td>6.835645</td>\n",
              "      <td>82.800405</td>\n",
              "      <td>121.209205</td>\n",
              "      <td>1.207861</td>\n",
              "      <td>3.021157e+07</td>\n",
              "      <td>7.077924e+06</td>\n",
              "      <td>1.014392e+07</td>\n",
              "      <td>2940.967293</td>\n",
              "      <td>2.035360</td>\n",
              "      <td>65.720119</td>\n",
              "      <td>4.543547</td>\n",
              "      <td>4.637152</td>\n",
              "      <td>0.568457</td>\n",
              "      <td>4.691325</td>\n",
              "      <td>42.069023</td>\n",
              "    </tr>\n",
              "    <tr>\n",
              "      <th>min</th>\n",
              "      <td>1.970000e+11</td>\n",
              "      <td>1970.000000</td>\n",
              "      <td>0.000000</td>\n",
              "      <td>0.000000</td>\n",
              "      <td>0.000000</td>\n",
              "      <td>4.000000</td>\n",
              "      <td>1.000000</td>\n",
              "      <td>-53.154613</td>\n",
              "      <td>-8.618590e+07</td>\n",
              "      <td>1.000000</td>\n",
              "      <td>-9.000000</td>\n",
              "      <td>0.000000</td>\n",
              "      <td>0.000000</td>\n",
              "      <td>0.000000</td>\n",
              "      <td>-9.000000</td>\n",
              "      <td>1.000000</td>\n",
              "      <td>0.000000</td>\n",
              "      <td>0.000000</td>\n",
              "      <td>0.000000</td>\n",
              "      <td>1.000000</td>\n",
              "      <td>1.000000</td>\n",
              "      <td>1.000000</td>\n",
              "      <td>1.000000</td>\n",
              "      <td>1.000000</td>\n",
              "      <td>4.000000</td>\n",
              "      <td>1.000000</td>\n",
              "      <td>1.000000</td>\n",
              "      <td>4.000000</td>\n",
              "      <td>1.000000</td>\n",
              "      <td>1.000000</td>\n",
              "      <td>4.000000</td>\n",
              "      <td>0.000000</td>\n",
              "      <td>0.000000</td>\n",
              "      <td>0.000000</td>\n",
              "      <td>0.000000</td>\n",
              "      <td>-99.000000</td>\n",
              "      <td>-99.000000</td>\n",
              "      <td>-9.000000</td>\n",
              "      <td>1.000000</td>\n",
              "      <td>-9.000000</td>\n",
              "      <td>1.000000</td>\n",
              "      <td>0.000000</td>\n",
              "      <td>1.000000</td>\n",
              "      <td>-9.000000</td>\n",
              "      <td>1.000000</td>\n",
              "      <td>1.000000</td>\n",
              "      <td>1.000000</td>\n",
              "      <td>1.000000</td>\n",
              "      <td>2.000000</td>\n",
              "      <td>1.000000</td>\n",
              "      <td>5.000000</td>\n",
              "      <td>2.000000</td>\n",
              "      <td>0.000000</td>\n",
              "      <td>0.000000</td>\n",
              "      <td>0.000000</td>\n",
              "      <td>0.000000</td>\n",
              "      <td>0.000000</td>\n",
              "      <td>0.000000</td>\n",
              "      <td>-9.000000</td>\n",
              "      <td>1.000000</td>\n",
              "      <td>-9.900000e+01</td>\n",
              "      <td>-9.000000</td>\n",
              "      <td>-99.000000</td>\n",
              "      <td>-99.000000</td>\n",
              "      <td>-99.000000</td>\n",
              "      <td>-99.000000</td>\n",
              "      <td>-9.000000</td>\n",
              "      <td>-9.900000e+01</td>\n",
              "      <td>-9.900000e+01</td>\n",
              "      <td>-9.900000e+01</td>\n",
              "      <td>-99.000000</td>\n",
              "      <td>1.000000</td>\n",
              "      <td>-99.000000</td>\n",
              "      <td>-9.000000</td>\n",
              "      <td>-9.000000</td>\n",
              "      <td>-9.000000</td>\n",
              "      <td>-9.000000</td>\n",
              "      <td>0.000000</td>\n",
              "    </tr>\n",
              "    <tr>\n",
              "      <th>25%</th>\n",
              "      <td>1.991021e+11</td>\n",
              "      <td>1991.000000</td>\n",
              "      <td>4.000000</td>\n",
              "      <td>8.000000</td>\n",
              "      <td>0.000000</td>\n",
              "      <td>78.000000</td>\n",
              "      <td>5.000000</td>\n",
              "      <td>11.510046</td>\n",
              "      <td>4.545640e+00</td>\n",
              "      <td>1.000000</td>\n",
              "      <td>0.000000</td>\n",
              "      <td>1.000000</td>\n",
              "      <td>1.000000</td>\n",
              "      <td>1.000000</td>\n",
              "      <td>0.000000</td>\n",
              "      <td>1.000000</td>\n",
              "      <td>0.000000</td>\n",
              "      <td>1.000000</td>\n",
              "      <td>0.000000</td>\n",
              "      <td>2.000000</td>\n",
              "      <td>2.000000</td>\n",
              "      <td>2.000000</td>\n",
              "      <td>3.000000</td>\n",
              "      <td>22.000000</td>\n",
              "      <td>83.000000</td>\n",
              "      <td>4.000000</td>\n",
              "      <td>34.000000</td>\n",
              "      <td>92.000000</td>\n",
              "      <td>3.000000</td>\n",
              "      <td>33.000000</td>\n",
              "      <td>75.000000</td>\n",
              "      <td>0.000000</td>\n",
              "      <td>0.000000</td>\n",
              "      <td>0.000000</td>\n",
              "      <td>0.000000</td>\n",
              "      <td>-99.000000</td>\n",
              "      <td>0.000000</td>\n",
              "      <td>0.000000</td>\n",
              "      <td>6.000000</td>\n",
              "      <td>0.000000</td>\n",
              "      <td>6.000000</td>\n",
              "      <td>0.000000</td>\n",
              "      <td>4.000000</td>\n",
              "      <td>-9.000000</td>\n",
              "      <td>5.000000</td>\n",
              "      <td>5.000000</td>\n",
              "      <td>5.000000</td>\n",
              "      <td>5.000000</td>\n",
              "      <td>5.000000</td>\n",
              "      <td>4.000000</td>\n",
              "      <td>5.000000</td>\n",
              "      <td>3.000000</td>\n",
              "      <td>0.000000</td>\n",
              "      <td>0.000000</td>\n",
              "      <td>0.000000</td>\n",
              "      <td>0.000000</td>\n",
              "      <td>0.000000</td>\n",
              "      <td>0.000000</td>\n",
              "      <td>0.000000</td>\n",
              "      <td>3.000000</td>\n",
              "      <td>-9.900000e+01</td>\n",
              "      <td>0.000000</td>\n",
              "      <td>1.000000</td>\n",
              "      <td>0.000000</td>\n",
              "      <td>-99.000000</td>\n",
              "      <td>-99.000000</td>\n",
              "      <td>0.000000</td>\n",
              "      <td>0.000000e+00</td>\n",
              "      <td>0.000000e+00</td>\n",
              "      <td>-9.900000e+01</td>\n",
              "      <td>0.000000</td>\n",
              "      <td>2.000000</td>\n",
              "      <td>-99.000000</td>\n",
              "      <td>-9.000000</td>\n",
              "      <td>-9.000000</td>\n",
              "      <td>0.000000</td>\n",
              "      <td>-9.000000</td>\n",
              "      <td>0.000000</td>\n",
              "    </tr>\n",
              "    <tr>\n",
              "      <th>50%</th>\n",
              "      <td>2.009022e+11</td>\n",
              "      <td>2009.000000</td>\n",
              "      <td>6.000000</td>\n",
              "      <td>15.000000</td>\n",
              "      <td>0.000000</td>\n",
              "      <td>98.000000</td>\n",
              "      <td>6.000000</td>\n",
              "      <td>31.467463</td>\n",
              "      <td>4.324651e+01</td>\n",
              "      <td>1.000000</td>\n",
              "      <td>0.000000</td>\n",
              "      <td>1.000000</td>\n",
              "      <td>1.000000</td>\n",
              "      <td>1.000000</td>\n",
              "      <td>0.000000</td>\n",
              "      <td>1.000000</td>\n",
              "      <td>0.000000</td>\n",
              "      <td>1.000000</td>\n",
              "      <td>0.000000</td>\n",
              "      <td>3.000000</td>\n",
              "      <td>2.000000</td>\n",
              "      <td>7.000000</td>\n",
              "      <td>4.000000</td>\n",
              "      <td>35.000000</td>\n",
              "      <td>101.000000</td>\n",
              "      <td>14.000000</td>\n",
              "      <td>67.000000</td>\n",
              "      <td>98.000000</td>\n",
              "      <td>14.000000</td>\n",
              "      <td>67.000000</td>\n",
              "      <td>110.000000</td>\n",
              "      <td>0.000000</td>\n",
              "      <td>0.000000</td>\n",
              "      <td>0.000000</td>\n",
              "      <td>0.000000</td>\n",
              "      <td>-99.000000</td>\n",
              "      <td>0.000000</td>\n",
              "      <td>0.000000</td>\n",
              "      <td>8.000000</td>\n",
              "      <td>0.000000</td>\n",
              "      <td>7.000000</td>\n",
              "      <td>0.000000</td>\n",
              "      <td>7.000000</td>\n",
              "      <td>-9.000000</td>\n",
              "      <td>6.000000</td>\n",
              "      <td>12.000000</td>\n",
              "      <td>6.000000</td>\n",
              "      <td>7.000000</td>\n",
              "      <td>6.000000</td>\n",
              "      <td>7.000000</td>\n",
              "      <td>6.000000</td>\n",
              "      <td>9.500000</td>\n",
              "      <td>0.000000</td>\n",
              "      <td>0.000000</td>\n",
              "      <td>0.000000</td>\n",
              "      <td>0.000000</td>\n",
              "      <td>0.000000</td>\n",
              "      <td>0.000000</td>\n",
              "      <td>1.000000</td>\n",
              "      <td>3.000000</td>\n",
              "      <td>-9.900000e+01</td>\n",
              "      <td>0.000000</td>\n",
              "      <td>2.000000</td>\n",
              "      <td>0.000000</td>\n",
              "      <td>-99.000000</td>\n",
              "      <td>-99.000000</td>\n",
              "      <td>0.000000</td>\n",
              "      <td>1.500000e+04</td>\n",
              "      <td>0.000000e+00</td>\n",
              "      <td>0.000000e+00</td>\n",
              "      <td>0.000000</td>\n",
              "      <td>4.000000</td>\n",
              "      <td>0.000000</td>\n",
              "      <td>-9.000000</td>\n",
              "      <td>-9.000000</td>\n",
              "      <td>0.000000</td>\n",
              "      <td>0.000000</td>\n",
              "      <td>1.000000</td>\n",
              "    </tr>\n",
              "    <tr>\n",
              "      <th>75%</th>\n",
              "      <td>2.014081e+11</td>\n",
              "      <td>2014.000000</td>\n",
              "      <td>9.000000</td>\n",
              "      <td>23.000000</td>\n",
              "      <td>0.000000</td>\n",
              "      <td>160.000000</td>\n",
              "      <td>10.000000</td>\n",
              "      <td>34.685087</td>\n",
              "      <td>6.871033e+01</td>\n",
              "      <td>1.000000</td>\n",
              "      <td>0.000000</td>\n",
              "      <td>1.000000</td>\n",
              "      <td>1.000000</td>\n",
              "      <td>1.000000</td>\n",
              "      <td>0.000000</td>\n",
              "      <td>1.000000</td>\n",
              "      <td>0.000000</td>\n",
              "      <td>1.000000</td>\n",
              "      <td>0.000000</td>\n",
              "      <td>3.000000</td>\n",
              "      <td>7.000000</td>\n",
              "      <td>7.000000</td>\n",
              "      <td>14.000000</td>\n",
              "      <td>74.000000</td>\n",
              "      <td>173.000000</td>\n",
              "      <td>14.000000</td>\n",
              "      <td>69.000000</td>\n",
              "      <td>182.000000</td>\n",
              "      <td>14.000000</td>\n",
              "      <td>73.000000</td>\n",
              "      <td>182.000000</td>\n",
              "      <td>0.000000</td>\n",
              "      <td>1.000000</td>\n",
              "      <td>0.000000</td>\n",
              "      <td>0.000000</td>\n",
              "      <td>1.000000</td>\n",
              "      <td>0.000000</td>\n",
              "      <td>0.000000</td>\n",
              "      <td>8.000000</td>\n",
              "      <td>1.000000</td>\n",
              "      <td>10.000000</td>\n",
              "      <td>1.000000</td>\n",
              "      <td>9.000000</td>\n",
              "      <td>0.000000</td>\n",
              "      <td>6.000000</td>\n",
              "      <td>16.000000</td>\n",
              "      <td>8.000000</td>\n",
              "      <td>18.000000</td>\n",
              "      <td>9.000000</td>\n",
              "      <td>20.000000</td>\n",
              "      <td>6.000000</td>\n",
              "      <td>16.000000</td>\n",
              "      <td>2.000000</td>\n",
              "      <td>0.000000</td>\n",
              "      <td>0.000000</td>\n",
              "      <td>2.000000</td>\n",
              "      <td>0.000000</td>\n",
              "      <td>0.000000</td>\n",
              "      <td>1.000000</td>\n",
              "      <td>4.000000</td>\n",
              "      <td>1.000000e+03</td>\n",
              "      <td>0.000000</td>\n",
              "      <td>4.000000</td>\n",
              "      <td>0.000000</td>\n",
              "      <td>0.000000</td>\n",
              "      <td>4.000000</td>\n",
              "      <td>0.000000</td>\n",
              "      <td>4.000000e+05</td>\n",
              "      <td>0.000000e+00</td>\n",
              "      <td>1.273412e+03</td>\n",
              "      <td>0.000000</td>\n",
              "      <td>7.000000</td>\n",
              "      <td>1.000000</td>\n",
              "      <td>0.000000</td>\n",
              "      <td>0.000000</td>\n",
              "      <td>0.000000</td>\n",
              "      <td>0.000000</td>\n",
              "      <td>4.000000</td>\n",
              "    </tr>\n",
              "    <tr>\n",
              "      <th>max</th>\n",
              "      <td>2.017123e+11</td>\n",
              "      <td>2017.000000</td>\n",
              "      <td>12.000000</td>\n",
              "      <td>31.000000</td>\n",
              "      <td>1.000000</td>\n",
              "      <td>1004.000000</td>\n",
              "      <td>12.000000</td>\n",
              "      <td>74.633553</td>\n",
              "      <td>1.793667e+02</td>\n",
              "      <td>5.000000</td>\n",
              "      <td>1.000000</td>\n",
              "      <td>1.000000</td>\n",
              "      <td>1.000000</td>\n",
              "      <td>1.000000</td>\n",
              "      <td>1.000000</td>\n",
              "      <td>5.000000</td>\n",
              "      <td>1.000000</td>\n",
              "      <td>1.000000</td>\n",
              "      <td>1.000000</td>\n",
              "      <td>9.000000</td>\n",
              "      <td>9.000000</td>\n",
              "      <td>8.000000</td>\n",
              "      <td>22.000000</td>\n",
              "      <td>113.000000</td>\n",
              "      <td>1004.000000</td>\n",
              "      <td>22.000000</td>\n",
              "      <td>113.000000</td>\n",
              "      <td>1004.000000</td>\n",
              "      <td>22.000000</td>\n",
              "      <td>113.000000</td>\n",
              "      <td>1004.000000</td>\n",
              "      <td>1.000000</td>\n",
              "      <td>1.000000</td>\n",
              "      <td>1.000000</td>\n",
              "      <td>1.000000</td>\n",
              "      <td>25000.000000</td>\n",
              "      <td>406.000000</td>\n",
              "      <td>1.000000</td>\n",
              "      <td>10.000000</td>\n",
              "      <td>1.000000</td>\n",
              "      <td>10.000000</td>\n",
              "      <td>1.000000</td>\n",
              "      <td>10.000000</td>\n",
              "      <td>1.000000</td>\n",
              "      <td>13.000000</td>\n",
              "      <td>31.000000</td>\n",
              "      <td>13.000000</td>\n",
              "      <td>31.000000</td>\n",
              "      <td>13.000000</td>\n",
              "      <td>28.000000</td>\n",
              "      <td>12.000000</td>\n",
              "      <td>28.000000</td>\n",
              "      <td>1570.000000</td>\n",
              "      <td>1360.000000</td>\n",
              "      <td>500.000000</td>\n",
              "      <td>8191.000000</td>\n",
              "      <td>751.000000</td>\n",
              "      <td>200.000000</td>\n",
              "      <td>1.000000</td>\n",
              "      <td>4.000000</td>\n",
              "      <td>2.700000e+09</td>\n",
              "      <td>1.000000</td>\n",
              "      <td>17000.000000</td>\n",
              "      <td>86.000000</td>\n",
              "      <td>999.000000</td>\n",
              "      <td>2454.000000</td>\n",
              "      <td>1.000000</td>\n",
              "      <td>1.000000e+09</td>\n",
              "      <td>1.320000e+08</td>\n",
              "      <td>2.750000e+08</td>\n",
              "      <td>48000.000000</td>\n",
              "      <td>7.000000</td>\n",
              "      <td>2769.000000</td>\n",
              "      <td>1.000000</td>\n",
              "      <td>1.000000</td>\n",
              "      <td>1.000000</td>\n",
              "      <td>1.000000</td>\n",
              "      <td>9574.000000</td>\n",
              "    </tr>\n",
              "  </tbody>\n",
              "</table>\n",
              "</div>"
            ],
            "text/plain": [
              "            eventid          iyear  ...        INT_ANY    casualities\n",
              "count  1.816910e+05  181691.000000  ...  181691.000000  164817.000000\n",
              "mean   2.002705e+11    2002.638997  ...      -3.945952       5.296128\n",
              "std    1.325957e+09      13.259430  ...       4.691325      42.069023\n",
              "min    1.970000e+11    1970.000000  ...      -9.000000       0.000000\n",
              "25%    1.991021e+11    1991.000000  ...      -9.000000       0.000000\n",
              "50%    2.009022e+11    2009.000000  ...       0.000000       1.000000\n",
              "75%    2.014081e+11    2014.000000  ...       0.000000       4.000000\n",
              "max    2.017123e+11    2017.000000  ...       1.000000    9574.000000\n",
              "\n",
              "[8 rows x 78 columns]"
            ]
          },
          "metadata": {
            "tags": []
          },
          "execution_count": 14
        }
      ]
    },
    {
      "cell_type": "code",
      "metadata": {
        "colab": {
          "base_uri": "https://localhost:8080/",
          "height": 218
        },
        "id": "SVmETdKmNhdu",
        "outputId": "2d3bc0bd-afd1-4cb7-9c23-da6a22c5173e"
      },
      "source": [
        "#we want to keep only few columns as per our requirement\n",
        "df_1 = df[['iyear','imonth','iday','country_txt','region_txt','city','latitude','longitude','attacktype1_txt','target1','nkill','nwound','casualities','summary','gname','targtype1_txt','weaptype1_txt','success','motive']]\n",
        "df_1.head(2)"
      ],
      "execution_count": null,
      "outputs": [
        {
          "output_type": "execute_result",
          "data": {
            "text/html": [
              "<div>\n",
              "<style scoped>\n",
              "    .dataframe tbody tr th:only-of-type {\n",
              "        vertical-align: middle;\n",
              "    }\n",
              "\n",
              "    .dataframe tbody tr th {\n",
              "        vertical-align: top;\n",
              "    }\n",
              "\n",
              "    .dataframe thead th {\n",
              "        text-align: right;\n",
              "    }\n",
              "</style>\n",
              "<table border=\"1\" class=\"dataframe\">\n",
              "  <thead>\n",
              "    <tr style=\"text-align: right;\">\n",
              "      <th></th>\n",
              "      <th>iyear</th>\n",
              "      <th>imonth</th>\n",
              "      <th>iday</th>\n",
              "      <th>country_txt</th>\n",
              "      <th>region_txt</th>\n",
              "      <th>city</th>\n",
              "      <th>latitude</th>\n",
              "      <th>longitude</th>\n",
              "      <th>attacktype1_txt</th>\n",
              "      <th>target1</th>\n",
              "      <th>nkill</th>\n",
              "      <th>nwound</th>\n",
              "      <th>casualities</th>\n",
              "      <th>summary</th>\n",
              "      <th>gname</th>\n",
              "      <th>targtype1_txt</th>\n",
              "      <th>weaptype1_txt</th>\n",
              "      <th>success</th>\n",
              "      <th>motive</th>\n",
              "    </tr>\n",
              "  </thead>\n",
              "  <tbody>\n",
              "    <tr>\n",
              "      <th>0</th>\n",
              "      <td>1970</td>\n",
              "      <td>7</td>\n",
              "      <td>2</td>\n",
              "      <td>Dominican Republic</td>\n",
              "      <td>Central America &amp; Caribbean</td>\n",
              "      <td>Santo Domingo</td>\n",
              "      <td>18.456792</td>\n",
              "      <td>-69.951164</td>\n",
              "      <td>Assassination</td>\n",
              "      <td>Julio Guzman</td>\n",
              "      <td>1.0</td>\n",
              "      <td>0.0</td>\n",
              "      <td>1.0</td>\n",
              "      <td>NaN</td>\n",
              "      <td>MANO-D</td>\n",
              "      <td>Private Citizens &amp; Property</td>\n",
              "      <td>Unknown</td>\n",
              "      <td>1</td>\n",
              "      <td>NaN</td>\n",
              "    </tr>\n",
              "    <tr>\n",
              "      <th>1</th>\n",
              "      <td>1970</td>\n",
              "      <td>0</td>\n",
              "      <td>0</td>\n",
              "      <td>Mexico</td>\n",
              "      <td>North America</td>\n",
              "      <td>Mexico city</td>\n",
              "      <td>19.371887</td>\n",
              "      <td>-99.086624</td>\n",
              "      <td>Hostage Taking (Kidnapping)</td>\n",
              "      <td>Nadine Chaval, daughter</td>\n",
              "      <td>0.0</td>\n",
              "      <td>0.0</td>\n",
              "      <td>0.0</td>\n",
              "      <td>NaN</td>\n",
              "      <td>23rd of September Communist League</td>\n",
              "      <td>Government (Diplomatic)</td>\n",
              "      <td>Unknown</td>\n",
              "      <td>1</td>\n",
              "      <td>NaN</td>\n",
              "    </tr>\n",
              "  </tbody>\n",
              "</table>\n",
              "</div>"
            ],
            "text/plain": [
              "   iyear  imonth  iday  ... weaptype1_txt success motive\n",
              "0   1970       7     2  ...       Unknown       1    NaN\n",
              "1   1970       0     0  ...       Unknown       1    NaN\n",
              "\n",
              "[2 rows x 19 columns]"
            ]
          },
          "metadata": {
            "tags": []
          },
          "execution_count": 15
        }
      ]
    },
    {
      "cell_type": "code",
      "metadata": {
        "colab": {
          "base_uri": "https://localhost:8080/"
        },
        "id": "AQnD5TiOU2LD",
        "outputId": "87537c20-7bda-4aea-cecc-ca0b185a9846"
      },
      "source": [
        "#now check the shape of required dataframe\n",
        "df_1.shape"
      ],
      "execution_count": null,
      "outputs": [
        {
          "output_type": "execute_result",
          "data": {
            "text/plain": [
              "(181691, 19)"
            ]
          },
          "metadata": {
            "tags": []
          },
          "execution_count": 16
        }
      ]
    },
    {
      "cell_type": "code",
      "metadata": {
        "colab": {
          "base_uri": "https://localhost:8080/"
        },
        "id": "dqsftUr0hEtd",
        "outputId": "4bd2f871-b4c1-464e-9b88-a136ce12b993"
      },
      "source": [
        "#checking for Null values/missing data\n",
        "df_1.isnull().sum()"
      ],
      "execution_count": null,
      "outputs": [
        {
          "output_type": "execute_result",
          "data": {
            "text/plain": [
              "iyear                   0\n",
              "imonth                  0\n",
              "iday                    0\n",
              "country_txt             0\n",
              "region_txt              0\n",
              "city                  434\n",
              "latitude             4556\n",
              "longitude            4557\n",
              "attacktype1_txt         0\n",
              "target1               636\n",
              "nkill               10313\n",
              "nwound              16311\n",
              "casualities         16874\n",
              "summary             66129\n",
              "gname                   0\n",
              "targtype1_txt           0\n",
              "weaptype1_txt           0\n",
              "success                 0\n",
              "motive             131130\n",
              "dtype: int64"
            ]
          },
          "metadata": {
            "tags": []
          },
          "execution_count": 17
        }
      ]
    },
    {
      "cell_type": "code",
      "metadata": {
        "colab": {
          "base_uri": "https://localhost:8080/"
        },
        "id": "8Ww-44kpg8tD",
        "outputId": "4bbbc614-fd2b-4c2a-a845-85b0763e2cc3"
      },
      "source": [
        "#checking the percentage of missing data\n",
        "missing_value_percentage = df_1.isnull().sum()*100/len(df)\n",
        "missing_value_percentage"
      ],
      "execution_count": null,
      "outputs": [
        {
          "output_type": "execute_result",
          "data": {
            "text/plain": [
              "iyear               0.000000\n",
              "imonth              0.000000\n",
              "iday                0.000000\n",
              "country_txt         0.000000\n",
              "region_txt          0.000000\n",
              "city                0.238867\n",
              "latitude            2.507554\n",
              "longitude           2.508104\n",
              "attacktype1_txt     0.000000\n",
              "target1             0.350045\n",
              "nkill               5.676120\n",
              "nwound              8.977330\n",
              "casualities         9.287196\n",
              "summary            36.396409\n",
              "gname               0.000000\n",
              "targtype1_txt       0.000000\n",
              "weaptype1_txt       0.000000\n",
              "success             0.000000\n",
              "motive             72.171984\n",
              "dtype: float64"
            ]
          },
          "metadata": {
            "tags": []
          },
          "execution_count": 18
        }
      ]
    },
    {
      "cell_type": "code",
      "metadata": {
        "colab": {
          "base_uri": "https://localhost:8080/"
        },
        "id": "zhJRrVWXt8Pu",
        "outputId": "f1899408-c59c-4305-a512-ea80095087ef"
      },
      "source": [
        "#as variable motive contains more than 70% nan values we have to drop that column\n",
        "df_1.drop(['motive'],axis=1,inplace=True)"
      ],
      "execution_count": null,
      "outputs": [
        {
          "output_type": "stream",
          "text": [
            "/usr/local/lib/python3.7/dist-packages/pandas/core/frame.py:4174: SettingWithCopyWarning: \n",
            "A value is trying to be set on a copy of a slice from a DataFrame\n",
            "\n",
            "See the caveats in the documentation: https://pandas.pydata.org/pandas-docs/stable/user_guide/indexing.html#returning-a-view-versus-a-copy\n",
            "  errors=errors,\n"
          ],
          "name": "stderr"
        }
      ]
    },
    {
      "cell_type": "code",
      "metadata": {
        "colab": {
          "base_uri": "https://localhost:8080/"
        },
        "id": "a1u-kBXSMsXK",
        "outputId": "fe349be5-0ac7-4fb6-cd50-f539bfeee49b"
      },
      "source": [
        "df_1.shape"
      ],
      "execution_count": null,
      "outputs": [
        {
          "output_type": "execute_result",
          "data": {
            "text/plain": [
              "(181691, 18)"
            ]
          },
          "metadata": {
            "tags": []
          },
          "execution_count": 20
        }
      ]
    },
    {
      "cell_type": "code",
      "metadata": {
        "colab": {
          "base_uri": "https://localhost:8080/",
          "height": 218
        },
        "id": "z9A2bxQ6vHOB",
        "outputId": "dd81ce41-12dc-40c2-f3d6-ee428541ed4a"
      },
      "source": [
        "df_1.head(2)"
      ],
      "execution_count": null,
      "outputs": [
        {
          "output_type": "execute_result",
          "data": {
            "text/html": [
              "<div>\n",
              "<style scoped>\n",
              "    .dataframe tbody tr th:only-of-type {\n",
              "        vertical-align: middle;\n",
              "    }\n",
              "\n",
              "    .dataframe tbody tr th {\n",
              "        vertical-align: top;\n",
              "    }\n",
              "\n",
              "    .dataframe thead th {\n",
              "        text-align: right;\n",
              "    }\n",
              "</style>\n",
              "<table border=\"1\" class=\"dataframe\">\n",
              "  <thead>\n",
              "    <tr style=\"text-align: right;\">\n",
              "      <th></th>\n",
              "      <th>iyear</th>\n",
              "      <th>imonth</th>\n",
              "      <th>iday</th>\n",
              "      <th>country_txt</th>\n",
              "      <th>region_txt</th>\n",
              "      <th>city</th>\n",
              "      <th>latitude</th>\n",
              "      <th>longitude</th>\n",
              "      <th>attacktype1_txt</th>\n",
              "      <th>target1</th>\n",
              "      <th>nkill</th>\n",
              "      <th>nwound</th>\n",
              "      <th>casualities</th>\n",
              "      <th>summary</th>\n",
              "      <th>gname</th>\n",
              "      <th>targtype1_txt</th>\n",
              "      <th>weaptype1_txt</th>\n",
              "      <th>success</th>\n",
              "    </tr>\n",
              "  </thead>\n",
              "  <tbody>\n",
              "    <tr>\n",
              "      <th>0</th>\n",
              "      <td>1970</td>\n",
              "      <td>7</td>\n",
              "      <td>2</td>\n",
              "      <td>Dominican Republic</td>\n",
              "      <td>Central America &amp; Caribbean</td>\n",
              "      <td>Santo Domingo</td>\n",
              "      <td>18.456792</td>\n",
              "      <td>-69.951164</td>\n",
              "      <td>Assassination</td>\n",
              "      <td>Julio Guzman</td>\n",
              "      <td>1.0</td>\n",
              "      <td>0.0</td>\n",
              "      <td>1.0</td>\n",
              "      <td>NaN</td>\n",
              "      <td>MANO-D</td>\n",
              "      <td>Private Citizens &amp; Property</td>\n",
              "      <td>Unknown</td>\n",
              "      <td>1</td>\n",
              "    </tr>\n",
              "    <tr>\n",
              "      <th>1</th>\n",
              "      <td>1970</td>\n",
              "      <td>0</td>\n",
              "      <td>0</td>\n",
              "      <td>Mexico</td>\n",
              "      <td>North America</td>\n",
              "      <td>Mexico city</td>\n",
              "      <td>19.371887</td>\n",
              "      <td>-99.086624</td>\n",
              "      <td>Hostage Taking (Kidnapping)</td>\n",
              "      <td>Nadine Chaval, daughter</td>\n",
              "      <td>0.0</td>\n",
              "      <td>0.0</td>\n",
              "      <td>0.0</td>\n",
              "      <td>NaN</td>\n",
              "      <td>23rd of September Communist League</td>\n",
              "      <td>Government (Diplomatic)</td>\n",
              "      <td>Unknown</td>\n",
              "      <td>1</td>\n",
              "    </tr>\n",
              "  </tbody>\n",
              "</table>\n",
              "</div>"
            ],
            "text/plain": [
              "   iyear  imonth  iday  ...                targtype1_txt weaptype1_txt success\n",
              "0   1970       7     2  ...  Private Citizens & Property       Unknown       1\n",
              "1   1970       0     0  ...      Government (Diplomatic)       Unknown       1\n",
              "\n",
              "[2 rows x 18 columns]"
            ]
          },
          "metadata": {
            "tags": []
          },
          "execution_count": 21
        }
      ]
    },
    {
      "cell_type": "code",
      "metadata": {
        "colab": {
          "base_uri": "https://localhost:8080/",
          "height": 331
        },
        "id": "9fwNyMKDPbWt",
        "outputId": "edd02f9e-b6c6-4a03-946e-65d31c624632"
      },
      "source": [
        "#to know the correlation between our dataframe\n",
        "corr_df = df_1.corr()\n",
        "corr_df"
      ],
      "execution_count": null,
      "outputs": [
        {
          "output_type": "execute_result",
          "data": {
            "text/html": [
              "<div>\n",
              "<style scoped>\n",
              "    .dataframe tbody tr th:only-of-type {\n",
              "        vertical-align: middle;\n",
              "    }\n",
              "\n",
              "    .dataframe tbody tr th {\n",
              "        vertical-align: top;\n",
              "    }\n",
              "\n",
              "    .dataframe thead th {\n",
              "        text-align: right;\n",
              "    }\n",
              "</style>\n",
              "<table border=\"1\" class=\"dataframe\">\n",
              "  <thead>\n",
              "    <tr style=\"text-align: right;\">\n",
              "      <th></th>\n",
              "      <th>iyear</th>\n",
              "      <th>imonth</th>\n",
              "      <th>iday</th>\n",
              "      <th>latitude</th>\n",
              "      <th>longitude</th>\n",
              "      <th>nkill</th>\n",
              "      <th>nwound</th>\n",
              "      <th>casualities</th>\n",
              "      <th>success</th>\n",
              "    </tr>\n",
              "  </thead>\n",
              "  <tbody>\n",
              "    <tr>\n",
              "      <th>iyear</th>\n",
              "      <td>1.000000</td>\n",
              "      <td>0.000139</td>\n",
              "      <td>0.018254</td>\n",
              "      <td>0.166933</td>\n",
              "      <td>0.003917</td>\n",
              "      <td>0.015341</td>\n",
              "      <td>0.015273</td>\n",
              "      <td>0.013934</td>\n",
              "      <td>-0.082963</td>\n",
              "    </tr>\n",
              "    <tr>\n",
              "      <th>imonth</th>\n",
              "      <td>0.000139</td>\n",
              "      <td>1.000000</td>\n",
              "      <td>0.005497</td>\n",
              "      <td>-0.015978</td>\n",
              "      <td>-0.003880</td>\n",
              "      <td>0.003463</td>\n",
              "      <td>0.002938</td>\n",
              "      <td>0.003446</td>\n",
              "      <td>-0.002845</td>\n",
              "    </tr>\n",
              "    <tr>\n",
              "      <th>iday</th>\n",
              "      <td>0.018254</td>\n",
              "      <td>0.005497</td>\n",
              "      <td>1.000000</td>\n",
              "      <td>0.003423</td>\n",
              "      <td>-0.002285</td>\n",
              "      <td>-0.003693</td>\n",
              "      <td>-0.001268</td>\n",
              "      <td>-0.001269</td>\n",
              "      <td>-0.011802</td>\n",
              "    </tr>\n",
              "    <tr>\n",
              "      <th>latitude</th>\n",
              "      <td>0.166933</td>\n",
              "      <td>-0.015978</td>\n",
              "      <td>0.003423</td>\n",
              "      <td>1.000000</td>\n",
              "      <td>0.001463</td>\n",
              "      <td>-0.018124</td>\n",
              "      <td>0.015988</td>\n",
              "      <td>0.009996</td>\n",
              "      <td>-0.073715</td>\n",
              "    </tr>\n",
              "    <tr>\n",
              "      <th>longitude</th>\n",
              "      <td>0.003917</td>\n",
              "      <td>-0.003880</td>\n",
              "      <td>-0.002285</td>\n",
              "      <td>0.001463</td>\n",
              "      <td>1.000000</td>\n",
              "      <td>-0.000562</td>\n",
              "      <td>0.000223</td>\n",
              "      <td>0.000021</td>\n",
              "      <td>-0.000858</td>\n",
              "    </tr>\n",
              "    <tr>\n",
              "      <th>nkill</th>\n",
              "      <td>0.015341</td>\n",
              "      <td>0.003463</td>\n",
              "      <td>-0.003693</td>\n",
              "      <td>-0.018124</td>\n",
              "      <td>-0.000562</td>\n",
              "      <td>1.000000</td>\n",
              "      <td>0.534375</td>\n",
              "      <td>0.690476</td>\n",
              "      <td>0.053115</td>\n",
              "    </tr>\n",
              "    <tr>\n",
              "      <th>nwound</th>\n",
              "      <td>0.015273</td>\n",
              "      <td>0.002938</td>\n",
              "      <td>-0.001268</td>\n",
              "      <td>0.015988</td>\n",
              "      <td>0.000223</td>\n",
              "      <td>0.534375</td>\n",
              "      <td>1.000000</td>\n",
              "      <td>0.980387</td>\n",
              "      <td>0.025804</td>\n",
              "    </tr>\n",
              "    <tr>\n",
              "      <th>casualities</th>\n",
              "      <td>0.013934</td>\n",
              "      <td>0.003446</td>\n",
              "      <td>-0.001269</td>\n",
              "      <td>0.009996</td>\n",
              "      <td>0.000021</td>\n",
              "      <td>0.690476</td>\n",
              "      <td>0.980387</td>\n",
              "      <td>1.000000</td>\n",
              "      <td>0.035385</td>\n",
              "    </tr>\n",
              "    <tr>\n",
              "      <th>success</th>\n",
              "      <td>-0.082963</td>\n",
              "      <td>-0.002845</td>\n",
              "      <td>-0.011802</td>\n",
              "      <td>-0.073715</td>\n",
              "      <td>-0.000858</td>\n",
              "      <td>0.053115</td>\n",
              "      <td>0.025804</td>\n",
              "      <td>0.035385</td>\n",
              "      <td>1.000000</td>\n",
              "    </tr>\n",
              "  </tbody>\n",
              "</table>\n",
              "</div>"
            ],
            "text/plain": [
              "                iyear    imonth      iday  ...    nwound  casualities   success\n",
              "iyear        1.000000  0.000139  0.018254  ...  0.015273     0.013934 -0.082963\n",
              "imonth       0.000139  1.000000  0.005497  ...  0.002938     0.003446 -0.002845\n",
              "iday         0.018254  0.005497  1.000000  ... -0.001268    -0.001269 -0.011802\n",
              "latitude     0.166933 -0.015978  0.003423  ...  0.015988     0.009996 -0.073715\n",
              "longitude    0.003917 -0.003880 -0.002285  ...  0.000223     0.000021 -0.000858\n",
              "nkill        0.015341  0.003463 -0.003693  ...  0.534375     0.690476  0.053115\n",
              "nwound       0.015273  0.002938 -0.001268  ...  1.000000     0.980387  0.025804\n",
              "casualities  0.013934  0.003446 -0.001269  ...  0.980387     1.000000  0.035385\n",
              "success     -0.082963 -0.002845 -0.011802  ...  0.025804     0.035385  1.000000\n",
              "\n",
              "[9 rows x 9 columns]"
            ]
          },
          "metadata": {
            "tags": []
          },
          "execution_count": 40
        }
      ]
    },
    {
      "cell_type": "code",
      "metadata": {
        "colab": {
          "base_uri": "https://localhost:8080/",
          "height": 342
        },
        "id": "9QSpgFnKQEMY",
        "outputId": "473b42eb-74fb-4756-a069-018a463fdb4a"
      },
      "source": [
        "sns.heatmap(corr_df,vmin=1,annot=True)"
      ],
      "execution_count": null,
      "outputs": [
        {
          "output_type": "execute_result",
          "data": {
            "text/plain": [
              "<matplotlib.axes._subplots.AxesSubplot at 0x7ff32f8d90d0>"
            ]
          },
          "metadata": {
            "tags": []
          },
          "execution_count": 42
        },
        {
          "output_type": "display_data",
          "data": {
            "image/png": "[encoded data removed]",
            "text/plain": [
              "<Figure size 720x360 with 2 Axes>"
            ]
          },
          "metadata": {
            "tags": [],
            "needs_background": "light"
          }
        }
      ]
    },
    {
      "cell_type": "code",
      "metadata": {
        "colab": {
          "base_uri": "https://localhost:8080/"
        },
        "id": "cN4IQBYaNqEG",
        "outputId": "cbbf3464-c46a-432b-9e88-31a0cf361f7e"
      },
      "source": [
        "#we want to know the top 20 highest affected countries \n",
        "top20_affected_countries = df_1[\"country_txt\"].value_counts()[:20]\n",
        "top20_affected_countries"
      ],
      "execution_count": null,
      "outputs": [
        {
          "output_type": "execute_result",
          "data": {
            "text/plain": [
              "Iraq              24636\n",
              "Pakistan          14368\n",
              "Afghanistan       12731\n",
              "India             11960\n",
              "Colombia           8306\n",
              "Philippines        6908\n",
              "Peru               6096\n",
              "El Salvador        5320\n",
              "United Kingdom     5235\n",
              "Turkey             4292\n",
              "Somalia            4142\n",
              "Nigeria            3907\n",
              "Thailand           3849\n",
              "Yemen              3347\n",
              "Spain              3249\n",
              "Sri Lanka          3022\n",
              "United States      2836\n",
              "Algeria            2743\n",
              "France             2693\n",
              "Egypt              2479\n",
              "Name: country_txt, dtype: int64"
            ]
          },
          "metadata": {
            "tags": []
          },
          "execution_count": 24
        }
      ]
    },
    {
      "cell_type": "code",
      "metadata": {
        "id": "a3vcQrYUSkAX"
      },
      "source": [
        "plt.rcParams['figure.figsize'] = (15, 5)"
      ],
      "execution_count": null,
      "outputs": []
    },
    {
      "cell_type": "code",
      "metadata": {
        "colab": {
          "base_uri": "https://localhost:8080/",
          "height": 438
        },
        "id": "f7KqZ5X-Zc-2",
        "outputId": "78ac2e33-6132-441c-a366-40826ef3d1f8"
      },
      "source": [
        "top20_affected_countries.plot(kind = 'bar')\n",
        "\n",
        "plt.title('Country affected')\n",
        "plt.ylabel('No of attack')\n",
        "plt.xlabel('country name')"
      ],
      "execution_count": null,
      "outputs": [
        {
          "output_type": "execute_result",
          "data": {
            "text/plain": [
              "Text(0.5, 0, 'country name')"
            ]
          },
          "metadata": {
            "tags": []
          },
          "execution_count": 26
        },
        {
          "output_type": "display_data",
          "data": {
            "image/png": "[encoded data removed]",
            "text/plain": [
              "<Figure size 1080x360 with 1 Axes>"
            ]
          },
          "metadata": {
            "tags": [],
            "needs_background": "light"
          }
        }
      ]
    },
    {
      "cell_type": "code",
      "metadata": {
        "colab": {
          "base_uri": "https://localhost:8080/"
        },
        "id": "WuHKl9SuagKJ",
        "outputId": "f9dea550-3a82-458e-d0fe-f94abdce2f55"
      },
      "source": [
        "Top_terrorist_groups = df_1['gname'].value_counts()[:20]\n",
        "Top_terrorist_groups"
      ],
      "execution_count": null,
      "outputs": [
        {
          "output_type": "execute_result",
          "data": {
            "text/plain": [
              "Unknown                                             82782\n",
              "Taliban                                              7478\n",
              "Islamic State of Iraq and the Levant (ISIL)          5613\n",
              "Shining Path (SL)                                    4555\n",
              "Farabundo Marti National Liberation Front (FMLN)     3351\n",
              "Al-Shabaab                                           3288\n",
              "New People's Army (NPA)                              2772\n",
              "Irish Republican Army (IRA)                          2671\n",
              "Revolutionary Armed Forces of Colombia (FARC)        2487\n",
              "Boko Haram                                           2418\n",
              "Kurdistan Workers' Party (PKK)                       2310\n",
              "Basque Fatherland and Freedom (ETA)                  2024\n",
              "Communist Party of India - Maoist (CPI-Maoist)       1878\n",
              "Maoists                                              1630\n",
              "Liberation Tigers of Tamil Eelam (LTTE)              1606\n",
              "National Liberation Army of Colombia (ELN)           1561\n",
              "Tehrik-i-Taliban Pakistan (TTP)                      1351\n",
              "Palestinians                                         1125\n",
              "Houthi extremists (Ansar Allah)                      1062\n",
              "Al-Qaida in the Arabian Peninsula (AQAP)             1020\n",
              "Name: gname, dtype: int64"
            ]
          },
          "metadata": {
            "tags": []
          },
          "execution_count": 27
        }
      ]
    },
    {
      "cell_type": "code",
      "metadata": {
        "id": "3DGUOQpPclsd"
      },
      "source": [
        "plt.rcParams['figure.figsize'] = (10, 5)"
      ],
      "execution_count": null,
      "outputs": []
    },
    {
      "cell_type": "code",
      "metadata": {
        "colab": {
          "base_uri": "https://localhost:8080/",
          "height": 605
        },
        "id": "4VepWqo0bWMi",
        "outputId": "40bc170d-803b-4ed6-b5cd-357e744c4442"
      },
      "source": [
        "Top_terrorist_groups.plot(kind='bar')\n",
        "plt.title('Top Terrorist Gangs')\n",
        "plt.ylabel('No of Attacks')\n",
        "plt.xlabel('Gang Name')"
      ],
      "execution_count": null,
      "outputs": [
        {
          "output_type": "execute_result",
          "data": {
            "text/plain": [
              "Text(0.5, 0, 'Gang Name')"
            ]
          },
          "metadata": {
            "tags": []
          },
          "execution_count": 29
        },
        {
          "output_type": "display_data",
          "data": {
            "image/png": "[encoded data removed]",
            "text/plain": [
              "<Figure size 720x360 with 1 Axes>"
            ]
          },
          "metadata": {
            "tags": [],
            "needs_background": "light"
          }
        }
      ]
    },
    {
      "cell_type": "code",
      "metadata": {
        "colab": {
          "base_uri": "https://localhost:8080/"
        },
        "id": "6G-hrj0kZJ0J",
        "outputId": "eb24e36f-87d3-41f7-9f79-2cf14ef059db"
      },
      "source": [
        "#we want to know year wise casualities counts on different attack type\n",
        "year_wise_casualities = df_1.groupby(['iyear','attacktype1_txt'])['casualities'].count().unstack()\n",
        "print(year_wise_casualities)"
      ],
      "execution_count": null,
      "outputs": [
        {
          "output_type": "stream",
          "text": [
            "attacktype1_txt  Armed Assault  Assassination  ...  Unarmed Assault  Unknown\n",
            "iyear                                          ...                          \n",
            "1970                      42.0           22.0  ...              3.0      6.0\n",
            "1971                      35.0           14.0  ...              NaN      2.0\n",
            "1972                      10.0           90.0  ...              NaN      1.0\n",
            "1973                      43.0           40.0  ...              2.0      1.0\n",
            "1974                      26.0           41.0  ...              3.0      1.0\n",
            "1975                      33.0           65.0  ...              NaN      1.0\n",
            "1976                      95.0           79.0  ...              2.0      2.0\n",
            "1977                     197.0          105.0  ...              NaN     12.0\n",
            "1978                     174.0          250.0  ...              4.0     35.0\n",
            "1979                     373.0          507.0  ...              6.0    139.0\n",
            "1980                     432.0          602.0  ...              2.0     58.0\n",
            "1981                     456.0          377.0  ...              3.0     61.0\n",
            "1982                     394.0          321.0  ...              1.0     57.0\n",
            "1983                     423.0          330.0  ...              2.0     71.0\n",
            "1984                     670.0          434.0  ...              7.0    132.0\n",
            "1985                     497.0          279.0  ...              4.0    120.0\n",
            "1986                     409.0          347.0  ...              3.0    114.0\n",
            "1987                     748.0          452.0  ...              3.0    159.0\n",
            "1988                     920.0          802.0  ...              5.0     37.0\n",
            "1989                    1111.0          974.0  ...              8.0     16.0\n",
            "1990                     875.0          862.0  ...              7.0     13.0\n",
            "1991                    1265.0          728.0  ...             13.0     64.0\n",
            "1992                    1323.0         1099.0  ...             48.0    187.0\n",
            "1994                     779.0          723.0  ...             46.0    191.0\n",
            "1995                     731.0          721.0  ...            108.0    230.0\n",
            "1996                     596.0          462.0  ...             21.0    284.0\n",
            "1997                     793.0          332.0  ...             23.0    336.0\n",
            "1998                     194.0           23.0  ...             14.0     16.0\n",
            "1999                     323.0           59.0  ...             36.0     31.0\n",
            "2000                     414.0          101.0  ...             26.0     35.0\n",
            "2001                     527.0          126.0  ...             36.0     40.0\n",
            "2002                     325.0           72.0  ...              9.0     20.0\n",
            "2003                     271.0           85.0  ...             19.0     25.0\n",
            "2004                     224.0           99.0  ...              4.0     22.0\n",
            "2005                     466.0          222.0  ...              6.0     31.0\n",
            "2006                     682.0          137.0  ...             13.0     35.0\n",
            "2007                     773.0          134.0  ...              6.0     27.0\n",
            "2008                    1066.0          208.0  ...             30.0     96.0\n",
            "2009                    1079.0          225.0  ...             18.0    126.0\n",
            "2010                    1108.0          356.0  ...             21.0    111.0\n",
            "2011                    1372.0          340.0  ...             20.0    106.0\n",
            "2012                    2000.0          454.0  ...             28.0    160.0\n",
            "2013                    2804.0          835.0  ...             36.0    214.0\n",
            "2014                    3542.0          904.0  ...             49.0    509.0\n",
            "2015                    2961.0          916.0  ...             81.0    719.0\n",
            "2016                    2514.0          806.0  ...             60.0    767.0\n",
            "2017                    2154.0          807.0  ...             80.0    686.0\n",
            "\n",
            "[47 rows x 9 columns]\n"
          ],
          "name": "stdout"
        }
      ]
    },
    {
      "cell_type": "code",
      "metadata": {
        "colab": {
          "base_uri": "https://localhost:8080/",
          "height": 378
        },
        "id": "1FzjvATJw1sw",
        "outputId": "ce2f93e9-61b1-47e7-fdfa-f5e79e0149d8"
      },
      "source": [
        "year_wise_casualities.plot()\n",
        "\n",
        "plt.title('Year Wise casuality Counts',size=20)\n",
        "plt.ylabel('Number Of Casualities',size=15)\n",
        "plt.xlabel('Year',size=15)"
      ],
      "execution_count": null,
      "outputs": [
        {
          "output_type": "execute_result",
          "data": {
            "text/plain": [
              "Text(0.5, 0, 'Year')"
            ]
          },
          "metadata": {
            "tags": []
          },
          "execution_count": 36
        },
        {
          "output_type": "display_data",
          "data": {
            "image/png": "[encoded data removed]",
            "text/plain": [
              "<Figure size 720x360 with 1 Axes>"
            ]
          },
          "metadata": {
            "tags": [],
            "needs_background": "light"
          }
        }
      ]
    },
    {
      "cell_type": "code",
      "metadata": {
        "id": "ag64g8GSfJ11",
        "colab": {
          "base_uri": "https://localhost:8080/",
          "height": 486
        },
        "outputId": "7003629e-ce15-4d64-a008-892b7cd71b97"
      },
      "source": [
        "#we want to know the success trend of terrorist attack from 1970-2017\n",
        "plt.figure(figsize=(15,7))\n",
        "sns.countplot(x='iyear',hue='success',data=df_1)\n",
        "\n",
        "plt.title('Trend Of Success Attacks from 1970-2017',size=20)\n",
        "plt.xlabel('Attack Year',size=15)\n",
        "plt.ylabel('Number of Attack',size=15)"
      ],
      "execution_count": null,
      "outputs": [
        {
          "output_type": "execute_result",
          "data": {
            "text/plain": [
              "Text(0, 0.5, 'Number of Attack')"
            ]
          },
          "metadata": {
            "tags": []
          },
          "execution_count": 37
        },
        {
          "output_type": "display_data",
          "data": {
            "image/png": "[encoded data removed]",
            "text/plain": [
              "<Figure size 1080x504 with 1 Axes>"
            ]
          },
          "metadata": {
            "tags": [],
            "needs_background": "light"
          }
        }
      ]
    }
  ]
}