{
  "nbformat": 4,
  "nbformat_minor": 0,
  "metadata": {
    "colab": {
      "name": "NYC Taxi Trip Time Prediction - Jogapritam Sahu .ipynb",
      "provenance": [],
      "collapsed_sections": [],
      "include_colab_link": true
    },
    "kernelspec": {
      "display_name": "Python 3",
      "language": "python",
      "name": "python3"
    },
    "language_info": {
      "codemirror_mode": {
        "name": "ipython",
        "version": 3
      },
      "file_extension": ".py",
      "mimetype": "text/x-python",
      "name": "python",
      "nbconvert_exporter": "python",
      "pygments_lexer": "ipython3",
      "version": "3.6.6"
    }
  },
  "cells": [
    {
      "cell_type": "markdown",
      "metadata": {
        "id": "view-in-github",
        "colab_type": "text"
      },
      "source": [
        "<a href=\"https://colab.research.google.com/github/jogapritam/Global-Terrorism-Analysis/blob/main/NYC_Taxi_Trip_Time_Prediction_Jogapritam_Sahu_.ipynb\" target=\"_parent\"><img src=\"https://colab.research.google.com/assets/colab-badge.svg\" alt=\"Open In Colab\"/></a>"
      ]
    },
    {
      "cell_type": "markdown",
      "metadata": {
        "id": "tOGC-qoyhJeX"
      },
      "source": [
        "# <b><u> Project Title : Taxi trip time Prediction : Predicting total ride duration of taxi trips in New York City</u></b>"
      ]
    },
    {
      "cell_type": "markdown",
      "metadata": {
        "id": "Y06xIdG26kRF"
      },
      "source": [
        "## <b> Problem Description </b>\n",
        "\n",
        "### Your task is to build a model that predicts the total ride duration of taxi trips in New York City. Your primary dataset is one released by the NYC Taxi and Limousine Commission, which includes pickup time, geo-coordinates, number of passengers, and several other variables."
      ]
    },
    {
      "cell_type": "markdown",
      "metadata": {
        "id": "WWeU1f9bwqQq"
      },
      "source": [
        "## <b> Data Description </b>\n",
        "\n",
        "### The dataset is based on the 2016 NYC Yellow Cab trip record data made available in Big Query on Google Cloud Platform. The data was originally published by the NYC Taxi and Limousine Commission (TLC). The data was sampled and cleaned for the purposes of this project. Based on individual trip attributes, you should predict the duration of each trip in the test set.\n",
        "\n",
        "### <b>NYC Taxi Data.csv</b> - the training set (contains 1458644 trip records)\n",
        "\n",
        "\n",
        "### Data fields\n",
        "* #### id - a unique identifier for each trip\n",
        "* #### vendor_id - a code indicating the provider associated with the trip record\n",
        "* #### pickup_datetime - date and time when the meter was engaged\n",
        "* #### dropoff_datetime - date and time when the meter was disengaged\n",
        "* #### passenger_count - the number of passengers in the vehicle (driver entered value)\n",
        "* #### pickup_longitude - the longitude where the meter was engaged\n",
        "* #### pickup_latitude - the latitude where the meter was engaged\n",
        "* #### dropoff_longitude - the longitude where the meter was disengaged\n",
        "* #### dropoff_latitude - the latitude where the meter was disengaged\n",
        "* #### store_and_fwd_flag - This flag indicates whether the trip record was held in vehicle memory before sending to the vendor because the vehicle did not have a connection to the server - Y=store and forward; N=not a store and forward trip\n",
        "* #### trip_duration - duration of the trip in seconds"
      ]
    },
    {
      "cell_type": "code",
      "metadata": {
        "id": "cQKqwWeoipYQ"
      },
      "source": [
        "# Importing the libraries\n",
        "import numpy as np\n",
        "import pandas as pd\n",
        "from numpy import math\n",
        "\n",
        "from sklearn.preprocessing import MinMaxScaler\n",
        "from sklearn.model_selection import train_test_split\n",
        "from sklearn.linear_model import LinearRegression\n",
        "from sklearn.metrics import r2_score\n",
        "from sklearn.metrics import mean_squared_error\n",
        "import seaborn as sns\n",
        "import matplotlib.pyplot as plt\n",
        "import warnings\n",
        "warnings.filterwarnings('ignore')"
      ],
      "execution_count": 1,
      "outputs": []
    },
    {
      "cell_type": "markdown",
      "metadata": {
        "id": "wLMdyQOTFV-J"
      },
      "source": [
        "# ***EDA***"
      ]
    },
    {
      "cell_type": "code",
      "metadata": {
        "colab": {
          "base_uri": "https://localhost:8080/"
        },
        "id": "dByMsuzT8Tnw",
        "outputId": "57440013-e308-4d8f-9356-fee08618dc5f"
      },
      "source": [
        "# Lets make handshake of note book with google drive\n",
        "from google.colab import drive\n",
        "drive.mount('/content/drive')"
      ],
      "execution_count": 2,
      "outputs": [
        {
          "output_type": "stream",
          "name": "stdout",
          "text": [
            "Mounted at /content/drive\n"
          ]
        }
      ]
    },
    {
      "cell_type": "code",
      "metadata": {
        "id": "azp_s43YiIjE"
      },
      "source": [
        "dataset = pd.read_csv('/content/drive/MyDrive/machine learning/Capstone Regression/NYC Taxi Data.csv')"
      ],
      "execution_count": 3,
      "outputs": []
    },
    {
      "cell_type": "code",
      "metadata": {
        "colab": {
          "base_uri": "https://localhost:8080/"
        },
        "id": "yh3-733NJ_tV",
        "outputId": "9d22b861-b053-405b-c308-a049939ff207"
      },
      "source": [
        "# Checking dimension of data set \n",
        "dataset.shape"
      ],
      "execution_count": 4,
      "outputs": [
        {
          "output_type": "execute_result",
          "data": {
            "text/plain": [
              "(1458644, 11)"
            ]
          },
          "metadata": {},
          "execution_count": 4
        }
      ]
    },
    {
      "cell_type": "code",
      "metadata": {
        "colab": {
          "base_uri": "https://localhost:8080/",
          "height": 309
        },
        "id": "9JfHDjDliyoc",
        "outputId": "9d7bde6b-85a4-4c77-b25f-6653086d923b"
      },
      "source": [
        "# First look of our data \n",
        "\n",
        "dataset.head()"
      ],
      "execution_count": 5,
      "outputs": [
        {
          "output_type": "execute_result",
          "data": {
            "text/html": [
              "<div>\n",
              "<style scoped>\n",
              "    .dataframe tbody tr th:only-of-type {\n",
              "        vertical-align: middle;\n",
              "    }\n",
              "\n",
              "    .dataframe tbody tr th {\n",
              "        vertical-align: top;\n",
              "    }\n",
              "\n",
              "    .dataframe thead th {\n",
              "        text-align: right;\n",
              "    }\n",
              "</style>\n",
              "<table border=\"1\" class=\"dataframe\">\n",
              "  <thead>\n",
              "    <tr style=\"text-align: right;\">\n",
              "      <th></th>\n",
              "      <th>id</th>\n",
              "      <th>vendor_id</th>\n",
              "      <th>pickup_datetime</th>\n",
              "      <th>dropoff_datetime</th>\n",
              "      <th>passenger_count</th>\n",
              "      <th>pickup_longitude</th>\n",
              "      <th>pickup_latitude</th>\n",
              "      <th>dropoff_longitude</th>\n",
              "      <th>dropoff_latitude</th>\n",
              "      <th>store_and_fwd_flag</th>\n",
              "      <th>trip_duration</th>\n",
              "    </tr>\n",
              "  </thead>\n",
              "  <tbody>\n",
              "    <tr>\n",
              "      <th>0</th>\n",
              "      <td>id2875421</td>\n",
              "      <td>2</td>\n",
              "      <td>2016-03-14 17:24:55</td>\n",
              "      <td>2016-03-14 17:32:30</td>\n",
              "      <td>1</td>\n",
              "      <td>-73.982155</td>\n",
              "      <td>40.767937</td>\n",
              "      <td>-73.964630</td>\n",
              "      <td>40.765602</td>\n",
              "      <td>N</td>\n",
              "      <td>455</td>\n",
              "    </tr>\n",
              "    <tr>\n",
              "      <th>1</th>\n",
              "      <td>id2377394</td>\n",
              "      <td>1</td>\n",
              "      <td>2016-06-12 00:43:35</td>\n",
              "      <td>2016-06-12 00:54:38</td>\n",
              "      <td>1</td>\n",
              "      <td>-73.980415</td>\n",
              "      <td>40.738564</td>\n",
              "      <td>-73.999481</td>\n",
              "      <td>40.731152</td>\n",
              "      <td>N</td>\n",
              "      <td>663</td>\n",
              "    </tr>\n",
              "    <tr>\n",
              "      <th>2</th>\n",
              "      <td>id3858529</td>\n",
              "      <td>2</td>\n",
              "      <td>2016-01-19 11:35:24</td>\n",
              "      <td>2016-01-19 12:10:48</td>\n",
              "      <td>1</td>\n",
              "      <td>-73.979027</td>\n",
              "      <td>40.763939</td>\n",
              "      <td>-74.005333</td>\n",
              "      <td>40.710087</td>\n",
              "      <td>N</td>\n",
              "      <td>2124</td>\n",
              "    </tr>\n",
              "    <tr>\n",
              "      <th>3</th>\n",
              "      <td>id3504673</td>\n",
              "      <td>2</td>\n",
              "      <td>2016-04-06 19:32:31</td>\n",
              "      <td>2016-04-06 19:39:40</td>\n",
              "      <td>1</td>\n",
              "      <td>-74.010040</td>\n",
              "      <td>40.719971</td>\n",
              "      <td>-74.012268</td>\n",
              "      <td>40.706718</td>\n",
              "      <td>N</td>\n",
              "      <td>429</td>\n",
              "    </tr>\n",
              "    <tr>\n",
              "      <th>4</th>\n",
              "      <td>id2181028</td>\n",
              "      <td>2</td>\n",
              "      <td>2016-03-26 13:30:55</td>\n",
              "      <td>2016-03-26 13:38:10</td>\n",
              "      <td>1</td>\n",
              "      <td>-73.973053</td>\n",
              "      <td>40.793209</td>\n",
              "      <td>-73.972923</td>\n",
              "      <td>40.782520</td>\n",
              "      <td>N</td>\n",
              "      <td>435</td>\n",
              "    </tr>\n",
              "  </tbody>\n",
              "</table>\n",
              "</div>"
            ],
            "text/plain": [
              "          id  vendor_id  ... store_and_fwd_flag trip_duration\n",
              "0  id2875421          2  ...                  N           455\n",
              "1  id2377394          1  ...                  N           663\n",
              "2  id3858529          2  ...                  N          2124\n",
              "3  id3504673          2  ...                  N           429\n",
              "4  id2181028          2  ...                  N           435\n",
              "\n",
              "[5 rows x 11 columns]"
            ]
          },
          "metadata": {},
          "execution_count": 5
        }
      ]
    },
    {
      "cell_type": "code",
      "metadata": {
        "colab": {
          "base_uri": "https://localhost:8080/"
        },
        "id": "fbh227FLJD2A",
        "outputId": "5b561c38-da92-4006-c1a7-bf955acb5482"
      },
      "source": [
        "# Checking column names\n",
        "\n",
        "dataset.columns"
      ],
      "execution_count": 6,
      "outputs": [
        {
          "output_type": "execute_result",
          "data": {
            "text/plain": [
              "Index(['id', 'vendor_id', 'pickup_datetime', 'dropoff_datetime',\n",
              "       'passenger_count', 'pickup_longitude', 'pickup_latitude',\n",
              "       'dropoff_longitude', 'dropoff_latitude', 'store_and_fwd_flag',\n",
              "       'trip_duration'],\n",
              "      dtype='object')"
            ]
          },
          "metadata": {},
          "execution_count": 6
        }
      ]
    },
    {
      "cell_type": "code",
      "metadata": {
        "colab": {
          "base_uri": "https://localhost:8080/",
          "height": 317
        },
        "id": "kCrn5fwnIdst",
        "outputId": "ef06135d-d9f7-441a-98e8-136dc1593514"
      },
      "source": [
        "# Brief description of our data set\n",
        "\n",
        "dataset.describe()"
      ],
      "execution_count": 7,
      "outputs": [
        {
          "output_type": "execute_result",
          "data": {
            "text/html": [
              "<div>\n",
              "<style scoped>\n",
              "    .dataframe tbody tr th:only-of-type {\n",
              "        vertical-align: middle;\n",
              "    }\n",
              "\n",
              "    .dataframe tbody tr th {\n",
              "        vertical-align: top;\n",
              "    }\n",
              "\n",
              "    .dataframe thead th {\n",
              "        text-align: right;\n",
              "    }\n",
              "</style>\n",
              "<table border=\"1\" class=\"dataframe\">\n",
              "  <thead>\n",
              "    <tr style=\"text-align: right;\">\n",
              "      <th></th>\n",
              "      <th>vendor_id</th>\n",
              "      <th>passenger_count</th>\n",
              "      <th>pickup_longitude</th>\n",
              "      <th>pickup_latitude</th>\n",
              "      <th>dropoff_longitude</th>\n",
              "      <th>dropoff_latitude</th>\n",
              "      <th>trip_duration</th>\n",
              "    </tr>\n",
              "  </thead>\n",
              "  <tbody>\n",
              "    <tr>\n",
              "      <th>count</th>\n",
              "      <td>1.458644e+06</td>\n",
              "      <td>1.458644e+06</td>\n",
              "      <td>1.458644e+06</td>\n",
              "      <td>1.458644e+06</td>\n",
              "      <td>1.458644e+06</td>\n",
              "      <td>1.458644e+06</td>\n",
              "      <td>1.458644e+06</td>\n",
              "    </tr>\n",
              "    <tr>\n",
              "      <th>mean</th>\n",
              "      <td>1.534950e+00</td>\n",
              "      <td>1.664530e+00</td>\n",
              "      <td>-7.397349e+01</td>\n",
              "      <td>4.075092e+01</td>\n",
              "      <td>-7.397342e+01</td>\n",
              "      <td>4.075180e+01</td>\n",
              "      <td>9.594923e+02</td>\n",
              "    </tr>\n",
              "    <tr>\n",
              "      <th>std</th>\n",
              "      <td>4.987772e-01</td>\n",
              "      <td>1.314242e+00</td>\n",
              "      <td>7.090186e-02</td>\n",
              "      <td>3.288119e-02</td>\n",
              "      <td>7.064327e-02</td>\n",
              "      <td>3.589056e-02</td>\n",
              "      <td>5.237432e+03</td>\n",
              "    </tr>\n",
              "    <tr>\n",
              "      <th>min</th>\n",
              "      <td>1.000000e+00</td>\n",
              "      <td>0.000000e+00</td>\n",
              "      <td>-1.219333e+02</td>\n",
              "      <td>3.435970e+01</td>\n",
              "      <td>-1.219333e+02</td>\n",
              "      <td>3.218114e+01</td>\n",
              "      <td>1.000000e+00</td>\n",
              "    </tr>\n",
              "    <tr>\n",
              "      <th>25%</th>\n",
              "      <td>1.000000e+00</td>\n",
              "      <td>1.000000e+00</td>\n",
              "      <td>-7.399187e+01</td>\n",
              "      <td>4.073735e+01</td>\n",
              "      <td>-7.399133e+01</td>\n",
              "      <td>4.073588e+01</td>\n",
              "      <td>3.970000e+02</td>\n",
              "    </tr>\n",
              "    <tr>\n",
              "      <th>50%</th>\n",
              "      <td>2.000000e+00</td>\n",
              "      <td>1.000000e+00</td>\n",
              "      <td>-7.398174e+01</td>\n",
              "      <td>4.075410e+01</td>\n",
              "      <td>-7.397975e+01</td>\n",
              "      <td>4.075452e+01</td>\n",
              "      <td>6.620000e+02</td>\n",
              "    </tr>\n",
              "    <tr>\n",
              "      <th>75%</th>\n",
              "      <td>2.000000e+00</td>\n",
              "      <td>2.000000e+00</td>\n",
              "      <td>-7.396733e+01</td>\n",
              "      <td>4.076836e+01</td>\n",
              "      <td>-7.396301e+01</td>\n",
              "      <td>4.076981e+01</td>\n",
              "      <td>1.075000e+03</td>\n",
              "    </tr>\n",
              "    <tr>\n",
              "      <th>max</th>\n",
              "      <td>2.000000e+00</td>\n",
              "      <td>9.000000e+00</td>\n",
              "      <td>-6.133553e+01</td>\n",
              "      <td>5.188108e+01</td>\n",
              "      <td>-6.133553e+01</td>\n",
              "      <td>4.392103e+01</td>\n",
              "      <td>3.526282e+06</td>\n",
              "    </tr>\n",
              "  </tbody>\n",
              "</table>\n",
              "</div>"
            ],
            "text/plain": [
              "          vendor_id  passenger_count  ...  dropoff_latitude  trip_duration\n",
              "count  1.458644e+06     1.458644e+06  ...      1.458644e+06   1.458644e+06\n",
              "mean   1.534950e+00     1.664530e+00  ...      4.075180e+01   9.594923e+02\n",
              "std    4.987772e-01     1.314242e+00  ...      3.589056e-02   5.237432e+03\n",
              "min    1.000000e+00     0.000000e+00  ...      3.218114e+01   1.000000e+00\n",
              "25%    1.000000e+00     1.000000e+00  ...      4.073588e+01   3.970000e+02\n",
              "50%    2.000000e+00     1.000000e+00  ...      4.075452e+01   6.620000e+02\n",
              "75%    2.000000e+00     2.000000e+00  ...      4.076981e+01   1.075000e+03\n",
              "max    2.000000e+00     9.000000e+00  ...      4.392103e+01   3.526282e+06\n",
              "\n",
              "[8 rows x 7 columns]"
            ]
          },
          "metadata": {},
          "execution_count": 7
        }
      ]
    },
    {
      "cell_type": "markdown",
      "metadata": {
        "id": "iF-1jV7dMPYq"
      },
      "source": [
        "* From this description it is visible that trip duration has maximum value of\n",
        "3526282 seconds and minium 1 second. Converting this into hours it is almost 979.5 hours.\n",
        "* Here minimum passenger count is 0 and maximum passenger count is 9.\n",
        "\n"
      ]
    },
    {
      "cell_type": "markdown",
      "metadata": {
        "id": "osViv2qUGSBE"
      },
      "source": [
        "We don't want to keep the data which contains 0 passengers. So drop them."
      ]
    },
    {
      "cell_type": "code",
      "metadata": {
        "colab": {
          "base_uri": "https://localhost:8080/"
        },
        "id": "DN49TTJ4GnYV",
        "outputId": "4c9238b9-f859-4d99-8b99-71a784aaba98"
      },
      "source": [
        "dataset['passenger_count'].value_counts()"
      ],
      "execution_count": 8,
      "outputs": [
        {
          "output_type": "execute_result",
          "data": {
            "text/plain": [
              "1    1033540\n",
              "2     210318\n",
              "5      78088\n",
              "3      59896\n",
              "6      48333\n",
              "4      28404\n",
              "0         60\n",
              "7          3\n",
              "9          1\n",
              "8          1\n",
              "Name: passenger_count, dtype: int64"
            ]
          },
          "metadata": {},
          "execution_count": 8
        }
      ]
    },
    {
      "cell_type": "code",
      "metadata": {
        "colab": {
          "base_uri": "https://localhost:8080/"
        },
        "id": "yib_u_uFrxJH",
        "outputId": "8aa7cf1a-7252-4922-f60b-1418efa5d290"
      },
      "source": [
        "# Lets check the taxi wich contains zero passengers\n",
        "\n",
        "dataset[dataset['passenger_count']==0].count()\n",
        "\n"
      ],
      "execution_count": 9,
      "outputs": [
        {
          "output_type": "execute_result",
          "data": {
            "text/plain": [
              "id                    60\n",
              "vendor_id             60\n",
              "pickup_datetime       60\n",
              "dropoff_datetime      60\n",
              "passenger_count       60\n",
              "pickup_longitude      60\n",
              "pickup_latitude       60\n",
              "dropoff_longitude     60\n",
              "dropoff_latitude      60\n",
              "store_and_fwd_flag    60\n",
              "trip_duration         60\n",
              "dtype: int64"
            ]
          },
          "metadata": {},
          "execution_count": 9
        }
      ]
    },
    {
      "cell_type": "markdown",
      "metadata": {
        "id": "JfA3TYHKsRKd"
      },
      "source": [
        "The taxi that has zero passengers we don't want to keep those so drop them."
      ]
    },
    {
      "cell_type": "code",
      "metadata": {
        "colab": {
          "base_uri": "https://localhost:8080/"
        },
        "id": "m_xiozFstrQH",
        "outputId": "ede3e8bd-6402-4464-b0a0-e35873c5385b"
      },
      "source": [
        "df=dataset[dataset['passenger_count']!=0]\n",
        "df.shape"
      ],
      "execution_count": 10,
      "outputs": [
        {
          "output_type": "execute_result",
          "data": {
            "text/plain": [
              "(1458584, 11)"
            ]
          },
          "metadata": {},
          "execution_count": 10
        }
      ]
    },
    {
      "cell_type": "code",
      "metadata": {
        "colab": {
          "base_uri": "https://localhost:8080/"
        },
        "id": "NNk4zfDMOObw",
        "outputId": "a0035983-d9d5-45cc-f449-7cbc93a61b25"
      },
      "source": [
        "# lets check the duplicate\n",
        "len(df[df.duplicated()])"
      ],
      "execution_count": 11,
      "outputs": [
        {
          "output_type": "execute_result",
          "data": {
            "text/plain": [
              "0"
            ]
          },
          "metadata": {},
          "execution_count": 11
        }
      ]
    },
    {
      "cell_type": "markdown",
      "metadata": {
        "id": "iuybnuzfOytX"
      },
      "source": [
        "There is no duplicates in our dataset."
      ]
    },
    {
      "cell_type": "code",
      "metadata": {
        "colab": {
          "base_uri": "https://localhost:8080/"
        },
        "id": "aP6WWn5W-8Ri",
        "outputId": "248037ec-e13e-4ff8-9612-3cd0bf9209eb"
      },
      "source": [
        "#Check for null values\n",
        "df.isnull().sum()"
      ],
      "execution_count": 12,
      "outputs": [
        {
          "output_type": "execute_result",
          "data": {
            "text/plain": [
              "id                    0\n",
              "vendor_id             0\n",
              "pickup_datetime       0\n",
              "dropoff_datetime      0\n",
              "passenger_count       0\n",
              "pickup_longitude      0\n",
              "pickup_latitude       0\n",
              "dropoff_longitude     0\n",
              "dropoff_latitude      0\n",
              "store_and_fwd_flag    0\n",
              "trip_duration         0\n",
              "dtype: int64"
            ]
          },
          "metadata": {},
          "execution_count": 12
        }
      ]
    },
    {
      "cell_type": "markdown",
      "metadata": {
        "id": "89Pt-xCpDlhP"
      },
      "source": [
        "There is no null values, which is very good.\n"
      ]
    },
    {
      "cell_type": "code",
      "metadata": {
        "colab": {
          "base_uri": "https://localhost:8080/"
        },
        "id": "gw9HcsrRQpa6",
        "outputId": "74cae2b3-d8a5-44c7-efd4-038cdb852dd2"
      },
      "source": [
        "df.info()"
      ],
      "execution_count": 13,
      "outputs": [
        {
          "output_type": "stream",
          "name": "stdout",
          "text": [
            "<class 'pandas.core.frame.DataFrame'>\n",
            "Int64Index: 1458584 entries, 0 to 1458643\n",
            "Data columns (total 11 columns):\n",
            " #   Column              Non-Null Count    Dtype  \n",
            "---  ------              --------------    -----  \n",
            " 0   id                  1458584 non-null  object \n",
            " 1   vendor_id           1458584 non-null  int64  \n",
            " 2   pickup_datetime     1458584 non-null  object \n",
            " 3   dropoff_datetime    1458584 non-null  object \n",
            " 4   passenger_count     1458584 non-null  int64  \n",
            " 5   pickup_longitude    1458584 non-null  float64\n",
            " 6   pickup_latitude     1458584 non-null  float64\n",
            " 7   dropoff_longitude   1458584 non-null  float64\n",
            " 8   dropoff_latitude    1458584 non-null  float64\n",
            " 9   store_and_fwd_flag  1458584 non-null  object \n",
            " 10  trip_duration       1458584 non-null  int64  \n",
            "dtypes: float64(4), int64(3), object(4)\n",
            "memory usage: 133.5+ MB\n"
          ]
        }
      ]
    },
    {
      "cell_type": "markdown",
      "metadata": {
        "id": "fDlbs4ryQ4yu"
      },
      "source": [
        "Here store_and_fwd_flag is a categorical variable and pickup_datatime and dropoff_datetime are in string format so it's better to convert them into datetime format."
      ]
    },
    {
      "cell_type": "code",
      "metadata": {
        "colab": {
          "base_uri": "https://localhost:8080/",
          "height": 35
        },
        "id": "lhrILt5wMnXL",
        "outputId": "bad4499d-57d7-4b69-c127-1f16be350a5b"
      },
      "source": [
        "df['pickup_datetime'][0]"
      ],
      "execution_count": 14,
      "outputs": [
        {
          "output_type": "execute_result",
          "data": {
            "application/vnd.google.colaboratory.intrinsic+json": {
              "type": "string"
            },
            "text/plain": [
              "'2016-03-14 17:24:55'"
            ]
          },
          "metadata": {},
          "execution_count": 14
        }
      ]
    },
    {
      "cell_type": "code",
      "metadata": {
        "colab": {
          "base_uri": "https://localhost:8080/",
          "height": 309
        },
        "id": "0EXYN3CBJ7T1",
        "outputId": "cc9affbd-2174-4152-ae0d-d9423107d6b8"
      },
      "source": [
        "#Converting to date time format\n",
        "df['pickup_datetime']=pd.to_datetime(df['pickup_datetime'])\n",
        "df['dropoff_datetime']=pd.to_datetime(df['dropoff_datetime'])\n",
        "df.head()"
      ],
      "execution_count": 15,
      "outputs": [
        {
          "output_type": "execute_result",
          "data": {
            "text/html": [
              "<div>\n",
              "<style scoped>\n",
              "    .dataframe tbody tr th:only-of-type {\n",
              "        vertical-align: middle;\n",
              "    }\n",
              "\n",
              "    .dataframe tbody tr th {\n",
              "        vertical-align: top;\n",
              "    }\n",
              "\n",
              "    .dataframe thead th {\n",
              "        text-align: right;\n",
              "    }\n",
              "</style>\n",
              "<table border=\"1\" class=\"dataframe\">\n",
              "  <thead>\n",
              "    <tr style=\"text-align: right;\">\n",
              "      <th></th>\n",
              "      <th>id</th>\n",
              "      <th>vendor_id</th>\n",
              "      <th>pickup_datetime</th>\n",
              "      <th>dropoff_datetime</th>\n",
              "      <th>passenger_count</th>\n",
              "      <th>pickup_longitude</th>\n",
              "      <th>pickup_latitude</th>\n",
              "      <th>dropoff_longitude</th>\n",
              "      <th>dropoff_latitude</th>\n",
              "      <th>store_and_fwd_flag</th>\n",
              "      <th>trip_duration</th>\n",
              "    </tr>\n",
              "  </thead>\n",
              "  <tbody>\n",
              "    <tr>\n",
              "      <th>0</th>\n",
              "      <td>id2875421</td>\n",
              "      <td>2</td>\n",
              "      <td>2016-03-14 17:24:55</td>\n",
              "      <td>2016-03-14 17:32:30</td>\n",
              "      <td>1</td>\n",
              "      <td>-73.982155</td>\n",
              "      <td>40.767937</td>\n",
              "      <td>-73.964630</td>\n",
              "      <td>40.765602</td>\n",
              "      <td>N</td>\n",
              "      <td>455</td>\n",
              "    </tr>\n",
              "    <tr>\n",
              "      <th>1</th>\n",
              "      <td>id2377394</td>\n",
              "      <td>1</td>\n",
              "      <td>2016-06-12 00:43:35</td>\n",
              "      <td>2016-06-12 00:54:38</td>\n",
              "      <td>1</td>\n",
              "      <td>-73.980415</td>\n",
              "      <td>40.738564</td>\n",
              "      <td>-73.999481</td>\n",
              "      <td>40.731152</td>\n",
              "      <td>N</td>\n",
              "      <td>663</td>\n",
              "    </tr>\n",
              "    <tr>\n",
              "      <th>2</th>\n",
              "      <td>id3858529</td>\n",
              "      <td>2</td>\n",
              "      <td>2016-01-19 11:35:24</td>\n",
              "      <td>2016-01-19 12:10:48</td>\n",
              "      <td>1</td>\n",
              "      <td>-73.979027</td>\n",
              "      <td>40.763939</td>\n",
              "      <td>-74.005333</td>\n",
              "      <td>40.710087</td>\n",
              "      <td>N</td>\n",
              "      <td>2124</td>\n",
              "    </tr>\n",
              "    <tr>\n",
              "      <th>3</th>\n",
              "      <td>id3504673</td>\n",
              "      <td>2</td>\n",
              "      <td>2016-04-06 19:32:31</td>\n",
              "      <td>2016-04-06 19:39:40</td>\n",
              "      <td>1</td>\n",
              "      <td>-74.010040</td>\n",
              "      <td>40.719971</td>\n",
              "      <td>-74.012268</td>\n",
              "      <td>40.706718</td>\n",
              "      <td>N</td>\n",
              "      <td>429</td>\n",
              "    </tr>\n",
              "    <tr>\n",
              "      <th>4</th>\n",
              "      <td>id2181028</td>\n",
              "      <td>2</td>\n",
              "      <td>2016-03-26 13:30:55</td>\n",
              "      <td>2016-03-26 13:38:10</td>\n",
              "      <td>1</td>\n",
              "      <td>-73.973053</td>\n",
              "      <td>40.793209</td>\n",
              "      <td>-73.972923</td>\n",
              "      <td>40.782520</td>\n",
              "      <td>N</td>\n",
              "      <td>435</td>\n",
              "    </tr>\n",
              "  </tbody>\n",
              "</table>\n",
              "</div>"
            ],
            "text/plain": [
              "          id  vendor_id  ... store_and_fwd_flag trip_duration\n",
              "0  id2875421          2  ...                  N           455\n",
              "1  id2377394          1  ...                  N           663\n",
              "2  id3858529          2  ...                  N          2124\n",
              "3  id3504673          2  ...                  N           429\n",
              "4  id2181028          2  ...                  N           435\n",
              "\n",
              "[5 rows x 11 columns]"
            ]
          },
          "metadata": {},
          "execution_count": 15
        }
      ]
    },
    {
      "cell_type": "markdown",
      "metadata": {
        "id": "fOzIDrOmI4GG"
      },
      "source": [
        "Let's check for outliers"
      ]
    },
    {
      "cell_type": "code",
      "metadata": {
        "colab": {
          "base_uri": "https://localhost:8080/",
          "height": 1000
        },
        "id": "5Vtkln-BQJ67",
        "outputId": "d0651701-89b4-408a-8d90-d92638e68277"
      },
      "source": [
        "for col in df.describe().columns:\n",
        "    fig = plt.figure(figsize=(9, 6))\n",
        "    ax = fig.gca()\n",
        "    df.boxplot(column = col, ax = ax)\n",
        "    ax.set_ylabel(\"col\")\n",
        "plt.show()"
      ],
      "execution_count": 16,
      "outputs": [
        {
          "output_type": "display_data",
          "data": {
            "image/png": "[encoded data removed]",
            "text/plain": [
              "<Figure size 648x432 with 1 Axes>"
            ]
          },
          "metadata": {
            "needs_background": "light"
          }
        },
        {
          "output_type": "display_data",
          "data": {
            "image/png": "[encoded data removed]",
            "text/plain": [
              "<Figure size 648x432 with 1 Axes>"
            ]
          },
          "metadata": {
            "needs_background": "light"
          }
        },
        {
          "output_type": "display_data",
          "data": {
            "image/png": "[encoded data removed]",
            "text/plain": [
              "<Figure size 648x432 with 1 Axes>"
            ]
          },
          "metadata": {
            "needs_background": "light"
          }
        },
        {
          "output_type": "display_data",
          "data": {
            "image/png": "[encoded data removed]",
            "text/plain": [
              "<Figure size 648x432 with 1 Axes>"
            ]
          },
          "metadata": {
            "needs_background": "light"
          }
        },
        {
          "output_type": "display_data",
          "data": {
            "image/png": "[encoded data removed]",
            "text/plain": [
              "<Figure size 648x432 with 1 Axes>"
            ]
          },
          "metadata": {
            "needs_background": "light"
          }
        },
        {
          "output_type": "display_data",
          "data": {
            "image/png": "[encoded data removed]",
            "text/plain": [
              "<Figure size 648x432 with 1 Axes>"
            ]
          },
          "metadata": {
            "needs_background": "light"
          }
        },
        {
          "output_type": "display_data",
          "data": {
            "image/png": "[encoded data removed]",
            "text/plain": [
              "<Figure size 648x432 with 1 Axes>"
            ]
          },
          "metadata": {
            "needs_background": "light"
          }
        }
      ]
    },
    {
      "cell_type": "markdown",
      "metadata": {
        "id": "CL1bbAkycaND"
      },
      "source": [
        "Here it is visible that a lot of outliers are here. So we have to drop these outliers."
      ]
    },
    {
      "cell_type": "code",
      "metadata": {
        "id": "pkKrg4WB4p0u"
      },
      "source": [
        "from collections import Counter\n",
        "n = 1\n",
        "indexes = []\n",
        "\n",
        "for col in df.describe().columns:\n",
        "  Q1 = np.percentile(df[col],25)\n",
        "  Q3 = np.percentile(df[col],75)\n",
        "  IQR = Q3 - Q1\n",
        "\n",
        "  limit = 1.5 * IQR\n",
        "\n",
        "  list_outliers = df[(df[col] < Q1 - limit) | (df[col] > Q3 + limit)].index\n",
        "\n",
        "  indexes.extend(list_outliers)\n",
        "\n",
        "indexes = Counter(indexes)\n",
        "multiple_outliers = list(k for k, v in indexes.items() if v > n)"
      ],
      "execution_count": 17,
      "outputs": []
    },
    {
      "cell_type": "code",
      "metadata": {
        "id": "mGhDzUUS93-S"
      },
      "source": [
        "df.drop(multiple_outliers, axis = 0)\n",
        "df = df.drop(multiple_outliers, axis=0).reset_index(drop=True)"
      ],
      "execution_count": 18,
      "outputs": []
    },
    {
      "cell_type": "code",
      "metadata": {
        "colab": {
          "base_uri": "https://localhost:8080/"
        },
        "id": "_whN-ZwMIS4p",
        "outputId": "c83f3790-fea6-4276-fbda-0720cdd38dd1"
      },
      "source": [
        "df.shape"
      ],
      "execution_count": 19,
      "outputs": [
        {
          "output_type": "execute_result",
          "data": {
            "text/plain": [
              "(1347057, 11)"
            ]
          },
          "metadata": {},
          "execution_count": 19
        }
      ]
    },
    {
      "cell_type": "code",
      "metadata": {
        "colab": {
          "base_uri": "https://localhost:8080/",
          "height": 1000
        },
        "id": "NnPweTQGLzm-",
        "outputId": "c7257224-673c-4c48-fecc-9eb1f8922921"
      },
      "source": [
        "for col in df.describe().columns:\n",
        "    fig = plt.figure(figsize=(9, 6))\n",
        "    ax = fig.gca()\n",
        "    df.boxplot(column = col, ax = ax)\n",
        "    ax.set_ylabel(\"col\")\n",
        "plt.show()"
      ],
      "execution_count": 20,
      "outputs": [
        {
          "output_type": "display_data",
          "data": {
            "image/png": "[encoded data removed]",
            "text/plain": [
              "<Figure size 648x432 with 1 Axes>"
            ]
          },
          "metadata": {
            "needs_background": "light"
          }
        },
        {
          "output_type": "display_data",
          "data": {
            "image/png": "[encoded data removed]",
            "text/plain": [
              "<Figure size 648x432 with 1 Axes>"
            ]
          },
          "metadata": {
            "needs_background": "light"
          }
        },
        {
          "output_type": "display_data",
          "data": {
            "image/png": "[encoded data removed]",
            "text/plain": [
              "<Figure size 648x432 with 1 Axes>"
            ]
          },
          "metadata": {
            "needs_background": "light"
          }
        },
        {
          "output_type": "display_data",
          "data": {
            "image/png": "[encoded data removed]",
            "text/plain": [
              "<Figure size 648x432 with 1 Axes>"
            ]
          },
          "metadata": {
            "needs_background": "light"
          }
        },
        {
          "output_type": "display_data",
          "data": {
            "image/png": "[encoded data removed]",
            "text/plain": [
              "<Figure size 648x432 with 1 Axes>"
            ]
          },
          "metadata": {
            "needs_background": "light"
          }
        },
        {
          "output_type": "display_data",
          "data": {
            "image/png": "[encoded data removed]",
            "text/plain": [
              "<Figure size 648x432 with 1 Axes>"
            ]
          },
          "metadata": {
            "needs_background": "light"
          }
        },
        {
          "output_type": "display_data",
          "data": {
            "image/png": "[encoded data removed]",
            "text/plain": [
              "<Figure size 648x432 with 1 Axes>"
            ]
          },
          "metadata": {
            "needs_background": "light"
          }
        }
      ]
    },
    {
      "cell_type": "code",
      "metadata": {
        "colab": {
          "base_uri": "https://localhost:8080/",
          "height": 471
        },
        "id": "Abw9loiSPaDB",
        "outputId": "934513b5-b55e-4ca5-b056-8d15aad23d07"
      },
      "source": [
        "# Dependent variable 'trip_duration'\n",
        "plt.figure(figsize=(7,7))\n",
        "sns.distplot(df['trip_duration'],color=\"y\")"
      ],
      "execution_count": 21,
      "outputs": [
        {
          "output_type": "execute_result",
          "data": {
            "text/plain": [
              "<matplotlib.axes._subplots.AxesSubplot at 0x7f17d7d00cd0>"
            ]
          },
          "metadata": {},
          "execution_count": 21
        },
        {
          "output_type": "display_data",
          "data": {
            "image/png": "[encoded data removed]",
            "text/plain": [
              "<Figure size 504x504 with 1 Axes>"
            ]
          },
          "metadata": {
            "needs_background": "light"
          }
        }
      ]
    },
    {
      "cell_type": "markdown",
      "metadata": {
        "id": "EZHDkNmdGSil"
      },
      "source": [
        "Dependent Variable is not normally distributed. So apply log transformation to normalize."
      ]
    },
    {
      "cell_type": "code",
      "metadata": {
        "colab": {
          "base_uri": "https://localhost:8080/",
          "height": 460
        },
        "id": "Ijo8gbf7E6mC",
        "outputId": "f3c07e29-8948-4603-ac02-b521bae5e2ea"
      },
      "source": [
        "# Dependent variable 'trip_duration'\n",
        "plt.figure(figsize=(7,7))\n",
        "sns.distplot(np.log10(df['trip_duration']),color=\"g\")"
      ],
      "execution_count": 22,
      "outputs": [
        {
          "output_type": "execute_result",
          "data": {
            "text/plain": [
              "<matplotlib.axes._subplots.AxesSubplot at 0x7f17cf38e910>"
            ]
          },
          "metadata": {},
          "execution_count": 22
        },
        {
          "output_type": "display_data",
          "data": {
            "image/png": "[encoded data removed]",
            "text/plain": [
              "<Figure size 504x504 with 1 Axes>"
            ]
          },
          "metadata": {
            "needs_background": "light"
          }
        }
      ]
    },
    {
      "cell_type": "code",
      "metadata": {
        "colab": {
          "base_uri": "https://localhost:8080/"
        },
        "id": "X1SklffIQloZ",
        "outputId": "ecbcd094-bf27-415a-d1b5-6ab85084a137"
      },
      "source": [
        "# let's check the numerical features\n",
        "numeric_features = df.describe().columns\n",
        "numeric_features"
      ],
      "execution_count": 23,
      "outputs": [
        {
          "output_type": "execute_result",
          "data": {
            "text/plain": [
              "Index(['vendor_id', 'passenger_count', 'pickup_longitude', 'pickup_latitude',\n",
              "       'dropoff_longitude', 'dropoff_latitude', 'trip_duration'],\n",
              "      dtype='object')"
            ]
          },
          "metadata": {},
          "execution_count": 23
        }
      ]
    },
    {
      "cell_type": "code",
      "metadata": {
        "colab": {
          "base_uri": "https://localhost:8080/",
          "height": 1000
        },
        "id": "c9ojz9boQ2DM",
        "outputId": "5a67ea61-9099-455f-c18f-067fcddecf83"
      },
      "source": [
        "# plot a bar plot for each numerical feature count to check how normally our features are distributed\n",
        "\n",
        "for col in numeric_features:\n",
        "    fig = plt.figure(figsize=(9, 6))\n",
        "    ax = fig.gca()\n",
        "    feature = df[col]\n",
        "    feature.hist(bins=50, ax = ax)\n",
        "    ax.axvline(feature.mean(), color='Red', linestyle='dashed', linewidth=2)\n",
        "    ax.axvline(feature.median(), color='cyan', linestyle='dashed', linewidth=2)    \n",
        "    ax.set_title(col)\n",
        "plt.show()"
      ],
      "execution_count": 24,
      "outputs": [
        {
          "output_type": "display_data",
          "data": {
            "image/png": "[encoded data removed]",
            "text/plain": [
              "<Figure size 648x432 with 1 Axes>"
            ]
          },
          "metadata": {
            "needs_background": "light"
          }
        },
        {
          "output_type": "display_data",
          "data": {
            "image/png": "[encoded data removed]",
            "text/plain": [
              "<Figure size 648x432 with 1 Axes>"
            ]
          },
          "metadata": {
            "needs_background": "light"
          }
        },
        {
          "output_type": "display_data",
          "data": {
            "image/png": "[encoded data removed]",
            "text/plain": [
              "<Figure size 648x432 with 1 Axes>"
            ]
          },
          "metadata": {
            "needs_background": "light"
          }
        },
        {
          "output_type": "display_data",
          "data": {
            "image/png": "[encoded data removed]",
            "text/plain": [
              "<Figure size 648x432 with 1 Axes>"
            ]
          },
          "metadata": {
            "needs_background": "light"
          }
        },
        {
          "output_type": "display_data",
          "data": {
            "image/png": "[encoded data removed]",
            "text/plain": [
              "<Figure size 648x432 with 1 Axes>"
            ]
          },
          "metadata": {
            "needs_background": "light"
          }
        },
        {
          "output_type": "display_data",
          "data": {
            "image/png": "[encoded data removed]",
            "text/plain": [
              "<Figure size 648x432 with 1 Axes>"
            ]
          },
          "metadata": {
            "needs_background": "light"
          }
        },
        {
          "output_type": "display_data",
          "data": {
            "image/png": "[encoded data removed]",
            "text/plain": [
              "<Figure size 648x432 with 1 Axes>"
            ]
          },
          "metadata": {
            "needs_background": "light"
          }
        }
      ]
    },
    {
      "cell_type": "code",
      "metadata": {
        "colab": {
          "base_uri": "https://localhost:8080/",
          "height": 1000
        },
        "id": "hAd7U1niR-Z4",
        "outputId": "f95ec9c3-f9d5-47e2-f555-758cb72a8922"
      },
      "source": [
        "#Let's plot scatter plot to gain a good understanding about our features\n",
        "\n",
        "for col in numeric_features[1:-1]:\n",
        "    fig = plt.figure(figsize=(9, 6))\n",
        "    ax = fig.gca()\n",
        "    feature = df[col]\n",
        "    label = df['trip_duration']\n",
        "    correlation = feature.corr(label)\n",
        "    plt.scatter(x=feature, y=label)\n",
        "    plt.xlabel(col)\n",
        "    plt.ylabel('Trip Duration')\n",
        "    ax.set_title('Trip Duration vs ' + col + '- correlation: ' + str(correlation))\n",
        "    z = np.polyfit(df[col], df['trip_duration'], 1)\n",
        "    y_hat = np.poly1d(z)(df[col])\n",
        "    plt.plot(df[col], y_hat, \"r--\", lw=1)\n",
        "\n",
        "    \n",
        "\n",
        "plt.show()"
      ],
      "execution_count": 25,
      "outputs": [
        {
          "output_type": "display_data",
          "data": {
            "image/png": "[encoded data removed]",
            "text/plain": [
              "<Figure size 648x432 with 1 Axes>"
            ]
          },
          "metadata": {
            "needs_background": "light"
          }
        },
        {
          "output_type": "display_data",
          "data": {
            "image/png": "[encoded data removed]",
            "text/plain": [
              "<Figure size 648x432 with 1 Axes>"
            ]
          },
          "metadata": {
            "needs_background": "light"
          }
        },
        {
          "output_type": "display_data",
          "data": {
            "image/png": "[encoded data removed]",
            "text/plain": [
              "<Figure size 648x432 with 1 Axes>"
            ]
          },
          "metadata": {
            "needs_background": "light"
          }
        },
        {
          "output_type": "display_data",
          "data": {
            "image/png": "[encoded data removed]",
            "text/plain": [
              "<Figure size 648x432 with 1 Axes>"
            ]
          },
          "metadata": {
            "needs_background": "light"
          }
        },
        {
          "output_type": "display_data",
          "data": {
            "image/png": "[encoded data removed]",
            "text/plain": [
              "<Figure size 648x432 with 1 Axes>"
            ]
          },
          "metadata": {
            "needs_background": "light"
          }
        }
      ]
    },
    {
      "cell_type": "markdown",
      "metadata": {
        "id": "eWykPRYVGxEG"
      },
      "source": [
        "# ***Feature Engineering***"
      ]
    },
    {
      "cell_type": "markdown",
      "metadata": {
        "id": "aq9BVYQkNFLV"
      },
      "source": [
        "Now from pickup date time and dropoff date time we will create two new columns as pickup day and dropoff day"
      ]
    },
    {
      "cell_type": "code",
      "metadata": {
        "colab": {
          "base_uri": "https://localhost:8080/",
          "height": 309
        },
        "id": "7GJMMZ1xNEJh",
        "outputId": "50573438-5871-419d-a222-fc3db04c7fc2"
      },
      "source": [
        "df['pickup_day']=df['pickup_datetime'].dt.day_name()\n",
        "df['dropoff_day']=df['dropoff_datetime'].dt.day_name()\n",
        "df.head()"
      ],
      "execution_count": 26,
      "outputs": [
        {
          "output_type": "execute_result",
          "data": {
            "text/html": [
              "<div>\n",
              "<style scoped>\n",
              "    .dataframe tbody tr th:only-of-type {\n",
              "        vertical-align: middle;\n",
              "    }\n",
              "\n",
              "    .dataframe tbody tr th {\n",
              "        vertical-align: top;\n",
              "    }\n",
              "\n",
              "    .dataframe thead th {\n",
              "        text-align: right;\n",
              "    }\n",
              "</style>\n",
              "<table border=\"1\" class=\"dataframe\">\n",
              "  <thead>\n",
              "    <tr style=\"text-align: right;\">\n",
              "      <th></th>\n",
              "      <th>id</th>\n",
              "      <th>vendor_id</th>\n",
              "      <th>pickup_datetime</th>\n",
              "      <th>dropoff_datetime</th>\n",
              "      <th>passenger_count</th>\n",
              "      <th>pickup_longitude</th>\n",
              "      <th>pickup_latitude</th>\n",
              "      <th>dropoff_longitude</th>\n",
              "      <th>dropoff_latitude</th>\n",
              "      <th>store_and_fwd_flag</th>\n",
              "      <th>trip_duration</th>\n",
              "      <th>pickup_day</th>\n",
              "      <th>dropoff_day</th>\n",
              "    </tr>\n",
              "  </thead>\n",
              "  <tbody>\n",
              "    <tr>\n",
              "      <th>0</th>\n",
              "      <td>id2875421</td>\n",
              "      <td>2</td>\n",
              "      <td>2016-03-14 17:24:55</td>\n",
              "      <td>2016-03-14 17:32:30</td>\n",
              "      <td>1</td>\n",
              "      <td>-73.982155</td>\n",
              "      <td>40.767937</td>\n",
              "      <td>-73.964630</td>\n",
              "      <td>40.765602</td>\n",
              "      <td>N</td>\n",
              "      <td>455</td>\n",
              "      <td>Monday</td>\n",
              "      <td>Monday</td>\n",
              "    </tr>\n",
              "    <tr>\n",
              "      <th>1</th>\n",
              "      <td>id2377394</td>\n",
              "      <td>1</td>\n",
              "      <td>2016-06-12 00:43:35</td>\n",
              "      <td>2016-06-12 00:54:38</td>\n",
              "      <td>1</td>\n",
              "      <td>-73.980415</td>\n",
              "      <td>40.738564</td>\n",
              "      <td>-73.999481</td>\n",
              "      <td>40.731152</td>\n",
              "      <td>N</td>\n",
              "      <td>663</td>\n",
              "      <td>Sunday</td>\n",
              "      <td>Sunday</td>\n",
              "    </tr>\n",
              "    <tr>\n",
              "      <th>2</th>\n",
              "      <td>id3858529</td>\n",
              "      <td>2</td>\n",
              "      <td>2016-01-19 11:35:24</td>\n",
              "      <td>2016-01-19 12:10:48</td>\n",
              "      <td>1</td>\n",
              "      <td>-73.979027</td>\n",
              "      <td>40.763939</td>\n",
              "      <td>-74.005333</td>\n",
              "      <td>40.710087</td>\n",
              "      <td>N</td>\n",
              "      <td>2124</td>\n",
              "      <td>Tuesday</td>\n",
              "      <td>Tuesday</td>\n",
              "    </tr>\n",
              "    <tr>\n",
              "      <th>3</th>\n",
              "      <td>id3504673</td>\n",
              "      <td>2</td>\n",
              "      <td>2016-04-06 19:32:31</td>\n",
              "      <td>2016-04-06 19:39:40</td>\n",
              "      <td>1</td>\n",
              "      <td>-74.010040</td>\n",
              "      <td>40.719971</td>\n",
              "      <td>-74.012268</td>\n",
              "      <td>40.706718</td>\n",
              "      <td>N</td>\n",
              "      <td>429</td>\n",
              "      <td>Wednesday</td>\n",
              "      <td>Wednesday</td>\n",
              "    </tr>\n",
              "    <tr>\n",
              "      <th>4</th>\n",
              "      <td>id2181028</td>\n",
              "      <td>2</td>\n",
              "      <td>2016-03-26 13:30:55</td>\n",
              "      <td>2016-03-26 13:38:10</td>\n",
              "      <td>1</td>\n",
              "      <td>-73.973053</td>\n",
              "      <td>40.793209</td>\n",
              "      <td>-73.972923</td>\n",
              "      <td>40.782520</td>\n",
              "      <td>N</td>\n",
              "      <td>435</td>\n",
              "      <td>Saturday</td>\n",
              "      <td>Saturday</td>\n",
              "    </tr>\n",
              "  </tbody>\n",
              "</table>\n",
              "</div>"
            ],
            "text/plain": [
              "          id  vendor_id  ... pickup_day dropoff_day\n",
              "0  id2875421          2  ...     Monday      Monday\n",
              "1  id2377394          1  ...     Sunday      Sunday\n",
              "2  id3858529          2  ...    Tuesday     Tuesday\n",
              "3  id3504673          2  ...  Wednesday   Wednesday\n",
              "4  id2181028          2  ...   Saturday    Saturday\n",
              "\n",
              "[5 rows x 13 columns]"
            ]
          },
          "metadata": {},
          "execution_count": 26
        }
      ]
    },
    {
      "cell_type": "markdown",
      "metadata": {
        "id": "T2MnPwsFPcng"
      },
      "source": [
        "Now check day wise trips"
      ]
    },
    {
      "cell_type": "code",
      "metadata": {
        "colab": {
          "base_uri": "https://localhost:8080/"
        },
        "id": "4xPnfYRSeXSj",
        "outputId": "705442dc-1908-44b3-dde5-0fd9237654f9"
      },
      "source": [
        "df['pickup_day'].value_counts()"
      ],
      "execution_count": 27,
      "outputs": [
        {
          "output_type": "execute_result",
          "data": {
            "text/plain": [
              "Saturday     206464\n",
              "Friday       206187\n",
              "Thursday     201261\n",
              "Wednesday    194686\n",
              "Tuesday      187727\n",
              "Sunday       179100\n",
              "Monday       171632\n",
              "Name: pickup_day, dtype: int64"
            ]
          },
          "metadata": {},
          "execution_count": 27
        }
      ]
    },
    {
      "cell_type": "code",
      "metadata": {
        "colab": {
          "base_uri": "https://localhost:8080/"
        },
        "id": "N_wGNXR6P1CN",
        "outputId": "87b83a7c-4159-4f19-a6c1-aaa6cac6fd63"
      },
      "source": [
        "df['dropoff_day'].value_counts()"
      ],
      "execution_count": 28,
      "outputs": [
        {
          "output_type": "execute_result",
          "data": {
            "text/plain": [
              "Saturday     206382\n",
              "Friday       205728\n",
              "Thursday     200627\n",
              "Wednesday    194377\n",
              "Tuesday      187490\n",
              "Sunday       180848\n",
              "Monday       171605\n",
              "Name: dropoff_day, dtype: int64"
            ]
          },
          "metadata": {},
          "execution_count": 28
        }
      ]
    },
    {
      "cell_type": "markdown",
      "metadata": {
        "id": "aP8hyg3kQBaI"
      },
      "source": [
        "let's plot the number of pickups and number of dropoffs each day"
      ]
    },
    {
      "cell_type": "code",
      "metadata": {
        "colab": {
          "base_uri": "https://localhost:8080/",
          "height": 639
        },
        "id": "5kXnm43YPv8s",
        "outputId": "a5de61e9-642b-4491-a0a5-55fae57c4a4f"
      },
      "source": [
        "figure,ax=plt.subplots(nrows=2,ncols=1,figsize=(10,10))\n",
        "sns.countplot(x='pickup_day',data=df,ax=ax[0])\n",
        "ax[0].set_title('Day Wise Number Of Pickups')\n",
        "sns.countplot(x='dropoff_day',data=df,ax=ax[1])\n",
        "ax[1].set_title('Day Wise Number Of dropoffs')"
      ],
      "execution_count": 29,
      "outputs": [
        {
          "output_type": "execute_result",
          "data": {
            "text/plain": [
              "Text(0.5, 1.0, 'Day Wise Number Of dropoffs')"
            ]
          },
          "metadata": {},
          "execution_count": 29
        },
        {
          "output_type": "display_data",
          "data": {
            "image/png": "[encoded data removed]",
            "text/plain": [
              "<Figure size 720x720 with 2 Axes>"
            ]
          },
          "metadata": {
            "needs_background": "light"
          }
        }
      ]
    },
    {
      "cell_type": "markdown",
      "metadata": {
        "id": "bX-kUI9lRlzD"
      },
      "source": [
        "Lets create two more columns which will include coressponding months."
      ]
    },
    {
      "cell_type": "code",
      "metadata": {
        "id": "gtO2G5fhR4B8"
      },
      "source": [
        "df['pickup_month']=df['pickup_datetime'].dt.month\n",
        "df['dropoff_month']=df['dropoff_datetime'].dt.month"
      ],
      "execution_count": 30,
      "outputs": []
    },
    {
      "cell_type": "code",
      "metadata": {
        "colab": {
          "base_uri": "https://localhost:8080/"
        },
        "id": "NKV2MOtjSUUP",
        "outputId": "5497a79e-eb11-45fb-e334-d9764a9463ff"
      },
      "source": [
        "df['pickup_month'].value_counts()"
      ],
      "execution_count": 31,
      "outputs": [
        {
          "output_type": "execute_result",
          "data": {
            "text/plain": [
              "3    237409\n",
              "4    232799\n",
              "5    227164\n",
              "2    222208\n",
              "6    214296\n",
              "1    213181\n",
              "Name: pickup_month, dtype: int64"
            ]
          },
          "metadata": {},
          "execution_count": 31
        }
      ]
    },
    {
      "cell_type": "code",
      "metadata": {
        "colab": {
          "base_uri": "https://localhost:8080/"
        },
        "id": "cFBJr69QSgXd",
        "outputId": "22646fff-f11f-4141-8e8b-935b669db4bd"
      },
      "source": [
        "df['dropoff_month'].value_counts()"
      ],
      "execution_count": 32,
      "outputs": [
        {
          "output_type": "execute_result",
          "data": {
            "text/plain": [
              "3    237369\n",
              "4    232788\n",
              "5    227222\n",
              "2    222195\n",
              "6    214240\n",
              "1    213151\n",
              "7        92\n",
              "Name: dropoff_month, dtype: int64"
            ]
          },
          "metadata": {},
          "execution_count": 32
        }
      ]
    },
    {
      "cell_type": "markdown",
      "metadata": {
        "id": "JEYDQMxoAaKV"
      },
      "source": [
        "Let's calculate distance using given latitude and longitude"
      ]
    },
    {
      "cell_type": "code",
      "metadata": {
        "id": "9thUOYPLVkP8"
      },
      "source": [
        "# vectorized haversine function\n",
        "from math import cos, sin, asin, sqrt, radians\n",
        "def haversine(df):\n",
        "    \n",
        "        lat1, lon1, lat2, lon2 = df.pickup_latitude,df.pickup_longitude,df.dropoff_latitude,df.dropoff_longitude\n",
        "\n",
        "        R = 3959.87433 #miles value\n",
        "\n",
        "        dlat=radians(lat2-lat1)\n",
        "        dlon=radians(lon2-lon1)\n",
        "        lat1=radians(lat1)\n",
        "        lat2=radians(lat2)\n",
        "\n",
        "        a = sin(dlat/2)**2 + cos(lat1) * cos(lat2) * sin(dlon/2)**2\n",
        "\n",
        "        return R * 2 * asin(np.sqrt(a))\n"
      ],
      "execution_count": 33,
      "outputs": []
    },
    {
      "cell_type": "code",
      "metadata": {
        "colab": {
          "base_uri": "https://localhost:8080/",
          "height": 309
        },
        "id": "FdmJEd0dbY5o",
        "outputId": "19ad935e-9571-477f-c9c4-414da92129d8"
      },
      "source": [
        "df['distance']=df.apply(lambda x:haversine(x),axis = 1)\n",
        "df.head()"
      ],
      "execution_count": 34,
      "outputs": [
        {
          "output_type": "execute_result",
          "data": {
            "text/html": [
              "<div>\n",
              "<style scoped>\n",
              "    .dataframe tbody tr th:only-of-type {\n",
              "        vertical-align: middle;\n",
              "    }\n",
              "\n",
              "    .dataframe tbody tr th {\n",
              "        vertical-align: top;\n",
              "    }\n",
              "\n",
              "    .dataframe thead th {\n",
              "        text-align: right;\n",
              "    }\n",
              "</style>\n",
              "<table border=\"1\" class=\"dataframe\">\n",
              "  <thead>\n",
              "    <tr style=\"text-align: right;\">\n",
              "      <th></th>\n",
              "      <th>id</th>\n",
              "      <th>vendor_id</th>\n",
              "      <th>pickup_datetime</th>\n",
              "      <th>dropoff_datetime</th>\n",
              "      <th>passenger_count</th>\n",
              "      <th>pickup_longitude</th>\n",
              "      <th>pickup_latitude</th>\n",
              "      <th>dropoff_longitude</th>\n",
              "      <th>dropoff_latitude</th>\n",
              "      <th>store_and_fwd_flag</th>\n",
              "      <th>trip_duration</th>\n",
              "      <th>pickup_day</th>\n",
              "      <th>dropoff_day</th>\n",
              "      <th>pickup_month</th>\n",
              "      <th>dropoff_month</th>\n",
              "      <th>distance</th>\n",
              "    </tr>\n",
              "  </thead>\n",
              "  <tbody>\n",
              "    <tr>\n",
              "      <th>0</th>\n",
              "      <td>id2875421</td>\n",
              "      <td>2</td>\n",
              "      <td>2016-03-14 17:24:55</td>\n",
              "      <td>2016-03-14 17:32:30</td>\n",
              "      <td>1</td>\n",
              "      <td>-73.982155</td>\n",
              "      <td>40.767937</td>\n",
              "      <td>-73.964630</td>\n",
              "      <td>40.765602</td>\n",
              "      <td>N</td>\n",
              "      <td>455</td>\n",
              "      <td>Monday</td>\n",
              "      <td>Monday</td>\n",
              "      <td>3</td>\n",
              "      <td>3</td>\n",
              "      <td>0.931401</td>\n",
              "    </tr>\n",
              "    <tr>\n",
              "      <th>1</th>\n",
              "      <td>id2377394</td>\n",
              "      <td>1</td>\n",
              "      <td>2016-06-12 00:43:35</td>\n",
              "      <td>2016-06-12 00:54:38</td>\n",
              "      <td>1</td>\n",
              "      <td>-73.980415</td>\n",
              "      <td>40.738564</td>\n",
              "      <td>-73.999481</td>\n",
              "      <td>40.731152</td>\n",
              "      <td>N</td>\n",
              "      <td>663</td>\n",
              "      <td>Sunday</td>\n",
              "      <td>Sunday</td>\n",
              "      <td>6</td>\n",
              "      <td>6</td>\n",
              "      <td>1.122207</td>\n",
              "    </tr>\n",
              "    <tr>\n",
              "      <th>2</th>\n",
              "      <td>id3858529</td>\n",
              "      <td>2</td>\n",
              "      <td>2016-01-19 11:35:24</td>\n",
              "      <td>2016-01-19 12:10:48</td>\n",
              "      <td>1</td>\n",
              "      <td>-73.979027</td>\n",
              "      <td>40.763939</td>\n",
              "      <td>-74.005333</td>\n",
              "      <td>40.710087</td>\n",
              "      <td>N</td>\n",
              "      <td>2124</td>\n",
              "      <td>Tuesday</td>\n",
              "      <td>Tuesday</td>\n",
              "      <td>1</td>\n",
              "      <td>1</td>\n",
              "      <td>3.968637</td>\n",
              "    </tr>\n",
              "    <tr>\n",
              "      <th>3</th>\n",
              "      <td>id3504673</td>\n",
              "      <td>2</td>\n",
              "      <td>2016-04-06 19:32:31</td>\n",
              "      <td>2016-04-06 19:39:40</td>\n",
              "      <td>1</td>\n",
              "      <td>-74.010040</td>\n",
              "      <td>40.719971</td>\n",
              "      <td>-74.012268</td>\n",
              "      <td>40.706718</td>\n",
              "      <td>N</td>\n",
              "      <td>429</td>\n",
              "      <td>Wednesday</td>\n",
              "      <td>Wednesday</td>\n",
              "      <td>4</td>\n",
              "      <td>4</td>\n",
              "      <td>0.923307</td>\n",
              "    </tr>\n",
              "    <tr>\n",
              "      <th>4</th>\n",
              "      <td>id2181028</td>\n",
              "      <td>2</td>\n",
              "      <td>2016-03-26 13:30:55</td>\n",
              "      <td>2016-03-26 13:38:10</td>\n",
              "      <td>1</td>\n",
              "      <td>-73.973053</td>\n",
              "      <td>40.793209</td>\n",
              "      <td>-73.972923</td>\n",
              "      <td>40.782520</td>\n",
              "      <td>N</td>\n",
              "      <td>435</td>\n",
              "      <td>Saturday</td>\n",
              "      <td>Saturday</td>\n",
              "      <td>3</td>\n",
              "      <td>3</td>\n",
              "      <td>0.738763</td>\n",
              "    </tr>\n",
              "  </tbody>\n",
              "</table>\n",
              "</div>"
            ],
            "text/plain": [
              "          id  vendor_id  ... dropoff_month  distance\n",
              "0  id2875421          2  ...             3  0.931401\n",
              "1  id2377394          1  ...             6  1.122207\n",
              "2  id3858529          2  ...             1  3.968637\n",
              "3  id3504673          2  ...             4  0.923307\n",
              "4  id2181028          2  ...             3  0.738763\n",
              "\n",
              "[5 rows x 16 columns]"
            ]
          },
          "metadata": {},
          "execution_count": 34
        }
      ]
    },
    {
      "cell_type": "code",
      "metadata": {
        "colab": {
          "base_uri": "https://localhost:8080/"
        },
        "id": "xA0aL4ZKc5iF",
        "outputId": "f10c664b-23aa-476d-abed-aab3015db5fd"
      },
      "source": [
        "# Now check the nomber of rows that contains 0 distance\n",
        "len(df[df.distance==0])"
      ],
      "execution_count": 35,
      "outputs": [
        {
          "output_type": "execute_result",
          "data": {
            "text/plain": [
              "4169"
            ]
          },
          "metadata": {},
          "execution_count": 35
        }
      ]
    },
    {
      "cell_type": "code",
      "metadata": {
        "colab": {
          "base_uri": "https://localhost:8080/"
        },
        "id": "KR0ENJHndN8t",
        "outputId": "19ddda1b-db25-4f6c-e003-93f1f18609e8"
      },
      "source": [
        "# drop them\n",
        "df=df[df['distance']!=0]\n",
        "df.shape"
      ],
      "execution_count": 36,
      "outputs": [
        {
          "output_type": "execute_result",
          "data": {
            "text/plain": [
              "(1342888, 16)"
            ]
          },
          "metadata": {},
          "execution_count": 36
        }
      ]
    },
    {
      "cell_type": "markdown",
      "metadata": {
        "id": "oz45GYBBeKcn"
      },
      "source": [
        "We know that trip duration depends on distance as well as speed of vehicle. So create a column which will include Speed."
      ]
    },
    {
      "cell_type": "code",
      "metadata": {
        "id": "wXD10s8af2Dv"
      },
      "source": [
        "df['trip_duration_hour']=df['trip_duration']/3600"
      ],
      "execution_count": 37,
      "outputs": []
    },
    {
      "cell_type": "code",
      "metadata": {
        "colab": {
          "base_uri": "https://localhost:8080/",
          "height": 309
        },
        "id": "96gnLHA8egNM",
        "outputId": "9851c3d5-bb4b-4fd1-91cf-c6eea3382c51"
      },
      "source": [
        "df['Speed']=df['distance']/df['trip_duration_hour']\n",
        "df.head()"
      ],
      "execution_count": 38,
      "outputs": [
        {
          "output_type": "execute_result",
          "data": {
            "text/html": [
              "<div>\n",
              "<style scoped>\n",
              "    .dataframe tbody tr th:only-of-type {\n",
              "        vertical-align: middle;\n",
              "    }\n",
              "\n",
              "    .dataframe tbody tr th {\n",
              "        vertical-align: top;\n",
              "    }\n",
              "\n",
              "    .dataframe thead th {\n",
              "        text-align: right;\n",
              "    }\n",
              "</style>\n",
              "<table border=\"1\" class=\"dataframe\">\n",
              "  <thead>\n",
              "    <tr style=\"text-align: right;\">\n",
              "      <th></th>\n",
              "      <th>id</th>\n",
              "      <th>vendor_id</th>\n",
              "      <th>pickup_datetime</th>\n",
              "      <th>dropoff_datetime</th>\n",
              "      <th>passenger_count</th>\n",
              "      <th>pickup_longitude</th>\n",
              "      <th>pickup_latitude</th>\n",
              "      <th>dropoff_longitude</th>\n",
              "      <th>dropoff_latitude</th>\n",
              "      <th>store_and_fwd_flag</th>\n",
              "      <th>trip_duration</th>\n",
              "      <th>pickup_day</th>\n",
              "      <th>dropoff_day</th>\n",
              "      <th>pickup_month</th>\n",
              "      <th>dropoff_month</th>\n",
              "      <th>distance</th>\n",
              "      <th>trip_duration_hour</th>\n",
              "      <th>Speed</th>\n",
              "    </tr>\n",
              "  </thead>\n",
              "  <tbody>\n",
              "    <tr>\n",
              "      <th>0</th>\n",
              "      <td>id2875421</td>\n",
              "      <td>2</td>\n",
              "      <td>2016-03-14 17:24:55</td>\n",
              "      <td>2016-03-14 17:32:30</td>\n",
              "      <td>1</td>\n",
              "      <td>-73.982155</td>\n",
              "      <td>40.767937</td>\n",
              "      <td>-73.964630</td>\n",
              "      <td>40.765602</td>\n",
              "      <td>N</td>\n",
              "      <td>455</td>\n",
              "      <td>Monday</td>\n",
              "      <td>Monday</td>\n",
              "      <td>3</td>\n",
              "      <td>3</td>\n",
              "      <td>0.931401</td>\n",
              "      <td>0.126389</td>\n",
              "      <td>7.369324</td>\n",
              "    </tr>\n",
              "    <tr>\n",
              "      <th>1</th>\n",
              "      <td>id2377394</td>\n",
              "      <td>1</td>\n",
              "      <td>2016-06-12 00:43:35</td>\n",
              "      <td>2016-06-12 00:54:38</td>\n",
              "      <td>1</td>\n",
              "      <td>-73.980415</td>\n",
              "      <td>40.738564</td>\n",
              "      <td>-73.999481</td>\n",
              "      <td>40.731152</td>\n",
              "      <td>N</td>\n",
              "      <td>663</td>\n",
              "      <td>Sunday</td>\n",
              "      <td>Sunday</td>\n",
              "      <td>6</td>\n",
              "      <td>6</td>\n",
              "      <td>1.122207</td>\n",
              "      <td>0.184167</td>\n",
              "      <td>6.093432</td>\n",
              "    </tr>\n",
              "    <tr>\n",
              "      <th>2</th>\n",
              "      <td>id3858529</td>\n",
              "      <td>2</td>\n",
              "      <td>2016-01-19 11:35:24</td>\n",
              "      <td>2016-01-19 12:10:48</td>\n",
              "      <td>1</td>\n",
              "      <td>-73.979027</td>\n",
              "      <td>40.763939</td>\n",
              "      <td>-74.005333</td>\n",
              "      <td>40.710087</td>\n",
              "      <td>N</td>\n",
              "      <td>2124</td>\n",
              "      <td>Tuesday</td>\n",
              "      <td>Tuesday</td>\n",
              "      <td>1</td>\n",
              "      <td>1</td>\n",
              "      <td>3.968637</td>\n",
              "      <td>0.590000</td>\n",
              "      <td>6.726504</td>\n",
              "    </tr>\n",
              "    <tr>\n",
              "      <th>3</th>\n",
              "      <td>id3504673</td>\n",
              "      <td>2</td>\n",
              "      <td>2016-04-06 19:32:31</td>\n",
              "      <td>2016-04-06 19:39:40</td>\n",
              "      <td>1</td>\n",
              "      <td>-74.010040</td>\n",
              "      <td>40.719971</td>\n",
              "      <td>-74.012268</td>\n",
              "      <td>40.706718</td>\n",
              "      <td>N</td>\n",
              "      <td>429</td>\n",
              "      <td>Wednesday</td>\n",
              "      <td>Wednesday</td>\n",
              "      <td>4</td>\n",
              "      <td>4</td>\n",
              "      <td>0.923307</td>\n",
              "      <td>0.119167</td>\n",
              "      <td>7.748028</td>\n",
              "    </tr>\n",
              "    <tr>\n",
              "      <th>4</th>\n",
              "      <td>id2181028</td>\n",
              "      <td>2</td>\n",
              "      <td>2016-03-26 13:30:55</td>\n",
              "      <td>2016-03-26 13:38:10</td>\n",
              "      <td>1</td>\n",
              "      <td>-73.973053</td>\n",
              "      <td>40.793209</td>\n",
              "      <td>-73.972923</td>\n",
              "      <td>40.782520</td>\n",
              "      <td>N</td>\n",
              "      <td>435</td>\n",
              "      <td>Saturday</td>\n",
              "      <td>Saturday</td>\n",
              "      <td>3</td>\n",
              "      <td>3</td>\n",
              "      <td>0.738763</td>\n",
              "      <td>0.120833</td>\n",
              "      <td>6.113903</td>\n",
              "    </tr>\n",
              "  </tbody>\n",
              "</table>\n",
              "</div>"
            ],
            "text/plain": [
              "          id  vendor_id  ... trip_duration_hour     Speed\n",
              "0  id2875421          2  ...           0.126389  7.369324\n",
              "1  id2377394          1  ...           0.184167  6.093432\n",
              "2  id3858529          2  ...           0.590000  6.726504\n",
              "3  id3504673          2  ...           0.119167  7.748028\n",
              "4  id2181028          2  ...           0.120833  6.113903\n",
              "\n",
              "[5 rows x 18 columns]"
            ]
          },
          "metadata": {},
          "execution_count": 38
        }
      ]
    },
    {
      "cell_type": "markdown",
      "metadata": {
        "id": "L1yhgPVoEtqX"
      },
      "source": [
        "Let's make a graph between distance and dependent variable 'trip_duration_hour'"
      ]
    },
    {
      "cell_type": "code",
      "metadata": {
        "colab": {
          "base_uri": "https://localhost:8080/",
          "height": 405
        },
        "id": "n1D4FXarFODW",
        "outputId": "c03cf951-85d1-4701-adf8-357d771e3f13"
      },
      "source": [
        "figure,ax=plt.subplots(figsize=(10,6))\n",
        "sns.scatterplot(x='distance',y='trip_duration_hour',data=df)"
      ],
      "execution_count": 39,
      "outputs": [
        {
          "output_type": "execute_result",
          "data": {
            "text/plain": [
              "<matplotlib.axes._subplots.AxesSubplot at 0x7f17d7f2e090>"
            ]
          },
          "metadata": {},
          "execution_count": 39
        },
        {
          "output_type": "display_data",
          "data": {
            "image/png": "[encoded data removed]",
            "text/plain": [
              "<Figure size 720x432 with 1 Axes>"
            ]
          },
          "metadata": {
            "needs_background": "light"
          }
        }
      ]
    },
    {
      "cell_type": "code",
      "metadata": {
        "colab": {
          "base_uri": "https://localhost:8080/",
          "height": 406
        },
        "id": "TyaaH5zLFkfD",
        "outputId": "b66d963b-b9a9-4685-ab8d-0c0d6c040c2a"
      },
      "source": [
        "#Check using normalized data of both of them\n",
        "df['log_trip_duration']=np.log(df.trip_duration_hour)\n",
        "df['log_distance']=np.log(df.distance)\n",
        "figure,ax=plt.subplots(figsize=(10,6))\n",
        "sns.scatterplot(x='log_distance',y='log_trip_duration',data=df)"
      ],
      "execution_count": 40,
      "outputs": [
        {
          "output_type": "execute_result",
          "data": {
            "text/plain": [
              "<matplotlib.axes._subplots.AxesSubplot at 0x7f17d7e24710>"
            ]
          },
          "metadata": {},
          "execution_count": 40
        },
        {
          "output_type": "display_data",
          "data": {
            "image/png": "[encoded data removed]",
            "text/plain": [
              "<Figure size 720x432 with 1 Axes>"
            ]
          },
          "metadata": {
            "needs_background": "light"
          }
        }
      ]
    },
    {
      "cell_type": "code",
      "metadata": {
        "colab": {
          "base_uri": "https://localhost:8080/"
        },
        "id": "AdHCAC8KqQbJ",
        "outputId": "5c631297-5d01-486d-bea1-491ecfad82bf"
      },
      "source": [
        "df.columns"
      ],
      "execution_count": 41,
      "outputs": [
        {
          "output_type": "execute_result",
          "data": {
            "text/plain": [
              "Index(['id', 'vendor_id', 'pickup_datetime', 'dropoff_datetime',\n",
              "       'passenger_count', 'pickup_longitude', 'pickup_latitude',\n",
              "       'dropoff_longitude', 'dropoff_latitude', 'store_and_fwd_flag',\n",
              "       'trip_duration', 'pickup_day', 'dropoff_day', 'pickup_month',\n",
              "       'dropoff_month', 'distance', 'trip_duration_hour', 'Speed',\n",
              "       'log_trip_duration', 'log_distance'],\n",
              "      dtype='object')"
            ]
          },
          "metadata": {},
          "execution_count": 41
        }
      ]
    },
    {
      "cell_type": "code",
      "metadata": {
        "id": "x4MdqLqrqk6S"
      },
      "source": [
        "df=df[['vendor_id','pickup_datetime','dropoff_datetime','passenger_count','store_and_fwd_flag','pickup_day','dropoff_day','pickup_month','dropoff_month','distance','trip_duration_hour','Speed']]"
      ],
      "execution_count": 42,
      "outputs": []
    },
    {
      "cell_type": "code",
      "metadata": {
        "colab": {
          "base_uri": "https://localhost:8080/",
          "height": 309
        },
        "id": "qfZADn38sH1k",
        "outputId": "d487e2a4-11a0-48b5-a4b7-678d21bd40df"
      },
      "source": [
        "df.head()"
      ],
      "execution_count": 43,
      "outputs": [
        {
          "output_type": "execute_result",
          "data": {
            "text/html": [
              "<div>\n",
              "<style scoped>\n",
              "    .dataframe tbody tr th:only-of-type {\n",
              "        vertical-align: middle;\n",
              "    }\n",
              "\n",
              "    .dataframe tbody tr th {\n",
              "        vertical-align: top;\n",
              "    }\n",
              "\n",
              "    .dataframe thead th {\n",
              "        text-align: right;\n",
              "    }\n",
              "</style>\n",
              "<table border=\"1\" class=\"dataframe\">\n",
              "  <thead>\n",
              "    <tr style=\"text-align: right;\">\n",
              "      <th></th>\n",
              "      <th>vendor_id</th>\n",
              "      <th>pickup_datetime</th>\n",
              "      <th>dropoff_datetime</th>\n",
              "      <th>passenger_count</th>\n",
              "      <th>store_and_fwd_flag</th>\n",
              "      <th>pickup_day</th>\n",
              "      <th>dropoff_day</th>\n",
              "      <th>pickup_month</th>\n",
              "      <th>dropoff_month</th>\n",
              "      <th>distance</th>\n",
              "      <th>trip_duration_hour</th>\n",
              "      <th>Speed</th>\n",
              "    </tr>\n",
              "  </thead>\n",
              "  <tbody>\n",
              "    <tr>\n",
              "      <th>0</th>\n",
              "      <td>2</td>\n",
              "      <td>2016-03-14 17:24:55</td>\n",
              "      <td>2016-03-14 17:32:30</td>\n",
              "      <td>1</td>\n",
              "      <td>N</td>\n",
              "      <td>Monday</td>\n",
              "      <td>Monday</td>\n",
              "      <td>3</td>\n",
              "      <td>3</td>\n",
              "      <td>0.931401</td>\n",
              "      <td>0.126389</td>\n",
              "      <td>7.369324</td>\n",
              "    </tr>\n",
              "    <tr>\n",
              "      <th>1</th>\n",
              "      <td>1</td>\n",
              "      <td>2016-06-12 00:43:35</td>\n",
              "      <td>2016-06-12 00:54:38</td>\n",
              "      <td>1</td>\n",
              "      <td>N</td>\n",
              "      <td>Sunday</td>\n",
              "      <td>Sunday</td>\n",
              "      <td>6</td>\n",
              "      <td>6</td>\n",
              "      <td>1.122207</td>\n",
              "      <td>0.184167</td>\n",
              "      <td>6.093432</td>\n",
              "    </tr>\n",
              "    <tr>\n",
              "      <th>2</th>\n",
              "      <td>2</td>\n",
              "      <td>2016-01-19 11:35:24</td>\n",
              "      <td>2016-01-19 12:10:48</td>\n",
              "      <td>1</td>\n",
              "      <td>N</td>\n",
              "      <td>Tuesday</td>\n",
              "      <td>Tuesday</td>\n",
              "      <td>1</td>\n",
              "      <td>1</td>\n",
              "      <td>3.968637</td>\n",
              "      <td>0.590000</td>\n",
              "      <td>6.726504</td>\n",
              "    </tr>\n",
              "    <tr>\n",
              "      <th>3</th>\n",
              "      <td>2</td>\n",
              "      <td>2016-04-06 19:32:31</td>\n",
              "      <td>2016-04-06 19:39:40</td>\n",
              "      <td>1</td>\n",
              "      <td>N</td>\n",
              "      <td>Wednesday</td>\n",
              "      <td>Wednesday</td>\n",
              "      <td>4</td>\n",
              "      <td>4</td>\n",
              "      <td>0.923307</td>\n",
              "      <td>0.119167</td>\n",
              "      <td>7.748028</td>\n",
              "    </tr>\n",
              "    <tr>\n",
              "      <th>4</th>\n",
              "      <td>2</td>\n",
              "      <td>2016-03-26 13:30:55</td>\n",
              "      <td>2016-03-26 13:38:10</td>\n",
              "      <td>1</td>\n",
              "      <td>N</td>\n",
              "      <td>Saturday</td>\n",
              "      <td>Saturday</td>\n",
              "      <td>3</td>\n",
              "      <td>3</td>\n",
              "      <td>0.738763</td>\n",
              "      <td>0.120833</td>\n",
              "      <td>6.113903</td>\n",
              "    </tr>\n",
              "  </tbody>\n",
              "</table>\n",
              "</div>"
            ],
            "text/plain": [
              "   vendor_id     pickup_datetime  ... trip_duration_hour     Speed\n",
              "0          2 2016-03-14 17:24:55  ...           0.126389  7.369324\n",
              "1          1 2016-06-12 00:43:35  ...           0.184167  6.093432\n",
              "2          2 2016-01-19 11:35:24  ...           0.590000  6.726504\n",
              "3          2 2016-04-06 19:32:31  ...           0.119167  7.748028\n",
              "4          2 2016-03-26 13:30:55  ...           0.120833  6.113903\n",
              "\n",
              "[5 rows x 12 columns]"
            ]
          },
          "metadata": {},
          "execution_count": 43
        }
      ]
    },
    {
      "cell_type": "code",
      "metadata": {
        "colab": {
          "base_uri": "https://localhost:8080/",
          "height": 309
        },
        "id": "lNEf3gMFxtTu",
        "outputId": "0ea9f3d0-5bcd-4d56-8596-8abbac89efd6"
      },
      "source": [
        "#Let's do one hot encoding for categorical variables\n",
        "df = pd.get_dummies(df, columns = ['store_and_fwd_flag','pickup_day','dropoff_day','pickup_month','dropoff_month'])\n",
        "df.head()\n"
      ],
      "execution_count": 44,
      "outputs": [
        {
          "output_type": "execute_result",
          "data": {
            "text/html": [
              "<div>\n",
              "<style scoped>\n",
              "    .dataframe tbody tr th:only-of-type {\n",
              "        vertical-align: middle;\n",
              "    }\n",
              "\n",
              "    .dataframe tbody tr th {\n",
              "        vertical-align: top;\n",
              "    }\n",
              "\n",
              "    .dataframe thead th {\n",
              "        text-align: right;\n",
              "    }\n",
              "</style>\n",
              "<table border=\"1\" class=\"dataframe\">\n",
              "  <thead>\n",
              "    <tr style=\"text-align: right;\">\n",
              "      <th></th>\n",
              "      <th>vendor_id</th>\n",
              "      <th>pickup_datetime</th>\n",
              "      <th>dropoff_datetime</th>\n",
              "      <th>passenger_count</th>\n",
              "      <th>distance</th>\n",
              "      <th>trip_duration_hour</th>\n",
              "      <th>Speed</th>\n",
              "      <th>store_and_fwd_flag_N</th>\n",
              "      <th>store_and_fwd_flag_Y</th>\n",
              "      <th>pickup_day_Friday</th>\n",
              "      <th>pickup_day_Monday</th>\n",
              "      <th>pickup_day_Saturday</th>\n",
              "      <th>pickup_day_Sunday</th>\n",
              "      <th>pickup_day_Thursday</th>\n",
              "      <th>pickup_day_Tuesday</th>\n",
              "      <th>pickup_day_Wednesday</th>\n",
              "      <th>dropoff_day_Friday</th>\n",
              "      <th>dropoff_day_Monday</th>\n",
              "      <th>dropoff_day_Saturday</th>\n",
              "      <th>dropoff_day_Sunday</th>\n",
              "      <th>dropoff_day_Thursday</th>\n",
              "      <th>dropoff_day_Tuesday</th>\n",
              "      <th>dropoff_day_Wednesday</th>\n",
              "      <th>pickup_month_1</th>\n",
              "      <th>pickup_month_2</th>\n",
              "      <th>pickup_month_3</th>\n",
              "      <th>pickup_month_4</th>\n",
              "      <th>pickup_month_5</th>\n",
              "      <th>pickup_month_6</th>\n",
              "      <th>dropoff_month_1</th>\n",
              "      <th>dropoff_month_2</th>\n",
              "      <th>dropoff_month_3</th>\n",
              "      <th>dropoff_month_4</th>\n",
              "      <th>dropoff_month_5</th>\n",
              "      <th>dropoff_month_6</th>\n",
              "      <th>dropoff_month_7</th>\n",
              "    </tr>\n",
              "  </thead>\n",
              "  <tbody>\n",
              "    <tr>\n",
              "      <th>0</th>\n",
              "      <td>2</td>\n",
              "      <td>2016-03-14 17:24:55</td>\n",
              "      <td>2016-03-14 17:32:30</td>\n",
              "      <td>1</td>\n",
              "      <td>0.931401</td>\n",
              "      <td>0.126389</td>\n",
              "      <td>7.369324</td>\n",
              "      <td>1</td>\n",
              "      <td>0</td>\n",
              "      <td>0</td>\n",
              "      <td>1</td>\n",
              "      <td>0</td>\n",
              "      <td>0</td>\n",
              "      <td>0</td>\n",
              "      <td>0</td>\n",
              "      <td>0</td>\n",
              "      <td>0</td>\n",
              "      <td>1</td>\n",
              "      <td>0</td>\n",
              "      <td>0</td>\n",
              "      <td>0</td>\n",
              "      <td>0</td>\n",
              "      <td>0</td>\n",
              "      <td>0</td>\n",
              "      <td>0</td>\n",
              "      <td>1</td>\n",
              "      <td>0</td>\n",
              "      <td>0</td>\n",
              "      <td>0</td>\n",
              "      <td>0</td>\n",
              "      <td>0</td>\n",
              "      <td>1</td>\n",
              "      <td>0</td>\n",
              "      <td>0</td>\n",
              "      <td>0</td>\n",
              "      <td>0</td>\n",
              "    </tr>\n",
              "    <tr>\n",
              "      <th>1</th>\n",
              "      <td>1</td>\n",
              "      <td>2016-06-12 00:43:35</td>\n",
              "      <td>2016-06-12 00:54:38</td>\n",
              "      <td>1</td>\n",
              "      <td>1.122207</td>\n",
              "      <td>0.184167</td>\n",
              "      <td>6.093432</td>\n",
              "      <td>1</td>\n",
              "      <td>0</td>\n",
              "      <td>0</td>\n",
              "      <td>0</td>\n",
              "      <td>0</td>\n",
              "      <td>1</td>\n",
              "      <td>0</td>\n",
              "      <td>0</td>\n",
              "      <td>0</td>\n",
              "      <td>0</td>\n",
              "      <td>0</td>\n",
              "      <td>0</td>\n",
              "      <td>1</td>\n",
              "      <td>0</td>\n",
              "      <td>0</td>\n",
              "      <td>0</td>\n",
              "      <td>0</td>\n",
              "      <td>0</td>\n",
              "      <td>0</td>\n",
              "      <td>0</td>\n",
              "      <td>0</td>\n",
              "      <td>1</td>\n",
              "      <td>0</td>\n",
              "      <td>0</td>\n",
              "      <td>0</td>\n",
              "      <td>0</td>\n",
              "      <td>0</td>\n",
              "      <td>1</td>\n",
              "      <td>0</td>\n",
              "    </tr>\n",
              "    <tr>\n",
              "      <th>2</th>\n",
              "      <td>2</td>\n",
              "      <td>2016-01-19 11:35:24</td>\n",
              "      <td>2016-01-19 12:10:48</td>\n",
              "      <td>1</td>\n",
              "      <td>3.968637</td>\n",
              "      <td>0.590000</td>\n",
              "      <td>6.726504</td>\n",
              "      <td>1</td>\n",
              "      <td>0</td>\n",
              "      <td>0</td>\n",
              "      <td>0</td>\n",
              "      <td>0</td>\n",
              "      <td>0</td>\n",
              "      <td>0</td>\n",
              "      <td>1</td>\n",
              "      <td>0</td>\n",
              "      <td>0</td>\n",
              "      <td>0</td>\n",
              "      <td>0</td>\n",
              "      <td>0</td>\n",
              "      <td>0</td>\n",
              "      <td>1</td>\n",
              "      <td>0</td>\n",
              "      <td>1</td>\n",
              "      <td>0</td>\n",
              "      <td>0</td>\n",
              "      <td>0</td>\n",
              "      <td>0</td>\n",
              "      <td>0</td>\n",
              "      <td>1</td>\n",
              "      <td>0</td>\n",
              "      <td>0</td>\n",
              "      <td>0</td>\n",
              "      <td>0</td>\n",
              "      <td>0</td>\n",
              "      <td>0</td>\n",
              "    </tr>\n",
              "    <tr>\n",
              "      <th>3</th>\n",
              "      <td>2</td>\n",
              "      <td>2016-04-06 19:32:31</td>\n",
              "      <td>2016-04-06 19:39:40</td>\n",
              "      <td>1</td>\n",
              "      <td>0.923307</td>\n",
              "      <td>0.119167</td>\n",
              "      <td>7.748028</td>\n",
              "      <td>1</td>\n",
              "      <td>0</td>\n",
              "      <td>0</td>\n",
              "      <td>0</td>\n",
              "      <td>0</td>\n",
              "      <td>0</td>\n",
              "      <td>0</td>\n",
              "      <td>0</td>\n",
              "      <td>1</td>\n",
              "      <td>0</td>\n",
              "      <td>0</td>\n",
              "      <td>0</td>\n",
              "      <td>0</td>\n",
              "      <td>0</td>\n",
              "      <td>0</td>\n",
              "      <td>1</td>\n",
              "      <td>0</td>\n",
              "      <td>0</td>\n",
              "      <td>0</td>\n",
              "      <td>1</td>\n",
              "      <td>0</td>\n",
              "      <td>0</td>\n",
              "      <td>0</td>\n",
              "      <td>0</td>\n",
              "      <td>0</td>\n",
              "      <td>1</td>\n",
              "      <td>0</td>\n",
              "      <td>0</td>\n",
              "      <td>0</td>\n",
              "    </tr>\n",
              "    <tr>\n",
              "      <th>4</th>\n",
              "      <td>2</td>\n",
              "      <td>2016-03-26 13:30:55</td>\n",
              "      <td>2016-03-26 13:38:10</td>\n",
              "      <td>1</td>\n",
              "      <td>0.738763</td>\n",
              "      <td>0.120833</td>\n",
              "      <td>6.113903</td>\n",
              "      <td>1</td>\n",
              "      <td>0</td>\n",
              "      <td>0</td>\n",
              "      <td>0</td>\n",
              "      <td>1</td>\n",
              "      <td>0</td>\n",
              "      <td>0</td>\n",
              "      <td>0</td>\n",
              "      <td>0</td>\n",
              "      <td>0</td>\n",
              "      <td>0</td>\n",
              "      <td>1</td>\n",
              "      <td>0</td>\n",
              "      <td>0</td>\n",
              "      <td>0</td>\n",
              "      <td>0</td>\n",
              "      <td>0</td>\n",
              "      <td>0</td>\n",
              "      <td>1</td>\n",
              "      <td>0</td>\n",
              "      <td>0</td>\n",
              "      <td>0</td>\n",
              "      <td>0</td>\n",
              "      <td>0</td>\n",
              "      <td>1</td>\n",
              "      <td>0</td>\n",
              "      <td>0</td>\n",
              "      <td>0</td>\n",
              "      <td>0</td>\n",
              "    </tr>\n",
              "  </tbody>\n",
              "</table>\n",
              "</div>"
            ],
            "text/plain": [
              "   vendor_id     pickup_datetime  ... dropoff_month_6  dropoff_month_7\n",
              "0          2 2016-03-14 17:24:55  ...               0                0\n",
              "1          1 2016-06-12 00:43:35  ...               1                0\n",
              "2          2 2016-01-19 11:35:24  ...               0                0\n",
              "3          2 2016-04-06 19:32:31  ...               0                0\n",
              "4          2 2016-03-26 13:30:55  ...               0                0\n",
              "\n",
              "[5 rows x 36 columns]"
            ]
          },
          "metadata": {},
          "execution_count": 44
        }
      ]
    },
    {
      "cell_type": "markdown",
      "metadata": {
        "id": "9N2xrroKuH4y"
      },
      "source": [
        "# **Linear Regression**"
      ]
    },
    {
      "cell_type": "code",
      "metadata": {
        "colab": {
          "base_uri": "https://localhost:8080/",
          "height": 1000
        },
        "id": "9IQgJHbS1u-S",
        "outputId": "e84ffb66-a917-41cc-f46a-8388e65e4a33"
      },
      "source": [
        "df.corr()"
      ],
      "execution_count": 45,
      "outputs": [
        {
          "output_type": "execute_result",
          "data": {
            "text/html": [
              "<div>\n",
              "<style scoped>\n",
              "    .dataframe tbody tr th:only-of-type {\n",
              "        vertical-align: middle;\n",
              "    }\n",
              "\n",
              "    .dataframe tbody tr th {\n",
              "        vertical-align: top;\n",
              "    }\n",
              "\n",
              "    .dataframe thead th {\n",
              "        text-align: right;\n",
              "    }\n",
              "</style>\n",
              "<table border=\"1\" class=\"dataframe\">\n",
              "  <thead>\n",
              "    <tr style=\"text-align: right;\">\n",
              "      <th></th>\n",
              "      <th>vendor_id</th>\n",
              "      <th>passenger_count</th>\n",
              "      <th>distance</th>\n",
              "      <th>trip_duration_hour</th>\n",
              "      <th>Speed</th>\n",
              "      <th>store_and_fwd_flag_N</th>\n",
              "      <th>store_and_fwd_flag_Y</th>\n",
              "      <th>pickup_day_Friday</th>\n",
              "      <th>pickup_day_Monday</th>\n",
              "      <th>pickup_day_Saturday</th>\n",
              "      <th>pickup_day_Sunday</th>\n",
              "      <th>pickup_day_Thursday</th>\n",
              "      <th>pickup_day_Tuesday</th>\n",
              "      <th>pickup_day_Wednesday</th>\n",
              "      <th>dropoff_day_Friday</th>\n",
              "      <th>dropoff_day_Monday</th>\n",
              "      <th>dropoff_day_Saturday</th>\n",
              "      <th>dropoff_day_Sunday</th>\n",
              "      <th>dropoff_day_Thursday</th>\n",
              "      <th>dropoff_day_Tuesday</th>\n",
              "      <th>dropoff_day_Wednesday</th>\n",
              "      <th>pickup_month_1</th>\n",
              "      <th>pickup_month_2</th>\n",
              "      <th>pickup_month_3</th>\n",
              "      <th>pickup_month_4</th>\n",
              "      <th>pickup_month_5</th>\n",
              "      <th>pickup_month_6</th>\n",
              "      <th>dropoff_month_1</th>\n",
              "      <th>dropoff_month_2</th>\n",
              "      <th>dropoff_month_3</th>\n",
              "      <th>dropoff_month_4</th>\n",
              "      <th>dropoff_month_5</th>\n",
              "      <th>dropoff_month_6</th>\n",
              "      <th>dropoff_month_7</th>\n",
              "    </tr>\n",
              "  </thead>\n",
              "  <tbody>\n",
              "    <tr>\n",
              "      <th>vendor_id</th>\n",
              "      <td>1.000000</td>\n",
              "      <td>0.281247</td>\n",
              "      <td>-0.011766</td>\n",
              "      <td>0.022324</td>\n",
              "      <td>-0.004531</td>\n",
              "      <td>0.075405</td>\n",
              "      <td>-0.075405</td>\n",
              "      <td>-0.001178</td>\n",
              "      <td>-0.000690</td>\n",
              "      <td>0.000830</td>\n",
              "      <td>0.002912</td>\n",
              "      <td>-0.001766</td>\n",
              "      <td>0.001656</td>\n",
              "      <td>-0.001641</td>\n",
              "      <td>-0.001218</td>\n",
              "      <td>-0.000570</td>\n",
              "      <td>0.000598</td>\n",
              "      <td>0.003257</td>\n",
              "      <td>-0.001939</td>\n",
              "      <td>0.001448</td>\n",
              "      <td>-0.001448</td>\n",
              "      <td>0.004827</td>\n",
              "      <td>0.002702</td>\n",
              "      <td>0.001662</td>\n",
              "      <td>-0.002604</td>\n",
              "      <td>-0.002616</td>\n",
              "      <td>-0.003920</td>\n",
              "      <td>0.004798</td>\n",
              "      <td>0.002690</td>\n",
              "      <td>0.001718</td>\n",
              "      <td>-0.002625</td>\n",
              "      <td>-0.002623</td>\n",
              "      <td>-0.003898</td>\n",
              "      <td>-0.000497</td>\n",
              "    </tr>\n",
              "    <tr>\n",
              "      <th>passenger_count</th>\n",
              "      <td>0.281247</td>\n",
              "      <td>1.000000</td>\n",
              "      <td>-0.044059</td>\n",
              "      <td>-0.009810</td>\n",
              "      <td>-0.028286</td>\n",
              "      <td>0.020670</td>\n",
              "      <td>-0.020670</td>\n",
              "      <td>-0.001070</td>\n",
              "      <td>-0.009090</td>\n",
              "      <td>0.022403</td>\n",
              "      <td>0.015077</td>\n",
              "      <td>-0.008671</td>\n",
              "      <td>-0.009212</td>\n",
              "      <td>-0.009931</td>\n",
              "      <td>-0.001213</td>\n",
              "      <td>-0.009071</td>\n",
              "      <td>0.022149</td>\n",
              "      <td>0.015512</td>\n",
              "      <td>-0.008690</td>\n",
              "      <td>-0.009263</td>\n",
              "      <td>-0.009976</td>\n",
              "      <td>0.003542</td>\n",
              "      <td>-0.000409</td>\n",
              "      <td>-0.000623</td>\n",
              "      <td>0.001189</td>\n",
              "      <td>-0.001256</td>\n",
              "      <td>-0.002413</td>\n",
              "      <td>0.003567</td>\n",
              "      <td>-0.000418</td>\n",
              "      <td>-0.000635</td>\n",
              "      <td>0.001204</td>\n",
              "      <td>-0.001253</td>\n",
              "      <td>-0.002389</td>\n",
              "      <td>-0.002121</td>\n",
              "    </tr>\n",
              "    <tr>\n",
              "      <th>distance</th>\n",
              "      <td>-0.011766</td>\n",
              "      <td>-0.044059</td>\n",
              "      <td>1.000000</td>\n",
              "      <td>0.094185</td>\n",
              "      <td>0.496350</td>\n",
              "      <td>-0.014998</td>\n",
              "      <td>0.014998</td>\n",
              "      <td>-0.008163</td>\n",
              "      <td>0.000035</td>\n",
              "      <td>0.007639</td>\n",
              "      <td>0.040779</td>\n",
              "      <td>-0.010054</td>\n",
              "      <td>-0.015029</td>\n",
              "      <td>-0.013883</td>\n",
              "      <td>-0.008092</td>\n",
              "      <td>-0.000187</td>\n",
              "      <td>0.007914</td>\n",
              "      <td>0.041926</td>\n",
              "      <td>-0.010697</td>\n",
              "      <td>-0.015146</td>\n",
              "      <td>-0.014573</td>\n",
              "      <td>-0.006106</td>\n",
              "      <td>-0.006078</td>\n",
              "      <td>0.004404</td>\n",
              "      <td>0.002357</td>\n",
              "      <td>0.004064</td>\n",
              "      <td>0.001075</td>\n",
              "      <td>-0.006205</td>\n",
              "      <td>-0.006060</td>\n",
              "      <td>0.004351</td>\n",
              "      <td>0.002405</td>\n",
              "      <td>0.004074</td>\n",
              "      <td>0.001029</td>\n",
              "      <td>0.005324</td>\n",
              "    </tr>\n",
              "    <tr>\n",
              "      <th>trip_duration_hour</th>\n",
              "      <td>0.022324</td>\n",
              "      <td>-0.009810</td>\n",
              "      <td>0.094185</td>\n",
              "      <td>1.000000</td>\n",
              "      <td>-0.067004</td>\n",
              "      <td>0.000030</td>\n",
              "      <td>-0.000030</td>\n",
              "      <td>0.003097</td>\n",
              "      <td>-0.007292</td>\n",
              "      <td>-0.000640</td>\n",
              "      <td>-0.006133</td>\n",
              "      <td>0.004762</td>\n",
              "      <td>0.002925</td>\n",
              "      <td>0.002612</td>\n",
              "      <td>0.001369</td>\n",
              "      <td>-0.002648</td>\n",
              "      <td>-0.002790</td>\n",
              "      <td>-0.001589</td>\n",
              "      <td>0.003291</td>\n",
              "      <td>-0.001430</td>\n",
              "      <td>0.003587</td>\n",
              "      <td>-0.003048</td>\n",
              "      <td>-0.003802</td>\n",
              "      <td>-0.002215</td>\n",
              "      <td>0.001438</td>\n",
              "      <td>0.003202</td>\n",
              "      <td>0.004443</td>\n",
              "      <td>-0.003423</td>\n",
              "      <td>-0.003756</td>\n",
              "      <td>-0.002368</td>\n",
              "      <td>0.001442</td>\n",
              "      <td>0.003519</td>\n",
              "      <td>0.004170</td>\n",
              "      <td>0.019048</td>\n",
              "    </tr>\n",
              "    <tr>\n",
              "      <th>Speed</th>\n",
              "      <td>-0.004531</td>\n",
              "      <td>-0.028286</td>\n",
              "      <td>0.496350</td>\n",
              "      <td>-0.067004</td>\n",
              "      <td>1.000000</td>\n",
              "      <td>-0.003084</td>\n",
              "      <td>0.003084</td>\n",
              "      <td>-0.036793</td>\n",
              "      <td>0.029130</td>\n",
              "      <td>0.035721</td>\n",
              "      <td>0.120025</td>\n",
              "      <td>-0.054549</td>\n",
              "      <td>-0.037691</td>\n",
              "      <td>-0.050023</td>\n",
              "      <td>-0.035711</td>\n",
              "      <td>0.028935</td>\n",
              "      <td>0.036063</td>\n",
              "      <td>0.117728</td>\n",
              "      <td>-0.054277</td>\n",
              "      <td>-0.037446</td>\n",
              "      <td>-0.050214</td>\n",
              "      <td>0.020746</td>\n",
              "      <td>0.008832</td>\n",
              "      <td>0.011677</td>\n",
              "      <td>-0.009612</td>\n",
              "      <td>-0.012461</td>\n",
              "      <td>-0.019137</td>\n",
              "      <td>0.020718</td>\n",
              "      <td>0.008830</td>\n",
              "      <td>0.011703</td>\n",
              "      <td>-0.009562</td>\n",
              "      <td>-0.012526</td>\n",
              "      <td>-0.019103</td>\n",
              "      <td>-0.000602</td>\n",
              "    </tr>\n",
              "    <tr>\n",
              "      <th>store_and_fwd_flag_N</th>\n",
              "      <td>0.075405</td>\n",
              "      <td>0.020670</td>\n",
              "      <td>-0.014998</td>\n",
              "      <td>0.000030</td>\n",
              "      <td>-0.003084</td>\n",
              "      <td>1.000000</td>\n",
              "      <td>-1.000000</td>\n",
              "      <td>-0.001161</td>\n",
              "      <td>-0.001115</td>\n",
              "      <td>0.001776</td>\n",
              "      <td>0.003442</td>\n",
              "      <td>-0.002023</td>\n",
              "      <td>-0.000308</td>\n",
              "      <td>-0.000542</td>\n",
              "      <td>-0.000995</td>\n",
              "      <td>-0.000994</td>\n",
              "      <td>0.001910</td>\n",
              "      <td>0.003235</td>\n",
              "      <td>-0.002386</td>\n",
              "      <td>-0.000345</td>\n",
              "      <td>-0.000379</td>\n",
              "      <td>-0.000976</td>\n",
              "      <td>-0.000297</td>\n",
              "      <td>0.001567</td>\n",
              "      <td>-0.000738</td>\n",
              "      <td>0.001814</td>\n",
              "      <td>-0.001452</td>\n",
              "      <td>-0.000980</td>\n",
              "      <td>-0.000271</td>\n",
              "      <td>0.001534</td>\n",
              "      <td>-0.000711</td>\n",
              "      <td>0.001794</td>\n",
              "      <td>-0.001460</td>\n",
              "      <td>0.000588</td>\n",
              "    </tr>\n",
              "    <tr>\n",
              "      <th>store_and_fwd_flag_Y</th>\n",
              "      <td>-0.075405</td>\n",
              "      <td>-0.020670</td>\n",
              "      <td>0.014998</td>\n",
              "      <td>-0.000030</td>\n",
              "      <td>0.003084</td>\n",
              "      <td>-1.000000</td>\n",
              "      <td>1.000000</td>\n",
              "      <td>0.001161</td>\n",
              "      <td>0.001115</td>\n",
              "      <td>-0.001776</td>\n",
              "      <td>-0.003442</td>\n",
              "      <td>0.002023</td>\n",
              "      <td>0.000308</td>\n",
              "      <td>0.000542</td>\n",
              "      <td>0.000995</td>\n",
              "      <td>0.000994</td>\n",
              "      <td>-0.001910</td>\n",
              "      <td>-0.003235</td>\n",
              "      <td>0.002386</td>\n",
              "      <td>0.000345</td>\n",
              "      <td>0.000379</td>\n",
              "      <td>0.000976</td>\n",
              "      <td>0.000297</td>\n",
              "      <td>-0.001567</td>\n",
              "      <td>0.000738</td>\n",
              "      <td>-0.001814</td>\n",
              "      <td>0.001452</td>\n",
              "      <td>0.000980</td>\n",
              "      <td>0.000271</td>\n",
              "      <td>-0.001534</td>\n",
              "      <td>0.000711</td>\n",
              "      <td>-0.001794</td>\n",
              "      <td>0.001460</td>\n",
              "      <td>-0.000588</td>\n",
              "    </tr>\n",
              "    <tr>\n",
              "      <th>pickup_day_Friday</th>\n",
              "      <td>-0.001178</td>\n",
              "      <td>-0.001070</td>\n",
              "      <td>-0.008163</td>\n",
              "      <td>0.003097</td>\n",
              "      <td>-0.036793</td>\n",
              "      <td>-0.001161</td>\n",
              "      <td>0.001161</td>\n",
              "      <td>1.000000</td>\n",
              "      <td>-0.162467</td>\n",
              "      <td>-0.180866</td>\n",
              "      <td>-0.166474</td>\n",
              "      <td>-0.178156</td>\n",
              "      <td>-0.171052</td>\n",
              "      <td>-0.174742</td>\n",
              "      <td>0.985495</td>\n",
              "      <td>-0.162450</td>\n",
              "      <td>-0.165031</td>\n",
              "      <td>-0.167413</td>\n",
              "      <td>-0.177826</td>\n",
              "      <td>-0.170926</td>\n",
              "      <td>-0.174581</td>\n",
              "      <td>0.033259</td>\n",
              "      <td>-0.005592</td>\n",
              "      <td>-0.018227</td>\n",
              "      <td>0.026315</td>\n",
              "      <td>-0.020493</td>\n",
              "      <td>-0.014748</td>\n",
              "      <td>0.033287</td>\n",
              "      <td>-0.005581</td>\n",
              "      <td>-0.018195</td>\n",
              "      <td>0.026325</td>\n",
              "      <td>-0.020540</td>\n",
              "      <td>-0.014702</td>\n",
              "      <td>-0.003519</td>\n",
              "    </tr>\n",
              "    <tr>\n",
              "      <th>pickup_day_Monday</th>\n",
              "      <td>-0.000690</td>\n",
              "      <td>-0.009090</td>\n",
              "      <td>0.000035</td>\n",
              "      <td>-0.007292</td>\n",
              "      <td>0.029130</td>\n",
              "      <td>-0.001115</td>\n",
              "      <td>0.001115</td>\n",
              "      <td>-0.162467</td>\n",
              "      <td>1.000000</td>\n",
              "      <td>-0.162597</td>\n",
              "      <td>-0.149659</td>\n",
              "      <td>-0.160161</td>\n",
              "      <td>-0.153774</td>\n",
              "      <td>-0.157092</td>\n",
              "      <td>-0.162255</td>\n",
              "      <td>0.992606</td>\n",
              "      <td>-0.162557</td>\n",
              "      <td>-0.150502</td>\n",
              "      <td>-0.159863</td>\n",
              "      <td>-0.146435</td>\n",
              "      <td>-0.156946</td>\n",
              "      <td>-0.014056</td>\n",
              "      <td>0.030521</td>\n",
              "      <td>-0.015632</td>\n",
              "      <td>-0.013055</td>\n",
              "      <td>0.019656</td>\n",
              "      <td>-0.007288</td>\n",
              "      <td>-0.014034</td>\n",
              "      <td>0.030273</td>\n",
              "      <td>-0.015351</td>\n",
              "      <td>-0.013047</td>\n",
              "      <td>0.019610</td>\n",
              "      <td>-0.007245</td>\n",
              "      <td>-0.003163</td>\n",
              "    </tr>\n",
              "    <tr>\n",
              "      <th>pickup_day_Saturday</th>\n",
              "      <td>0.000830</td>\n",
              "      <td>0.022403</td>\n",
              "      <td>0.007639</td>\n",
              "      <td>-0.000640</td>\n",
              "      <td>0.035721</td>\n",
              "      <td>0.001776</td>\n",
              "      <td>-0.001776</td>\n",
              "      <td>-0.180866</td>\n",
              "      <td>-0.162597</td>\n",
              "      <td>1.000000</td>\n",
              "      <td>-0.166607</td>\n",
              "      <td>-0.178298</td>\n",
              "      <td>-0.171188</td>\n",
              "      <td>-0.174882</td>\n",
              "      <td>-0.180630</td>\n",
              "      <td>-0.162579</td>\n",
              "      <td>0.983974</td>\n",
              "      <td>-0.150358</td>\n",
              "      <td>-0.177968</td>\n",
              "      <td>-0.171062</td>\n",
              "      <td>-0.174720</td>\n",
              "      <td>-0.000453</td>\n",
              "      <td>0.001290</td>\n",
              "      <td>-0.011170</td>\n",
              "      <td>0.039066</td>\n",
              "      <td>-0.015353</td>\n",
              "      <td>-0.013888</td>\n",
              "      <td>-0.000427</td>\n",
              "      <td>0.001301</td>\n",
              "      <td>-0.011138</td>\n",
              "      <td>0.038562</td>\n",
              "      <td>-0.014882</td>\n",
              "      <td>-0.013841</td>\n",
              "      <td>-0.003522</td>\n",
              "    </tr>\n",
              "    <tr>\n",
              "      <th>pickup_day_Sunday</th>\n",
              "      <td>0.002912</td>\n",
              "      <td>0.015077</td>\n",
              "      <td>0.040779</td>\n",
              "      <td>-0.006133</td>\n",
              "      <td>0.120025</td>\n",
              "      <td>0.003442</td>\n",
              "      <td>-0.003442</td>\n",
              "      <td>-0.166474</td>\n",
              "      <td>-0.149659</td>\n",
              "      <td>-0.166607</td>\n",
              "      <td>1.000000</td>\n",
              "      <td>-0.164111</td>\n",
              "      <td>-0.157566</td>\n",
              "      <td>-0.160966</td>\n",
              "      <td>-0.166257</td>\n",
              "      <td>-0.142486</td>\n",
              "      <td>-0.166567</td>\n",
              "      <td>0.987394</td>\n",
              "      <td>-0.163806</td>\n",
              "      <td>-0.157451</td>\n",
              "      <td>-0.160817</td>\n",
              "      <td>0.011232</td>\n",
              "      <td>-0.000140</td>\n",
              "      <td>-0.015676</td>\n",
              "      <td>-0.008110</td>\n",
              "      <td>0.027477</td>\n",
              "      <td>-0.014483</td>\n",
              "      <td>0.011077</td>\n",
              "      <td>0.000047</td>\n",
              "      <td>-0.015646</td>\n",
              "      <td>-0.008102</td>\n",
              "      <td>0.027429</td>\n",
              "      <td>-0.014440</td>\n",
              "      <td>-0.003241</td>\n",
              "    </tr>\n",
              "    <tr>\n",
              "      <th>pickup_day_Thursday</th>\n",
              "      <td>-0.001766</td>\n",
              "      <td>-0.008671</td>\n",
              "      <td>-0.010054</td>\n",
              "      <td>0.004762</td>\n",
              "      <td>-0.054549</td>\n",
              "      <td>-0.002023</td>\n",
              "      <td>0.002023</td>\n",
              "      <td>-0.178156</td>\n",
              "      <td>-0.160161</td>\n",
              "      <td>-0.178298</td>\n",
              "      <td>-0.164111</td>\n",
              "      <td>1.000000</td>\n",
              "      <td>-0.168623</td>\n",
              "      <td>-0.172262</td>\n",
              "      <td>-0.164590</td>\n",
              "      <td>-0.160143</td>\n",
              "      <td>-0.178255</td>\n",
              "      <td>-0.165036</td>\n",
              "      <td>0.988386</td>\n",
              "      <td>-0.168499</td>\n",
              "      <td>-0.172102</td>\n",
              "      <td>-0.009988</td>\n",
              "      <td>-0.005124</td>\n",
              "      <td>0.020063</td>\n",
              "      <td>-0.018256</td>\n",
              "      <td>-0.016892</td>\n",
              "      <td>0.030434</td>\n",
              "      <td>-0.009963</td>\n",
              "      <td>-0.005113</td>\n",
              "      <td>0.019643</td>\n",
              "      <td>-0.017789</td>\n",
              "      <td>-0.016939</td>\n",
              "      <td>0.029959</td>\n",
              "      <td>0.019751</td>\n",
              "    </tr>\n",
              "    <tr>\n",
              "      <th>pickup_day_Tuesday</th>\n",
              "      <td>0.001656</td>\n",
              "      <td>-0.009212</td>\n",
              "      <td>-0.015029</td>\n",
              "      <td>0.002925</td>\n",
              "      <td>-0.037691</td>\n",
              "      <td>-0.000308</td>\n",
              "      <td>0.000308</td>\n",
              "      <td>-0.171052</td>\n",
              "      <td>-0.153774</td>\n",
              "      <td>-0.171188</td>\n",
              "      <td>-0.157566</td>\n",
              "      <td>-0.168623</td>\n",
              "      <td>1.000000</td>\n",
              "      <td>-0.165392</td>\n",
              "      <td>-0.170829</td>\n",
              "      <td>-0.153757</td>\n",
              "      <td>-0.171146</td>\n",
              "      <td>-0.158449</td>\n",
              "      <td>-0.168310</td>\n",
              "      <td>0.992306</td>\n",
              "      <td>-0.156942</td>\n",
              "      <td>-0.012146</td>\n",
              "      <td>-0.011008</td>\n",
              "      <td>0.019421</td>\n",
              "      <td>-0.012454</td>\n",
              "      <td>0.025511</td>\n",
              "      <td>-0.010187</td>\n",
              "      <td>-0.012122</td>\n",
              "      <td>-0.010998</td>\n",
              "      <td>0.019454</td>\n",
              "      <td>-0.012446</td>\n",
              "      <td>0.025255</td>\n",
              "      <td>-0.009931</td>\n",
              "      <td>-0.003331</td>\n",
              "    </tr>\n",
              "    <tr>\n",
              "      <th>pickup_day_Wednesday</th>\n",
              "      <td>-0.001641</td>\n",
              "      <td>-0.009931</td>\n",
              "      <td>-0.013883</td>\n",
              "      <td>0.002612</td>\n",
              "      <td>-0.050023</td>\n",
              "      <td>-0.000542</td>\n",
              "      <td>0.000542</td>\n",
              "      <td>-0.174742</td>\n",
              "      <td>-0.157092</td>\n",
              "      <td>-0.174882</td>\n",
              "      <td>-0.160966</td>\n",
              "      <td>-0.172262</td>\n",
              "      <td>-0.165392</td>\n",
              "      <td>1.000000</td>\n",
              "      <td>-0.174514</td>\n",
              "      <td>-0.157075</td>\n",
              "      <td>-0.174839</td>\n",
              "      <td>-0.161874</td>\n",
              "      <td>-0.162050</td>\n",
              "      <td>-0.165270</td>\n",
              "      <td>0.990904</td>\n",
              "      <td>-0.009019</td>\n",
              "      <td>-0.008369</td>\n",
              "      <td>0.020602</td>\n",
              "      <td>-0.015982</td>\n",
              "      <td>-0.016459</td>\n",
              "      <td>0.029405</td>\n",
              "      <td>-0.008994</td>\n",
              "      <td>-0.008359</td>\n",
              "      <td>0.020635</td>\n",
              "      <td>-0.015974</td>\n",
              "      <td>-0.016505</td>\n",
              "      <td>0.029455</td>\n",
              "      <td>-0.003402</td>\n",
              "    </tr>\n",
              "    <tr>\n",
              "      <th>dropoff_day_Friday</th>\n",
              "      <td>-0.001218</td>\n",
              "      <td>-0.001213</td>\n",
              "      <td>-0.008092</td>\n",
              "      <td>0.001369</td>\n",
              "      <td>-0.035711</td>\n",
              "      <td>-0.000995</td>\n",
              "      <td>0.000995</td>\n",
              "      <td>0.985495</td>\n",
              "      <td>-0.162255</td>\n",
              "      <td>-0.180630</td>\n",
              "      <td>-0.166257</td>\n",
              "      <td>-0.164590</td>\n",
              "      <td>-0.170829</td>\n",
              "      <td>-0.174514</td>\n",
              "      <td>1.000000</td>\n",
              "      <td>-0.162238</td>\n",
              "      <td>-0.180586</td>\n",
              "      <td>-0.167194</td>\n",
              "      <td>-0.177594</td>\n",
              "      <td>-0.170703</td>\n",
              "      <td>-0.174353</td>\n",
              "      <td>0.032971</td>\n",
              "      <td>-0.005882</td>\n",
              "      <td>-0.018032</td>\n",
              "      <td>0.025696</td>\n",
              "      <td>-0.020077</td>\n",
              "      <td>-0.014155</td>\n",
              "      <td>0.032999</td>\n",
              "      <td>-0.005871</td>\n",
              "      <td>-0.018451</td>\n",
              "      <td>0.026160</td>\n",
              "      <td>-0.020124</td>\n",
              "      <td>-0.014629</td>\n",
              "      <td>0.019496</td>\n",
              "    </tr>\n",
              "    <tr>\n",
              "      <th>dropoff_day_Monday</th>\n",
              "      <td>-0.000570</td>\n",
              "      <td>-0.009071</td>\n",
              "      <td>-0.000187</td>\n",
              "      <td>-0.002648</td>\n",
              "      <td>0.028935</td>\n",
              "      <td>-0.000994</td>\n",
              "      <td>0.000994</td>\n",
              "      <td>-0.162450</td>\n",
              "      <td>0.992606</td>\n",
              "      <td>-0.162579</td>\n",
              "      <td>-0.142486</td>\n",
              "      <td>-0.160143</td>\n",
              "      <td>-0.153757</td>\n",
              "      <td>-0.157075</td>\n",
              "      <td>-0.162238</td>\n",
              "      <td>1.000000</td>\n",
              "      <td>-0.162540</td>\n",
              "      <td>-0.150486</td>\n",
              "      <td>-0.159846</td>\n",
              "      <td>-0.153644</td>\n",
              "      <td>-0.156930</td>\n",
              "      <td>-0.013812</td>\n",
              "      <td>0.030495</td>\n",
              "      <td>-0.015600</td>\n",
              "      <td>-0.013083</td>\n",
              "      <td>0.019535</td>\n",
              "      <td>-0.007386</td>\n",
              "      <td>-0.013973</td>\n",
              "      <td>0.030686</td>\n",
              "      <td>-0.015572</td>\n",
              "      <td>-0.013075</td>\n",
              "      <td>0.019489</td>\n",
              "      <td>-0.007343</td>\n",
              "      <td>-0.003163</td>\n",
              "    </tr>\n",
              "    <tr>\n",
              "      <th>dropoff_day_Saturday</th>\n",
              "      <td>0.000598</td>\n",
              "      <td>0.022149</td>\n",
              "      <td>0.007914</td>\n",
              "      <td>-0.002790</td>\n",
              "      <td>0.036063</td>\n",
              "      <td>0.001910</td>\n",
              "      <td>-0.001910</td>\n",
              "      <td>-0.165031</td>\n",
              "      <td>-0.162557</td>\n",
              "      <td>0.983974</td>\n",
              "      <td>-0.166567</td>\n",
              "      <td>-0.178255</td>\n",
              "      <td>-0.171146</td>\n",
              "      <td>-0.174839</td>\n",
              "      <td>-0.180586</td>\n",
              "      <td>-0.162540</td>\n",
              "      <td>1.000000</td>\n",
              "      <td>-0.167506</td>\n",
              "      <td>-0.177924</td>\n",
              "      <td>-0.171021</td>\n",
              "      <td>-0.174677</td>\n",
              "      <td>-0.000326</td>\n",
              "      <td>0.001029</td>\n",
              "      <td>-0.010885</td>\n",
              "      <td>0.039137</td>\n",
              "      <td>-0.015541</td>\n",
              "      <td>-0.013927</td>\n",
              "      <td>-0.000300</td>\n",
              "      <td>0.001040</td>\n",
              "      <td>-0.010852</td>\n",
              "      <td>0.039146</td>\n",
              "      <td>-0.015589</td>\n",
              "      <td>-0.013880</td>\n",
              "      <td>-0.003521</td>\n",
              "    </tr>\n",
              "    <tr>\n",
              "      <th>dropoff_day_Sunday</th>\n",
              "      <td>0.003257</td>\n",
              "      <td>0.015512</td>\n",
              "      <td>0.041926</td>\n",
              "      <td>-0.001589</td>\n",
              "      <td>0.117728</td>\n",
              "      <td>0.003235</td>\n",
              "      <td>-0.003235</td>\n",
              "      <td>-0.167413</td>\n",
              "      <td>-0.150502</td>\n",
              "      <td>-0.150358</td>\n",
              "      <td>0.987394</td>\n",
              "      <td>-0.165036</td>\n",
              "      <td>-0.158449</td>\n",
              "      <td>-0.161874</td>\n",
              "      <td>-0.167194</td>\n",
              "      <td>-0.150486</td>\n",
              "      <td>-0.167506</td>\n",
              "      <td>1.000000</td>\n",
              "      <td>-0.164730</td>\n",
              "      <td>-0.158338</td>\n",
              "      <td>-0.161724</td>\n",
              "      <td>0.010997</td>\n",
              "      <td>0.000011</td>\n",
              "      <td>-0.015824</td>\n",
              "      <td>-0.007425</td>\n",
              "      <td>0.026939</td>\n",
              "      <td>-0.014406</td>\n",
              "      <td>0.011022</td>\n",
              "      <td>0.000022</td>\n",
              "      <td>-0.015794</td>\n",
              "      <td>-0.007959</td>\n",
              "      <td>0.027439</td>\n",
              "      <td>-0.014362</td>\n",
              "      <td>-0.003260</td>\n",
              "    </tr>\n",
              "    <tr>\n",
              "      <th>dropoff_day_Thursday</th>\n",
              "      <td>-0.001939</td>\n",
              "      <td>-0.008690</td>\n",
              "      <td>-0.010697</td>\n",
              "      <td>0.003291</td>\n",
              "      <td>-0.054277</td>\n",
              "      <td>-0.002386</td>\n",
              "      <td>0.002386</td>\n",
              "      <td>-0.177826</td>\n",
              "      <td>-0.159863</td>\n",
              "      <td>-0.177968</td>\n",
              "      <td>-0.163806</td>\n",
              "      <td>0.988386</td>\n",
              "      <td>-0.168310</td>\n",
              "      <td>-0.162050</td>\n",
              "      <td>-0.177594</td>\n",
              "      <td>-0.159846</td>\n",
              "      <td>-0.177924</td>\n",
              "      <td>-0.164730</td>\n",
              "      <td>1.000000</td>\n",
              "      <td>-0.168187</td>\n",
              "      <td>-0.171783</td>\n",
              "      <td>-0.009972</td>\n",
              "      <td>-0.004987</td>\n",
              "      <td>0.020082</td>\n",
              "      <td>-0.018173</td>\n",
              "      <td>-0.017100</td>\n",
              "      <td>0.030386</td>\n",
              "      <td>-0.009947</td>\n",
              "      <td>-0.004976</td>\n",
              "      <td>0.020116</td>\n",
              "      <td>-0.018164</td>\n",
              "      <td>-0.017146</td>\n",
              "      <td>0.030437</td>\n",
              "      <td>-0.003462</td>\n",
              "    </tr>\n",
              "    <tr>\n",
              "      <th>dropoff_day_Tuesday</th>\n",
              "      <td>0.001448</td>\n",
              "      <td>-0.009263</td>\n",
              "      <td>-0.015146</td>\n",
              "      <td>-0.001430</td>\n",
              "      <td>-0.037446</td>\n",
              "      <td>-0.000345</td>\n",
              "      <td>0.000345</td>\n",
              "      <td>-0.170926</td>\n",
              "      <td>-0.146435</td>\n",
              "      <td>-0.171062</td>\n",
              "      <td>-0.157451</td>\n",
              "      <td>-0.168499</td>\n",
              "      <td>0.992306</td>\n",
              "      <td>-0.165270</td>\n",
              "      <td>-0.170703</td>\n",
              "      <td>-0.153644</td>\n",
              "      <td>-0.171021</td>\n",
              "      <td>-0.158338</td>\n",
              "      <td>-0.168187</td>\n",
              "      <td>1.000000</td>\n",
              "      <td>-0.165118</td>\n",
              "      <td>-0.012261</td>\n",
              "      <td>-0.010706</td>\n",
              "      <td>0.019182</td>\n",
              "      <td>-0.012563</td>\n",
              "      <td>0.025765</td>\n",
              "      <td>-0.010277</td>\n",
              "      <td>-0.012238</td>\n",
              "      <td>-0.010945</td>\n",
              "      <td>0.019458</td>\n",
              "      <td>-0.012555</td>\n",
              "      <td>0.025716</td>\n",
              "      <td>-0.010232</td>\n",
              "      <td>-0.003328</td>\n",
              "    </tr>\n",
              "    <tr>\n",
              "      <th>dropoff_day_Wednesday</th>\n",
              "      <td>-0.001448</td>\n",
              "      <td>-0.009976</td>\n",
              "      <td>-0.014573</td>\n",
              "      <td>0.003587</td>\n",
              "      <td>-0.050214</td>\n",
              "      <td>-0.000379</td>\n",
              "      <td>0.000379</td>\n",
              "      <td>-0.174581</td>\n",
              "      <td>-0.156946</td>\n",
              "      <td>-0.174720</td>\n",
              "      <td>-0.160817</td>\n",
              "      <td>-0.172102</td>\n",
              "      <td>-0.156942</td>\n",
              "      <td>0.990904</td>\n",
              "      <td>-0.174353</td>\n",
              "      <td>-0.156930</td>\n",
              "      <td>-0.174677</td>\n",
              "      <td>-0.161724</td>\n",
              "      <td>-0.171783</td>\n",
              "      <td>-0.165118</td>\n",
              "      <td>1.000000</td>\n",
              "      <td>-0.008801</td>\n",
              "      <td>-0.008382</td>\n",
              "      <td>0.020532</td>\n",
              "      <td>-0.016015</td>\n",
              "      <td>-0.016245</td>\n",
              "      <td>0.029087</td>\n",
              "      <td>-0.008776</td>\n",
              "      <td>-0.008372</td>\n",
              "      <td>0.020566</td>\n",
              "      <td>-0.016006</td>\n",
              "      <td>-0.016494</td>\n",
              "      <td>0.029346</td>\n",
              "      <td>-0.003399</td>\n",
              "    </tr>\n",
              "    <tr>\n",
              "      <th>pickup_month_1</th>\n",
              "      <td>0.004827</td>\n",
              "      <td>0.003542</td>\n",
              "      <td>-0.006106</td>\n",
              "      <td>-0.003048</td>\n",
              "      <td>0.020746</td>\n",
              "      <td>-0.000976</td>\n",
              "      <td>0.000976</td>\n",
              "      <td>0.033259</td>\n",
              "      <td>-0.014056</td>\n",
              "      <td>-0.000453</td>\n",
              "      <td>0.011232</td>\n",
              "      <td>-0.009988</td>\n",
              "      <td>-0.012146</td>\n",
              "      <td>-0.009019</td>\n",
              "      <td>0.032971</td>\n",
              "      <td>-0.013812</td>\n",
              "      <td>-0.000326</td>\n",
              "      <td>0.010997</td>\n",
              "      <td>-0.009972</td>\n",
              "      <td>-0.012261</td>\n",
              "      <td>-0.008801</td>\n",
              "      <td>1.000000</td>\n",
              "      <td>-0.192711</td>\n",
              "      <td>-0.200561</td>\n",
              "      <td>-0.198188</td>\n",
              "      <td>-0.195291</td>\n",
              "      <td>-0.188552</td>\n",
              "      <td>0.999916</td>\n",
              "      <td>-0.192540</td>\n",
              "      <td>-0.200540</td>\n",
              "      <td>-0.198182</td>\n",
              "      <td>-0.195321</td>\n",
              "      <td>-0.188523</td>\n",
              "      <td>-0.003589</td>\n",
              "    </tr>\n",
              "    <tr>\n",
              "      <th>pickup_month_2</th>\n",
              "      <td>0.002702</td>\n",
              "      <td>-0.000409</td>\n",
              "      <td>-0.006078</td>\n",
              "      <td>-0.003802</td>\n",
              "      <td>0.008832</td>\n",
              "      <td>-0.000297</td>\n",
              "      <td>0.000297</td>\n",
              "      <td>-0.005592</td>\n",
              "      <td>0.030521</td>\n",
              "      <td>0.001290</td>\n",
              "      <td>-0.000140</td>\n",
              "      <td>-0.005124</td>\n",
              "      <td>-0.011008</td>\n",
              "      <td>-0.008369</td>\n",
              "      <td>-0.005882</td>\n",
              "      <td>0.030495</td>\n",
              "      <td>0.001029</td>\n",
              "      <td>0.000011</td>\n",
              "      <td>-0.004987</td>\n",
              "      <td>-0.010706</td>\n",
              "      <td>-0.008382</td>\n",
              "      <td>-0.192711</td>\n",
              "      <td>1.000000</td>\n",
              "      <td>-0.205602</td>\n",
              "      <td>-0.203169</td>\n",
              "      <td>-0.200200</td>\n",
              "      <td>-0.193291</td>\n",
              "      <td>-0.192695</td>\n",
              "      <td>0.999803</td>\n",
              "      <td>-0.205354</td>\n",
              "      <td>-0.203164</td>\n",
              "      <td>-0.200231</td>\n",
              "      <td>-0.193261</td>\n",
              "      <td>-0.003679</td>\n",
              "    </tr>\n",
              "    <tr>\n",
              "      <th>pickup_month_3</th>\n",
              "      <td>0.001662</td>\n",
              "      <td>-0.000623</td>\n",
              "      <td>0.004404</td>\n",
              "      <td>-0.002215</td>\n",
              "      <td>0.011677</td>\n",
              "      <td>0.001567</td>\n",
              "      <td>-0.001567</td>\n",
              "      <td>-0.018227</td>\n",
              "      <td>-0.015632</td>\n",
              "      <td>-0.011170</td>\n",
              "      <td>-0.015676</td>\n",
              "      <td>0.020063</td>\n",
              "      <td>0.019421</td>\n",
              "      <td>0.020602</td>\n",
              "      <td>-0.018032</td>\n",
              "      <td>-0.015600</td>\n",
              "      <td>-0.010885</td>\n",
              "      <td>-0.015824</td>\n",
              "      <td>0.020082</td>\n",
              "      <td>0.019182</td>\n",
              "      <td>0.020532</td>\n",
              "      <td>-0.200561</td>\n",
              "      <td>-0.205602</td>\n",
              "      <td>1.000000</td>\n",
              "      <td>-0.211445</td>\n",
              "      <td>-0.208354</td>\n",
              "      <td>-0.201164</td>\n",
              "      <td>-0.200544</td>\n",
              "      <td>-0.205594</td>\n",
              "      <td>0.999677</td>\n",
              "      <td>-0.211009</td>\n",
              "      <td>-0.208386</td>\n",
              "      <td>-0.201133</td>\n",
              "      <td>-0.003829</td>\n",
              "    </tr>\n",
              "    <tr>\n",
              "      <th>pickup_month_4</th>\n",
              "      <td>-0.002604</td>\n",
              "      <td>0.001189</td>\n",
              "      <td>0.002357</td>\n",
              "      <td>0.001438</td>\n",
              "      <td>-0.009612</td>\n",
              "      <td>-0.000738</td>\n",
              "      <td>0.000738</td>\n",
              "      <td>0.026315</td>\n",
              "      <td>-0.013055</td>\n",
              "      <td>0.039066</td>\n",
              "      <td>-0.008110</td>\n",
              "      <td>-0.018256</td>\n",
              "      <td>-0.012454</td>\n",
              "      <td>-0.015982</td>\n",
              "      <td>0.025696</td>\n",
              "      <td>-0.013083</td>\n",
              "      <td>0.039137</td>\n",
              "      <td>-0.007425</td>\n",
              "      <td>-0.018173</td>\n",
              "      <td>-0.012563</td>\n",
              "      <td>-0.016015</td>\n",
              "      <td>-0.198188</td>\n",
              "      <td>-0.203169</td>\n",
              "      <td>-0.211445</td>\n",
              "      <td>1.000000</td>\n",
              "      <td>-0.205889</td>\n",
              "      <td>-0.198784</td>\n",
              "      <td>-0.198171</td>\n",
              "      <td>-0.203162</td>\n",
              "      <td>-0.211423</td>\n",
              "      <td>0.999539</td>\n",
              "      <td>-0.205427</td>\n",
              "      <td>-0.198753</td>\n",
              "      <td>-0.003784</td>\n",
              "    </tr>\n",
              "    <tr>\n",
              "      <th>pickup_month_5</th>\n",
              "      <td>-0.002616</td>\n",
              "      <td>-0.001256</td>\n",
              "      <td>0.004064</td>\n",
              "      <td>0.003202</td>\n",
              "      <td>-0.012461</td>\n",
              "      <td>0.001814</td>\n",
              "      <td>-0.001814</td>\n",
              "      <td>-0.020493</td>\n",
              "      <td>0.019656</td>\n",
              "      <td>-0.015353</td>\n",
              "      <td>0.027477</td>\n",
              "      <td>-0.016892</td>\n",
              "      <td>0.025511</td>\n",
              "      <td>-0.016459</td>\n",
              "      <td>-0.020077</td>\n",
              "      <td>0.019535</td>\n",
              "      <td>-0.015541</td>\n",
              "      <td>0.026939</td>\n",
              "      <td>-0.017100</td>\n",
              "      <td>0.025765</td>\n",
              "      <td>-0.016245</td>\n",
              "      <td>-0.195291</td>\n",
              "      <td>-0.200200</td>\n",
              "      <td>-0.208354</td>\n",
              "      <td>-0.205889</td>\n",
              "      <td>1.000000</td>\n",
              "      <td>-0.195879</td>\n",
              "      <td>-0.195275</td>\n",
              "      <td>-0.200193</td>\n",
              "      <td>-0.208333</td>\n",
              "      <td>-0.205883</td>\n",
              "      <td>0.999655</td>\n",
              "      <td>-0.195653</td>\n",
              "      <td>-0.003728</td>\n",
              "    </tr>\n",
              "    <tr>\n",
              "      <th>pickup_month_6</th>\n",
              "      <td>-0.003920</td>\n",
              "      <td>-0.002413</td>\n",
              "      <td>0.001075</td>\n",
              "      <td>0.004443</td>\n",
              "      <td>-0.019137</td>\n",
              "      <td>-0.001452</td>\n",
              "      <td>0.001452</td>\n",
              "      <td>-0.014748</td>\n",
              "      <td>-0.007288</td>\n",
              "      <td>-0.013888</td>\n",
              "      <td>-0.014483</td>\n",
              "      <td>0.030434</td>\n",
              "      <td>-0.010187</td>\n",
              "      <td>0.029405</td>\n",
              "      <td>-0.014155</td>\n",
              "      <td>-0.007386</td>\n",
              "      <td>-0.013927</td>\n",
              "      <td>-0.014406</td>\n",
              "      <td>0.030386</td>\n",
              "      <td>-0.010277</td>\n",
              "      <td>0.029087</td>\n",
              "      <td>-0.188552</td>\n",
              "      <td>-0.193291</td>\n",
              "      <td>-0.201164</td>\n",
              "      <td>-0.198784</td>\n",
              "      <td>-0.195879</td>\n",
              "      <td>1.000000</td>\n",
              "      <td>-0.188536</td>\n",
              "      <td>-0.193284</td>\n",
              "      <td>-0.201143</td>\n",
              "      <td>-0.198779</td>\n",
              "      <td>-0.195909</td>\n",
              "      <td>0.999644</td>\n",
              "      <td>0.019034</td>\n",
              "    </tr>\n",
              "    <tr>\n",
              "      <th>dropoff_month_1</th>\n",
              "      <td>0.004798</td>\n",
              "      <td>0.003567</td>\n",
              "      <td>-0.006205</td>\n",
              "      <td>-0.003423</td>\n",
              "      <td>0.020718</td>\n",
              "      <td>-0.000980</td>\n",
              "      <td>0.000980</td>\n",
              "      <td>0.033287</td>\n",
              "      <td>-0.014034</td>\n",
              "      <td>-0.000427</td>\n",
              "      <td>0.011077</td>\n",
              "      <td>-0.009963</td>\n",
              "      <td>-0.012122</td>\n",
              "      <td>-0.008994</td>\n",
              "      <td>0.032999</td>\n",
              "      <td>-0.013973</td>\n",
              "      <td>-0.000300</td>\n",
              "      <td>0.011022</td>\n",
              "      <td>-0.009947</td>\n",
              "      <td>-0.012238</td>\n",
              "      <td>-0.008776</td>\n",
              "      <td>0.999916</td>\n",
              "      <td>-0.192695</td>\n",
              "      <td>-0.200544</td>\n",
              "      <td>-0.198171</td>\n",
              "      <td>-0.195275</td>\n",
              "      <td>-0.188536</td>\n",
              "      <td>1.000000</td>\n",
              "      <td>-0.192688</td>\n",
              "      <td>-0.200523</td>\n",
              "      <td>-0.198166</td>\n",
              "      <td>-0.195305</td>\n",
              "      <td>-0.188507</td>\n",
              "      <td>-0.003589</td>\n",
              "    </tr>\n",
              "    <tr>\n",
              "      <th>dropoff_month_2</th>\n",
              "      <td>0.002690</td>\n",
              "      <td>-0.000418</td>\n",
              "      <td>-0.006060</td>\n",
              "      <td>-0.003756</td>\n",
              "      <td>0.008830</td>\n",
              "      <td>-0.000271</td>\n",
              "      <td>0.000271</td>\n",
              "      <td>-0.005581</td>\n",
              "      <td>0.030273</td>\n",
              "      <td>0.001301</td>\n",
              "      <td>0.000047</td>\n",
              "      <td>-0.005113</td>\n",
              "      <td>-0.010998</td>\n",
              "      <td>-0.008359</td>\n",
              "      <td>-0.005871</td>\n",
              "      <td>0.030686</td>\n",
              "      <td>0.001040</td>\n",
              "      <td>0.000022</td>\n",
              "      <td>-0.004976</td>\n",
              "      <td>-0.010945</td>\n",
              "      <td>-0.008372</td>\n",
              "      <td>-0.192540</td>\n",
              "      <td>0.999803</td>\n",
              "      <td>-0.205594</td>\n",
              "      <td>-0.203162</td>\n",
              "      <td>-0.200193</td>\n",
              "      <td>-0.193284</td>\n",
              "      <td>-0.192688</td>\n",
              "      <td>1.000000</td>\n",
              "      <td>-0.205573</td>\n",
              "      <td>-0.203156</td>\n",
              "      <td>-0.200224</td>\n",
              "      <td>-0.193254</td>\n",
              "      <td>-0.003679</td>\n",
              "    </tr>\n",
              "    <tr>\n",
              "      <th>dropoff_month_3</th>\n",
              "      <td>0.001718</td>\n",
              "      <td>-0.000635</td>\n",
              "      <td>0.004351</td>\n",
              "      <td>-0.002368</td>\n",
              "      <td>0.011703</td>\n",
              "      <td>0.001534</td>\n",
              "      <td>-0.001534</td>\n",
              "      <td>-0.018195</td>\n",
              "      <td>-0.015351</td>\n",
              "      <td>-0.011138</td>\n",
              "      <td>-0.015646</td>\n",
              "      <td>0.019643</td>\n",
              "      <td>0.019454</td>\n",
              "      <td>0.020635</td>\n",
              "      <td>-0.018451</td>\n",
              "      <td>-0.015572</td>\n",
              "      <td>-0.010852</td>\n",
              "      <td>-0.015794</td>\n",
              "      <td>0.020116</td>\n",
              "      <td>0.019458</td>\n",
              "      <td>0.020566</td>\n",
              "      <td>-0.200540</td>\n",
              "      <td>-0.205354</td>\n",
              "      <td>0.999677</td>\n",
              "      <td>-0.211423</td>\n",
              "      <td>-0.208333</td>\n",
              "      <td>-0.201143</td>\n",
              "      <td>-0.200523</td>\n",
              "      <td>-0.205573</td>\n",
              "      <td>1.000000</td>\n",
              "      <td>-0.211417</td>\n",
              "      <td>-0.208365</td>\n",
              "      <td>-0.201112</td>\n",
              "      <td>-0.003828</td>\n",
              "    </tr>\n",
              "    <tr>\n",
              "      <th>dropoff_month_4</th>\n",
              "      <td>-0.002625</td>\n",
              "      <td>0.001204</td>\n",
              "      <td>0.002405</td>\n",
              "      <td>0.001442</td>\n",
              "      <td>-0.009562</td>\n",
              "      <td>-0.000711</td>\n",
              "      <td>0.000711</td>\n",
              "      <td>0.026325</td>\n",
              "      <td>-0.013047</td>\n",
              "      <td>0.038562</td>\n",
              "      <td>-0.008102</td>\n",
              "      <td>-0.017789</td>\n",
              "      <td>-0.012446</td>\n",
              "      <td>-0.015974</td>\n",
              "      <td>0.026160</td>\n",
              "      <td>-0.013075</td>\n",
              "      <td>0.039146</td>\n",
              "      <td>-0.007959</td>\n",
              "      <td>-0.018164</td>\n",
              "      <td>-0.012555</td>\n",
              "      <td>-0.016006</td>\n",
              "      <td>-0.198182</td>\n",
              "      <td>-0.203164</td>\n",
              "      <td>-0.211009</td>\n",
              "      <td>0.999539</td>\n",
              "      <td>-0.205883</td>\n",
              "      <td>-0.198779</td>\n",
              "      <td>-0.198166</td>\n",
              "      <td>-0.203156</td>\n",
              "      <td>-0.211417</td>\n",
              "      <td>1.000000</td>\n",
              "      <td>-0.205915</td>\n",
              "      <td>-0.198748</td>\n",
              "      <td>-0.003783</td>\n",
              "    </tr>\n",
              "    <tr>\n",
              "      <th>dropoff_month_5</th>\n",
              "      <td>-0.002623</td>\n",
              "      <td>-0.001253</td>\n",
              "      <td>0.004074</td>\n",
              "      <td>0.003519</td>\n",
              "      <td>-0.012526</td>\n",
              "      <td>0.001794</td>\n",
              "      <td>-0.001794</td>\n",
              "      <td>-0.020540</td>\n",
              "      <td>0.019610</td>\n",
              "      <td>-0.014882</td>\n",
              "      <td>0.027429</td>\n",
              "      <td>-0.016939</td>\n",
              "      <td>0.025255</td>\n",
              "      <td>-0.016505</td>\n",
              "      <td>-0.020124</td>\n",
              "      <td>0.019489</td>\n",
              "      <td>-0.015589</td>\n",
              "      <td>0.027439</td>\n",
              "      <td>-0.017146</td>\n",
              "      <td>0.025716</td>\n",
              "      <td>-0.016494</td>\n",
              "      <td>-0.195321</td>\n",
              "      <td>-0.200231</td>\n",
              "      <td>-0.208386</td>\n",
              "      <td>-0.205427</td>\n",
              "      <td>0.999655</td>\n",
              "      <td>-0.195909</td>\n",
              "      <td>-0.195305</td>\n",
              "      <td>-0.200224</td>\n",
              "      <td>-0.208365</td>\n",
              "      <td>-0.205915</td>\n",
              "      <td>1.000000</td>\n",
              "      <td>-0.195879</td>\n",
              "      <td>-0.003729</td>\n",
              "    </tr>\n",
              "    <tr>\n",
              "      <th>dropoff_month_6</th>\n",
              "      <td>-0.003898</td>\n",
              "      <td>-0.002389</td>\n",
              "      <td>0.001029</td>\n",
              "      <td>0.004170</td>\n",
              "      <td>-0.019103</td>\n",
              "      <td>-0.001460</td>\n",
              "      <td>0.001460</td>\n",
              "      <td>-0.014702</td>\n",
              "      <td>-0.007245</td>\n",
              "      <td>-0.013841</td>\n",
              "      <td>-0.014440</td>\n",
              "      <td>0.029959</td>\n",
              "      <td>-0.009931</td>\n",
              "      <td>0.029455</td>\n",
              "      <td>-0.014629</td>\n",
              "      <td>-0.007343</td>\n",
              "      <td>-0.013880</td>\n",
              "      <td>-0.014362</td>\n",
              "      <td>0.030437</td>\n",
              "      <td>-0.010232</td>\n",
              "      <td>0.029346</td>\n",
              "      <td>-0.188523</td>\n",
              "      <td>-0.193261</td>\n",
              "      <td>-0.201133</td>\n",
              "      <td>-0.198753</td>\n",
              "      <td>-0.195653</td>\n",
              "      <td>0.999644</td>\n",
              "      <td>-0.188507</td>\n",
              "      <td>-0.193254</td>\n",
              "      <td>-0.201112</td>\n",
              "      <td>-0.198748</td>\n",
              "      <td>-0.195879</td>\n",
              "      <td>1.000000</td>\n",
              "      <td>-0.003599</td>\n",
              "    </tr>\n",
              "    <tr>\n",
              "      <th>dropoff_month_7</th>\n",
              "      <td>-0.000497</td>\n",
              "      <td>-0.002121</td>\n",
              "      <td>0.005324</td>\n",
              "      <td>0.019048</td>\n",
              "      <td>-0.000602</td>\n",
              "      <td>0.000588</td>\n",
              "      <td>-0.000588</td>\n",
              "      <td>-0.003519</td>\n",
              "      <td>-0.003163</td>\n",
              "      <td>-0.003522</td>\n",
              "      <td>-0.003241</td>\n",
              "      <td>0.019751</td>\n",
              "      <td>-0.003331</td>\n",
              "      <td>-0.003402</td>\n",
              "      <td>0.019496</td>\n",
              "      <td>-0.003163</td>\n",
              "      <td>-0.003521</td>\n",
              "      <td>-0.003260</td>\n",
              "      <td>-0.003462</td>\n",
              "      <td>-0.003328</td>\n",
              "      <td>-0.003399</td>\n",
              "      <td>-0.003589</td>\n",
              "      <td>-0.003679</td>\n",
              "      <td>-0.003829</td>\n",
              "      <td>-0.003784</td>\n",
              "      <td>-0.003728</td>\n",
              "      <td>0.019034</td>\n",
              "      <td>-0.003589</td>\n",
              "      <td>-0.003679</td>\n",
              "      <td>-0.003828</td>\n",
              "      <td>-0.003783</td>\n",
              "      <td>-0.003729</td>\n",
              "      <td>-0.003599</td>\n",
              "      <td>1.000000</td>\n",
              "    </tr>\n",
              "  </tbody>\n",
              "</table>\n",
              "</div>"
            ],
            "text/plain": [
              "                       vendor_id  ...  dropoff_month_7\n",
              "vendor_id               1.000000  ...        -0.000497\n",
              "passenger_count         0.281247  ...        -0.002121\n",
              "distance               -0.011766  ...         0.005324\n",
              "trip_duration_hour      0.022324  ...         0.019048\n",
              "Speed                  -0.004531  ...        -0.000602\n",
              "store_and_fwd_flag_N    0.075405  ...         0.000588\n",
              "store_and_fwd_flag_Y   -0.075405  ...        -0.000588\n",
              "pickup_day_Friday      -0.001178  ...        -0.003519\n",
              "pickup_day_Monday      -0.000690  ...        -0.003163\n",
              "pickup_day_Saturday     0.000830  ...        -0.003522\n",
              "pickup_day_Sunday       0.002912  ...        -0.003241\n",
              "pickup_day_Thursday    -0.001766  ...         0.019751\n",
              "pickup_day_Tuesday      0.001656  ...        -0.003331\n",
              "pickup_day_Wednesday   -0.001641  ...        -0.003402\n",
              "dropoff_day_Friday     -0.001218  ...         0.019496\n",
              "dropoff_day_Monday     -0.000570  ...        -0.003163\n",
              "dropoff_day_Saturday    0.000598  ...        -0.003521\n",
              "dropoff_day_Sunday      0.003257  ...        -0.003260\n",
              "dropoff_day_Thursday   -0.001939  ...        -0.003462\n",
              "dropoff_day_Tuesday     0.001448  ...        -0.003328\n",
              "dropoff_day_Wednesday  -0.001448  ...        -0.003399\n",
              "pickup_month_1          0.004827  ...        -0.003589\n",
              "pickup_month_2          0.002702  ...        -0.003679\n",
              "pickup_month_3          0.001662  ...        -0.003829\n",
              "pickup_month_4         -0.002604  ...        -0.003784\n",
              "pickup_month_5         -0.002616  ...        -0.003728\n",
              "pickup_month_6         -0.003920  ...         0.019034\n",
              "dropoff_month_1         0.004798  ...        -0.003589\n",
              "dropoff_month_2         0.002690  ...        -0.003679\n",
              "dropoff_month_3         0.001718  ...        -0.003828\n",
              "dropoff_month_4        -0.002625  ...        -0.003783\n",
              "dropoff_month_5        -0.002623  ...        -0.003729\n",
              "dropoff_month_6        -0.003898  ...        -0.003599\n",
              "dropoff_month_7        -0.000497  ...         1.000000\n",
              "\n",
              "[34 rows x 34 columns]"
            ]
          },
          "metadata": {},
          "execution_count": 45
        }
      ]
    },
    {
      "cell_type": "code",
      "metadata": {
        "id": "slRADgYm16f-",
        "colab": {
          "base_uri": "https://localhost:8080/",
          "height": 725
        },
        "outputId": "3e9afb2d-7052-40da-b7ea-336f9d41152f"
      },
      "source": [
        "#Check in heatmap\n",
        "plt.figure (figsize=(15,10))\n",
        "sns.heatmap(df.corr(),linewidths=5)"
      ],
      "execution_count": 46,
      "outputs": [
        {
          "output_type": "execute_result",
          "data": {
            "text/plain": [
              "<matplotlib.axes._subplots.AxesSubplot at 0x7f17d9067fd0>"
            ]
          },
          "metadata": {},
          "execution_count": 46
        },
        {
          "output_type": "display_data",
          "data": {
            "image/png": "[encoded data removed]",
            "text/plain": [
              "<Figure size 1080x720 with 2 Axes>"
            ]
          },
          "metadata": {
            "needs_background": "light"
          }
        }
      ]
    },
    {
      "cell_type": "code",
      "metadata": {
        "id": "MG0I8ydD4Lm6"
      },
      "source": [
        "final_df = df.copy()\n",
        "features = ['vendor_id', 'passenger_count', 'distance',\n",
        "       'Speed', 'store_and_fwd_flag_N', 'store_and_fwd_flag_Y',\n",
        "       'pickup_day_Friday', 'pickup_day_Monday', 'pickup_day_Saturday',\n",
        "       'pickup_day_Sunday', 'pickup_day_Thursday', 'pickup_day_Tuesday',\n",
        "       'pickup_day_Wednesday', 'dropoff_day_Friday', 'dropoff_day_Monday',\n",
        "       'dropoff_day_Saturday', 'dropoff_day_Sunday', 'dropoff_day_Thursday',\n",
        "       'dropoff_day_Tuesday', 'dropoff_day_Wednesday', 'pickup_month_1',\n",
        "       'pickup_month_2', 'pickup_month_3', 'pickup_month_4', 'pickup_month_5',\n",
        "       'pickup_month_6', 'dropoff_month_1', 'dropoff_month_2',\n",
        "       'dropoff_month_3', 'dropoff_month_4', 'dropoff_month_5',\n",
        "       'dropoff_month_6', 'dropoff_month_7', 'trip_duration_hour']"
      ],
      "execution_count": 47,
      "outputs": []
    },
    {
      "cell_type": "code",
      "metadata": {
        "id": "ahrR412K4sXl"
      },
      "source": [
        "from scipy.stats import zscore\n",
        "X = df[features].apply(zscore)"
      ],
      "execution_count": 48,
      "outputs": []
    },
    {
      "cell_type": "code",
      "metadata": {
        "colab": {
          "base_uri": "https://localhost:8080/",
          "height": 439
        },
        "id": "l-QxQV9q4z0R",
        "outputId": "b6faac24-d800-40be-e2b7-52253f2307e7"
      },
      "source": [
        "X"
      ],
      "execution_count": 49,
      "outputs": [
        {
          "output_type": "execute_result",
          "data": {
            "text/html": [
              "<div>\n",
              "<style scoped>\n",
              "    .dataframe tbody tr th:only-of-type {\n",
              "        vertical-align: middle;\n",
              "    }\n",
              "\n",
              "    .dataframe tbody tr th {\n",
              "        vertical-align: top;\n",
              "    }\n",
              "\n",
              "    .dataframe thead th {\n",
              "        text-align: right;\n",
              "    }\n",
              "</style>\n",
              "<table border=\"1\" class=\"dataframe\">\n",
              "  <thead>\n",
              "    <tr style=\"text-align: right;\">\n",
              "      <th></th>\n",
              "      <th>vendor_id</th>\n",
              "      <th>passenger_count</th>\n",
              "      <th>distance</th>\n",
              "      <th>Speed</th>\n",
              "      <th>store_and_fwd_flag_N</th>\n",
              "      <th>store_and_fwd_flag_Y</th>\n",
              "      <th>pickup_day_Friday</th>\n",
              "      <th>pickup_day_Monday</th>\n",
              "      <th>pickup_day_Saturday</th>\n",
              "      <th>pickup_day_Sunday</th>\n",
              "      <th>pickup_day_Thursday</th>\n",
              "      <th>pickup_day_Tuesday</th>\n",
              "      <th>pickup_day_Wednesday</th>\n",
              "      <th>dropoff_day_Friday</th>\n",
              "      <th>dropoff_day_Monday</th>\n",
              "      <th>dropoff_day_Saturday</th>\n",
              "      <th>dropoff_day_Sunday</th>\n",
              "      <th>dropoff_day_Thursday</th>\n",
              "      <th>dropoff_day_Tuesday</th>\n",
              "      <th>dropoff_day_Wednesday</th>\n",
              "      <th>pickup_month_1</th>\n",
              "      <th>pickup_month_2</th>\n",
              "      <th>pickup_month_3</th>\n",
              "      <th>pickup_month_4</th>\n",
              "      <th>pickup_month_5</th>\n",
              "      <th>pickup_month_6</th>\n",
              "      <th>dropoff_month_1</th>\n",
              "      <th>dropoff_month_2</th>\n",
              "      <th>dropoff_month_3</th>\n",
              "      <th>dropoff_month_4</th>\n",
              "      <th>dropoff_month_5</th>\n",
              "      <th>dropoff_month_6</th>\n",
              "      <th>dropoff_month_7</th>\n",
              "      <th>trip_duration_hour</th>\n",
              "    </tr>\n",
              "  </thead>\n",
              "  <tbody>\n",
              "    <tr>\n",
              "      <th>0</th>\n",
              "      <td>0.941757</td>\n",
              "      <td>-0.494676</td>\n",
              "      <td>-0.527237</td>\n",
              "      <td>-0.265346</td>\n",
              "      <td>0.071013</td>\n",
              "      <td>-0.071013</td>\n",
              "      <td>-0.425114</td>\n",
              "      <td>2.616615</td>\n",
              "      <td>-0.425453</td>\n",
              "      <td>-0.391599</td>\n",
              "      <td>-0.419079</td>\n",
              "      <td>-0.402367</td>\n",
              "      <td>-0.411048</td>\n",
              "      <td>-0.424559</td>\n",
              "      <td>2.616896</td>\n",
              "      <td>-0.425349</td>\n",
              "      <td>-0.393807</td>\n",
              "      <td>-0.418301</td>\n",
              "      <td>-0.402071</td>\n",
              "      <td>-0.410668</td>\n",
              "      <td>-0.433574</td>\n",
              "      <td>-0.444472</td>\n",
              "      <td>2.161810</td>\n",
              "      <td>-0.457103</td>\n",
              "      <td>-0.450422</td>\n",
              "      <td>-0.434879</td>\n",
              "      <td>-0.433538</td>\n",
              "      <td>-0.444456</td>\n",
              "      <td>2.162032</td>\n",
              "      <td>-0.457090</td>\n",
              "      <td>-0.450491</td>\n",
              "      <td>-0.434811</td>\n",
              "      <td>-0.008277</td>\n",
              "      <td>-0.110916</td>\n",
              "    </tr>\n",
              "    <tr>\n",
              "      <th>1</th>\n",
              "      <td>-1.061845</td>\n",
              "      <td>-0.494676</td>\n",
              "      <td>-0.392954</td>\n",
              "      <td>-0.551075</td>\n",
              "      <td>0.071013</td>\n",
              "      <td>-0.071013</td>\n",
              "      <td>-0.425114</td>\n",
              "      <td>-0.382173</td>\n",
              "      <td>-0.425453</td>\n",
              "      <td>2.553631</td>\n",
              "      <td>-0.419079</td>\n",
              "      <td>-0.402367</td>\n",
              "      <td>-0.411048</td>\n",
              "      <td>-0.424559</td>\n",
              "      <td>-0.382132</td>\n",
              "      <td>-0.425349</td>\n",
              "      <td>2.539314</td>\n",
              "      <td>-0.418301</td>\n",
              "      <td>-0.402071</td>\n",
              "      <td>-0.410668</td>\n",
              "      <td>-0.433574</td>\n",
              "      <td>-0.444472</td>\n",
              "      <td>-0.462575</td>\n",
              "      <td>-0.457103</td>\n",
              "      <td>-0.450422</td>\n",
              "      <td>2.299492</td>\n",
              "      <td>-0.433538</td>\n",
              "      <td>-0.444456</td>\n",
              "      <td>-0.462528</td>\n",
              "      <td>-0.457090</td>\n",
              "      <td>-0.450491</td>\n",
              "      <td>2.299851</td>\n",
              "      <td>-0.008277</td>\n",
              "      <td>-0.048301</td>\n",
              "    </tr>\n",
              "    <tr>\n",
              "      <th>2</th>\n",
              "      <td>0.941757</td>\n",
              "      <td>-0.494676</td>\n",
              "      <td>1.610254</td>\n",
              "      <td>-0.409302</td>\n",
              "      <td>0.071013</td>\n",
              "      <td>-0.071013</td>\n",
              "      <td>-0.425114</td>\n",
              "      <td>-0.382173</td>\n",
              "      <td>-0.425453</td>\n",
              "      <td>-0.391599</td>\n",
              "      <td>-0.419079</td>\n",
              "      <td>2.485295</td>\n",
              "      <td>-0.411048</td>\n",
              "      <td>-0.424559</td>\n",
              "      <td>-0.382132</td>\n",
              "      <td>-0.425349</td>\n",
              "      <td>-0.393807</td>\n",
              "      <td>-0.418301</td>\n",
              "      <td>2.487125</td>\n",
              "      <td>-0.410668</td>\n",
              "      <td>2.306411</td>\n",
              "      <td>-0.444472</td>\n",
              "      <td>-0.462575</td>\n",
              "      <td>-0.457103</td>\n",
              "      <td>-0.450422</td>\n",
              "      <td>-0.434879</td>\n",
              "      <td>2.306605</td>\n",
              "      <td>-0.444456</td>\n",
              "      <td>-0.462528</td>\n",
              "      <td>-0.457090</td>\n",
              "      <td>-0.450491</td>\n",
              "      <td>-0.434811</td>\n",
              "      <td>-0.008277</td>\n",
              "      <td>0.391507</td>\n",
              "    </tr>\n",
              "    <tr>\n",
              "      <th>3</th>\n",
              "      <td>0.941757</td>\n",
              "      <td>-0.494676</td>\n",
              "      <td>-0.532933</td>\n",
              "      <td>-0.180538</td>\n",
              "      <td>0.071013</td>\n",
              "      <td>-0.071013</td>\n",
              "      <td>-0.425114</td>\n",
              "      <td>-0.382173</td>\n",
              "      <td>-0.425453</td>\n",
              "      <td>-0.391599</td>\n",
              "      <td>-0.419079</td>\n",
              "      <td>-0.402367</td>\n",
              "      <td>2.432804</td>\n",
              "      <td>-0.424559</td>\n",
              "      <td>-0.382132</td>\n",
              "      <td>-0.425349</td>\n",
              "      <td>-0.393807</td>\n",
              "      <td>-0.418301</td>\n",
              "      <td>-0.402071</td>\n",
              "      <td>2.435056</td>\n",
              "      <td>-0.433574</td>\n",
              "      <td>-0.444472</td>\n",
              "      <td>-0.462575</td>\n",
              "      <td>2.187691</td>\n",
              "      <td>-0.450422</td>\n",
              "      <td>-0.434879</td>\n",
              "      <td>-0.433538</td>\n",
              "      <td>-0.444456</td>\n",
              "      <td>-0.462528</td>\n",
              "      <td>2.187753</td>\n",
              "      <td>-0.450491</td>\n",
              "      <td>-0.434811</td>\n",
              "      <td>-0.008277</td>\n",
              "      <td>-0.118742</td>\n",
              "    </tr>\n",
              "    <tr>\n",
              "      <th>4</th>\n",
              "      <td>0.941757</td>\n",
              "      <td>-0.494676</td>\n",
              "      <td>-0.662807</td>\n",
              "      <td>-0.546490</td>\n",
              "      <td>0.071013</td>\n",
              "      <td>-0.071013</td>\n",
              "      <td>-0.425114</td>\n",
              "      <td>-0.382173</td>\n",
              "      <td>2.350435</td>\n",
              "      <td>-0.391599</td>\n",
              "      <td>-0.419079</td>\n",
              "      <td>-0.402367</td>\n",
              "      <td>-0.411048</td>\n",
              "      <td>-0.424559</td>\n",
              "      <td>-0.382132</td>\n",
              "      <td>2.351008</td>\n",
              "      <td>-0.393807</td>\n",
              "      <td>-0.418301</td>\n",
              "      <td>-0.402071</td>\n",
              "      <td>-0.410668</td>\n",
              "      <td>-0.433574</td>\n",
              "      <td>-0.444472</td>\n",
              "      <td>2.161810</td>\n",
              "      <td>-0.457103</td>\n",
              "      <td>-0.450422</td>\n",
              "      <td>-0.434879</td>\n",
              "      <td>-0.433538</td>\n",
              "      <td>-0.444456</td>\n",
              "      <td>2.162032</td>\n",
              "      <td>-0.457090</td>\n",
              "      <td>-0.450491</td>\n",
              "      <td>-0.434811</td>\n",
              "      <td>-0.008277</td>\n",
              "      <td>-0.116936</td>\n",
              "    </tr>\n",
              "    <tr>\n",
              "      <th>...</th>\n",
              "      <td>...</td>\n",
              "      <td>...</td>\n",
              "      <td>...</td>\n",
              "      <td>...</td>\n",
              "      <td>...</td>\n",
              "      <td>...</td>\n",
              "      <td>...</td>\n",
              "      <td>...</td>\n",
              "      <td>...</td>\n",
              "      <td>...</td>\n",
              "      <td>...</td>\n",
              "      <td>...</td>\n",
              "      <td>...</td>\n",
              "      <td>...</td>\n",
              "      <td>...</td>\n",
              "      <td>...</td>\n",
              "      <td>...</td>\n",
              "      <td>...</td>\n",
              "      <td>...</td>\n",
              "      <td>...</td>\n",
              "      <td>...</td>\n",
              "      <td>...</td>\n",
              "      <td>...</td>\n",
              "      <td>...</td>\n",
              "      <td>...</td>\n",
              "      <td>...</td>\n",
              "      <td>...</td>\n",
              "      <td>...</td>\n",
              "      <td>...</td>\n",
              "      <td>...</td>\n",
              "      <td>...</td>\n",
              "      <td>...</td>\n",
              "      <td>...</td>\n",
              "      <td>...</td>\n",
              "    </tr>\n",
              "    <tr>\n",
              "      <th>1347052</th>\n",
              "      <td>0.941757</td>\n",
              "      <td>1.855767</td>\n",
              "      <td>-0.646845</td>\n",
              "      <td>-1.126620</td>\n",
              "      <td>0.071013</td>\n",
              "      <td>-0.071013</td>\n",
              "      <td>2.352311</td>\n",
              "      <td>-0.382173</td>\n",
              "      <td>-0.425453</td>\n",
              "      <td>-0.391599</td>\n",
              "      <td>-0.419079</td>\n",
              "      <td>-0.402367</td>\n",
              "      <td>-0.411048</td>\n",
              "      <td>2.355383</td>\n",
              "      <td>-0.382132</td>\n",
              "      <td>-0.425349</td>\n",
              "      <td>-0.393807</td>\n",
              "      <td>-0.418301</td>\n",
              "      <td>-0.402071</td>\n",
              "      <td>-0.410668</td>\n",
              "      <td>-0.433574</td>\n",
              "      <td>-0.444472</td>\n",
              "      <td>-0.462575</td>\n",
              "      <td>2.187691</td>\n",
              "      <td>-0.450422</td>\n",
              "      <td>-0.434879</td>\n",
              "      <td>-0.433538</td>\n",
              "      <td>-0.444456</td>\n",
              "      <td>-0.462528</td>\n",
              "      <td>2.187753</td>\n",
              "      <td>-0.450491</td>\n",
              "      <td>-0.434811</td>\n",
              "      <td>-0.008277</td>\n",
              "      <td>-0.013682</td>\n",
              "    </tr>\n",
              "    <tr>\n",
              "      <th>1347053</th>\n",
              "      <td>-1.061845</td>\n",
              "      <td>-0.494676</td>\n",
              "      <td>1.463603</td>\n",
              "      <td>2.712602</td>\n",
              "      <td>0.071013</td>\n",
              "      <td>-0.071013</td>\n",
              "      <td>-0.425114</td>\n",
              "      <td>-0.382173</td>\n",
              "      <td>-0.425453</td>\n",
              "      <td>2.553631</td>\n",
              "      <td>-0.419079</td>\n",
              "      <td>-0.402367</td>\n",
              "      <td>-0.411048</td>\n",
              "      <td>-0.424559</td>\n",
              "      <td>-0.382132</td>\n",
              "      <td>-0.425349</td>\n",
              "      <td>2.539314</td>\n",
              "      <td>-0.418301</td>\n",
              "      <td>-0.402071</td>\n",
              "      <td>-0.410668</td>\n",
              "      <td>2.306411</td>\n",
              "      <td>-0.444472</td>\n",
              "      <td>-0.462575</td>\n",
              "      <td>-0.457103</td>\n",
              "      <td>-0.450422</td>\n",
              "      <td>-0.434879</td>\n",
              "      <td>2.306605</td>\n",
              "      <td>-0.444456</td>\n",
              "      <td>-0.462528</td>\n",
              "      <td>-0.457090</td>\n",
              "      <td>-0.450491</td>\n",
              "      <td>-0.434811</td>\n",
              "      <td>-0.008277</td>\n",
              "      <td>-0.050709</td>\n",
              "    </tr>\n",
              "    <tr>\n",
              "      <th>1347054</th>\n",
              "      <td>0.941757</td>\n",
              "      <td>-0.494676</td>\n",
              "      <td>2.239925</td>\n",
              "      <td>3.216318</td>\n",
              "      <td>0.071013</td>\n",
              "      <td>-0.071013</td>\n",
              "      <td>2.352311</td>\n",
              "      <td>-0.382173</td>\n",
              "      <td>-0.425453</td>\n",
              "      <td>-0.391599</td>\n",
              "      <td>-0.419079</td>\n",
              "      <td>-0.402367</td>\n",
              "      <td>-0.411048</td>\n",
              "      <td>2.355383</td>\n",
              "      <td>-0.382132</td>\n",
              "      <td>-0.425349</td>\n",
              "      <td>-0.393807</td>\n",
              "      <td>-0.418301</td>\n",
              "      <td>-0.402071</td>\n",
              "      <td>-0.410668</td>\n",
              "      <td>-0.433574</td>\n",
              "      <td>-0.444472</td>\n",
              "      <td>-0.462575</td>\n",
              "      <td>2.187691</td>\n",
              "      <td>-0.450422</td>\n",
              "      <td>-0.434879</td>\n",
              "      <td>-0.433538</td>\n",
              "      <td>-0.444456</td>\n",
              "      <td>-0.462528</td>\n",
              "      <td>2.187753</td>\n",
              "      <td>-0.450491</td>\n",
              "      <td>-0.434811</td>\n",
              "      <td>-0.008277</td>\n",
              "      <td>-0.017897</td>\n",
              "    </tr>\n",
              "    <tr>\n",
              "      <th>1347055</th>\n",
              "      <td>-1.061845</td>\n",
              "      <td>-0.494676</td>\n",
              "      <td>-0.704811</td>\n",
              "      <td>-0.447907</td>\n",
              "      <td>0.071013</td>\n",
              "      <td>-0.071013</td>\n",
              "      <td>-0.425114</td>\n",
              "      <td>-0.382173</td>\n",
              "      <td>-0.425453</td>\n",
              "      <td>-0.391599</td>\n",
              "      <td>-0.419079</td>\n",
              "      <td>2.485295</td>\n",
              "      <td>-0.411048</td>\n",
              "      <td>-0.424559</td>\n",
              "      <td>-0.382132</td>\n",
              "      <td>-0.425349</td>\n",
              "      <td>-0.393807</td>\n",
              "      <td>-0.418301</td>\n",
              "      <td>2.487125</td>\n",
              "      <td>-0.410668</td>\n",
              "      <td>2.306411</td>\n",
              "      <td>-0.444472</td>\n",
              "      <td>-0.462575</td>\n",
              "      <td>-0.457103</td>\n",
              "      <td>-0.450422</td>\n",
              "      <td>-0.434879</td>\n",
              "      <td>2.306605</td>\n",
              "      <td>-0.444456</td>\n",
              "      <td>-0.462528</td>\n",
              "      <td>-0.457090</td>\n",
              "      <td>-0.450491</td>\n",
              "      <td>-0.434811</td>\n",
              "      <td>-0.008277</td>\n",
              "      <td>-0.135600</td>\n",
              "    </tr>\n",
              "    <tr>\n",
              "      <th>1347056</th>\n",
              "      <td>-1.061845</td>\n",
              "      <td>-0.494676</td>\n",
              "      <td>-0.686667</td>\n",
              "      <td>0.954323</td>\n",
              "      <td>0.071013</td>\n",
              "      <td>-0.071013</td>\n",
              "      <td>-0.425114</td>\n",
              "      <td>-0.382173</td>\n",
              "      <td>-0.425453</td>\n",
              "      <td>-0.391599</td>\n",
              "      <td>-0.419079</td>\n",
              "      <td>2.485295</td>\n",
              "      <td>-0.411048</td>\n",
              "      <td>-0.424559</td>\n",
              "      <td>-0.382132</td>\n",
              "      <td>-0.425349</td>\n",
              "      <td>-0.393807</td>\n",
              "      <td>-0.418301</td>\n",
              "      <td>2.487125</td>\n",
              "      <td>-0.410668</td>\n",
              "      <td>-0.433574</td>\n",
              "      <td>-0.444472</td>\n",
              "      <td>-0.462575</td>\n",
              "      <td>2.187691</td>\n",
              "      <td>-0.450422</td>\n",
              "      <td>-0.434879</td>\n",
              "      <td>-0.433538</td>\n",
              "      <td>-0.444456</td>\n",
              "      <td>-0.462528</td>\n",
              "      <td>2.187753</td>\n",
              "      <td>-0.450491</td>\n",
              "      <td>-0.434811</td>\n",
              "      <td>-0.008277</td>\n",
              "      <td>-0.188281</td>\n",
              "    </tr>\n",
              "  </tbody>\n",
              "</table>\n",
              "<p>1342888 rows × 34 columns</p>\n",
              "</div>"
            ],
            "text/plain": [
              "         vendor_id  passenger_count  ...  dropoff_month_7  trip_duration_hour\n",
              "0         0.941757        -0.494676  ...        -0.008277           -0.110916\n",
              "1        -1.061845        -0.494676  ...        -0.008277           -0.048301\n",
              "2         0.941757        -0.494676  ...        -0.008277            0.391507\n",
              "3         0.941757        -0.494676  ...        -0.008277           -0.118742\n",
              "4         0.941757        -0.494676  ...        -0.008277           -0.116936\n",
              "...            ...              ...  ...              ...                 ...\n",
              "1347052   0.941757         1.855767  ...        -0.008277           -0.013682\n",
              "1347053  -1.061845        -0.494676  ...        -0.008277           -0.050709\n",
              "1347054   0.941757        -0.494676  ...        -0.008277           -0.017897\n",
              "1347055  -1.061845        -0.494676  ...        -0.008277           -0.135600\n",
              "1347056  -1.061845        -0.494676  ...        -0.008277           -0.188281\n",
              "\n",
              "[1342888 rows x 34 columns]"
            ]
          },
          "metadata": {},
          "execution_count": 49
        }
      ]
    },
    {
      "cell_type": "code",
      "metadata": {
        "id": "octHXFoi7yhY"
      },
      "source": [
        "y = np.log10(df['trip_duration_hour'])"
      ],
      "execution_count": 50,
      "outputs": []
    },
    {
      "cell_type": "code",
      "metadata": {
        "colab": {
          "base_uri": "https://localhost:8080/"
        },
        "id": "gtwh4YTU45n2",
        "outputId": "aa66b9f7-7372-46e5-a79d-14eafdbd6838"
      },
      "source": [
        "y"
      ],
      "execution_count": null,
      "outputs": [
        {
          "output_type": "execute_result",
          "data": {
            "text/plain": [
              "0         -0.898291\n",
              "1         -0.734789\n",
              "2         -0.229148\n",
              "3         -0.923845\n",
              "4         -0.917813\n",
              "             ...   \n",
              "1347052   -0.665323\n",
              "1347053   -0.740061\n",
              "1347054   -0.673209\n",
              "1347055   -0.984594\n",
              "1347056   -1.259637\n",
              "Name: trip_duration_hour, Length: 1342888, dtype: float64"
            ]
          },
          "metadata": {},
          "execution_count": 59
        }
      ]
    },
    {
      "cell_type": "code",
      "metadata": {
        "colab": {
          "base_uri": "https://localhost:8080/"
        },
        "id": "nAMzEMsi8JR0",
        "outputId": "c0d9d7df-201e-4dc2-8cf0-e6b0decd776d"
      },
      "source": [
        "from sklearn.model_selection import train_test_split \n",
        "X_train, X_test, y_train, y_test = train_test_split( X,y , test_size = 0.2, random_state = 0) \n",
        "print(X_train.shape)\n",
        "print(X_test.shape)"
      ],
      "execution_count": 51,
      "outputs": [
        {
          "output_type": "stream",
          "name": "stdout",
          "text": [
            "(1074310, 34)\n",
            "(268578, 34)\n"
          ]
        }
      ]
    },
    {
      "cell_type": "code",
      "metadata": {
        "id": "0FuhFb568U9s"
      },
      "source": [
        "from sklearn.linear_model import LinearRegression\n",
        "\n",
        "reg = LinearRegression().fit(X_train, y_train)"
      ],
      "execution_count": 52,
      "outputs": []
    },
    {
      "cell_type": "code",
      "metadata": {
        "colab": {
          "base_uri": "https://localhost:8080/"
        },
        "id": "KB9mmIhm8kPa",
        "outputId": "68c0d7f9-81e3-40b6-fda0-cdc4db9bb0ce"
      },
      "source": [
        "reg.score(X_train, y_train)"
      ],
      "execution_count": 53,
      "outputs": [
        {
          "output_type": "execute_result",
          "data": {
            "text/plain": [
              "0.7161117907419173"
            ]
          },
          "metadata": {},
          "execution_count": 53
        }
      ]
    },
    {
      "cell_type": "code",
      "metadata": {
        "colab": {
          "base_uri": "https://localhost:8080/"
        },
        "id": "9OFP-9zE9eoO",
        "outputId": "0ff437aa-ae05-4c3c-a12a-b78f53248d3e"
      },
      "source": [
        "reg.coef_"
      ],
      "execution_count": 54,
      "outputs": [
        {
          "output_type": "execute_result",
          "data": {
            "text/plain": [
              "array([ 1.48147397e-03,  3.36119583e-03,  2.81192534e-01, -1.88655773e-01,\n",
              "       -3.52433912e+09, -3.52433912e+09, -1.88766731e+10, -1.74832415e+10,\n",
              "       -1.88871256e+10, -1.78011677e+10, -1.86893313e+10, -1.81560551e+10,\n",
              "       -1.84357458e+10,  3.92088276e+09,  3.63445404e+09,  3.92594585e+09,\n",
              "        3.71611943e+09,  3.88042875e+09,  3.77261690e+09,  3.83024813e+09,\n",
              "        1.03890338e+10,  1.05650607e+10,  1.08466528e+10,  1.07629559e+10,\n",
              "        1.06591035e+10,  1.04103649e+10,  4.79766251e+10,  4.87911668e+10,\n",
              "        5.00894570e+10,  4.97053173e+10,  4.92316542e+10,  4.80727767e+10,\n",
              "        1.08808280e+09,  5.25299784e-02])"
            ]
          },
          "metadata": {},
          "execution_count": 54
        }
      ]
    },
    {
      "cell_type": "code",
      "metadata": {
        "id": "P8--A882Obmb"
      },
      "source": [
        "y_pred = reg.predict(X_test)"
      ],
      "execution_count": 55,
      "outputs": []
    },
    {
      "cell_type": "code",
      "metadata": {
        "colab": {
          "base_uri": "https://localhost:8080/"
        },
        "id": "ACCBEBkMOhHx",
        "outputId": "8f13b273-4a59-44a6-c6e0-67e6feed8f35"
      },
      "source": [
        "y_pred"
      ],
      "execution_count": 56,
      "outputs": [
        {
          "output_type": "execute_result",
          "data": {
            "text/plain": [
              "array([-0.80360944, -0.79645771, -1.12375735, ..., -0.95186455,\n",
              "       -0.79239145, -0.81048155])"
            ]
          },
          "metadata": {},
          "execution_count": 56
        }
      ]
    },
    {
      "cell_type": "code",
      "metadata": {
        "colab": {
          "base_uri": "https://localhost:8080/"
        },
        "id": "MCtHqt5nOm8h",
        "outputId": "7be5be74-0a12-44e5-dbfa-6d956e41705a"
      },
      "source": [
        "from sklearn.metrics import mean_squared_error\n",
        "\n",
        "MSE  = mean_squared_error(10**(y_test), 10**(y_pred))\n",
        "print(\"MSE :\" , MSE)\n",
        "\n",
        "RMSE = np.sqrt(MSE)\n",
        "print(\"RMSE :\" ,RMSE)"
      ],
      "execution_count": 57,
      "outputs": [
        {
          "output_type": "stream",
          "name": "stdout",
          "text": [
            "MSE : 0.2612487967741455\n",
            "RMSE : 0.5111250304711612\n"
          ]
        }
      ]
    },
    {
      "cell_type": "code",
      "metadata": {
        "colab": {
          "base_uri": "https://localhost:8080/"
        },
        "id": "ShsPb5qVOusa",
        "outputId": "ed14ad22-f15a-40cd-a866-9a7096b65bd4"
      },
      "source": [
        "from sklearn.metrics import r2_score\n",
        "r2 = r2_score(10**(y_test), 10**(y_pred))\n",
        "print(\"R2 :\" ,r2)\n",
        "print(\"Adjusted R2 : \",1-(1-r2_score(10**(y_test), 10**(y_pred)))*((X_test.shape[0]-1)/(X_test.shape[0]-X_test.shape[1]-1)))"
      ],
      "execution_count": 58,
      "outputs": [
        {
          "output_type": "stream",
          "name": "stdout",
          "text": [
            "R2 : 0.5172857465251819\n",
            "Adjusted R2 :  0.5172246304855974\n"
          ]
        }
      ]
    },
    {
      "cell_type": "code",
      "metadata": {
        "colab": {
          "base_uri": "https://localhost:8080/",
          "height": 537
        },
        "id": "yr91MZMM6LuD",
        "outputId": "05e71c59-14d7-4b27-c1eb-89ac4e75ae56"
      },
      "source": [
        "plt.figure(figsize=(10,9))\n",
        "plt.plot(10**(y_pred))\n",
        "plt.plot(np.array(10**(y_test)))\n",
        "plt.legend([\"Predicted\",\"Actual\"])\n",
        "plt.show()"
      ],
      "execution_count": 59,
      "outputs": [
        {
          "output_type": "display_data",
          "data": {
            "image/png": "[encoded data removed]",
            "text/plain": [
              "<Figure size 720x648 with 1 Axes>"
            ]
          },
          "metadata": {
            "needs_background": "light"
          }
        }
      ]
    },
    {
      "cell_type": "markdown",
      "metadata": {
        "id": "_QkTBnbSKl-J"
      },
      "source": [
        "# ***Apply lasso to our model***"
      ]
    },
    {
      "cell_type": "code",
      "metadata": {
        "colab": {
          "base_uri": "https://localhost:8080/"
        },
        "id": "wp8eVYCE6hAu",
        "outputId": "addf1497-9062-4548-c1ba-1cb31caf048c"
      },
      "source": [
        "from sklearn.linear_model import Lasso\n",
        "lasso  = Lasso(alpha=0.0001 , max_iter= 3000)\n",
        "\n",
        "lasso.fit(X_train, y_train)"
      ],
      "execution_count": 60,
      "outputs": [
        {
          "output_type": "execute_result",
          "data": {
            "text/plain": [
              "Lasso(alpha=0.0001, copy_X=True, fit_intercept=True, max_iter=3000,\n",
              "      normalize=False, positive=False, precompute=False, random_state=None,\n",
              "      selection='cyclic', tol=0.0001, warm_start=False)"
            ]
          },
          "metadata": {},
          "execution_count": 60
        }
      ]
    },
    {
      "cell_type": "code",
      "metadata": {
        "colab": {
          "base_uri": "https://localhost:8080/"
        },
        "id": "_Ce5udCE6oCr",
        "outputId": "9ada3fe4-dfcc-458f-9625-3a2427a90dee"
      },
      "source": [
        "lasso.score(X_train, y_train)"
      ],
      "execution_count": 61,
      "outputs": [
        {
          "output_type": "execute_result",
          "data": {
            "text/plain": [
              "0.7160441567382905"
            ]
          },
          "metadata": {},
          "execution_count": 61
        }
      ]
    },
    {
      "cell_type": "code",
      "metadata": {
        "colab": {
          "base_uri": "https://localhost:8080/"
        },
        "id": "oZOgJIBaPGJT",
        "outputId": "33370637-5d06-4d95-da77-5695b589f78c"
      },
      "source": [
        "### Cross validation\n",
        "from sklearn.model_selection import GridSearchCV\n",
        "lasso = Lasso()\n",
        "parameters = {'alpha': [1e-15,1e-13,1e-10,1e-8,1e-5,1e-4,1e-3,1e-2,1e-1,1,5,10,20,30,40,45,50,55,60,100,0.0014]}\n",
        "lasso_regressor = GridSearchCV(lasso, parameters, scoring='neg_mean_squared_error', cv=5)\n",
        "lasso_regressor.fit(X_train, y_train)"
      ],
      "execution_count": 62,
      "outputs": [
        {
          "output_type": "execute_result",
          "data": {
            "text/plain": [
              "GridSearchCV(cv=5, error_score=nan,\n",
              "             estimator=Lasso(alpha=1.0, copy_X=True, fit_intercept=True,\n",
              "                             max_iter=1000, normalize=False, positive=False,\n",
              "                             precompute=False, random_state=None,\n",
              "                             selection='cyclic', tol=0.0001, warm_start=False),\n",
              "             iid='deprecated', n_jobs=None,\n",
              "             param_grid={'alpha': [1e-15, 1e-13, 1e-10, 1e-08, 1e-05, 0.0001,\n",
              "                                   0.001, 0.01, 0.1, 1, 5, 10, 20, 30, 40, 45,\n",
              "                                   50, 55, 60, 100, 0.0014]},\n",
              "             pre_dispatch='2*n_jobs', refit=True, return_train_score=False,\n",
              "             scoring='neg_mean_squared_error', verbose=0)"
            ]
          },
          "metadata": {},
          "execution_count": 62
        }
      ]
    },
    {
      "cell_type": "code",
      "metadata": {
        "colab": {
          "base_uri": "https://localhost:8080/"
        },
        "id": "BmfYQzuLTuIk",
        "outputId": "c5bdab64-14d5-4642-ae1d-2ef988753ed4"
      },
      "source": [
        "print(\"The best fit alpha value is found out to be :\" ,lasso_regressor.best_params_)\n",
        "print(\"\\nUsing \",lasso_regressor.best_params_, \" the negative mean squared error is: \", lasso_regressor.best_score_)"
      ],
      "execution_count": 63,
      "outputs": [
        {
          "output_type": "stream",
          "name": "stdout",
          "text": [
            "The best fit alpha value is found out to be : {'alpha': 0.0014}\n",
            "\n",
            "Using  {'alpha': 0.0014}  the negative mean squared error is:  -0.029252783530280796\n"
          ]
        }
      ]
    },
    {
      "cell_type": "code",
      "metadata": {
        "id": "gKPB1es2T070"
      },
      "source": [
        "y_pred_lasso = lasso_regressor.predict(X_test)"
      ],
      "execution_count": 64,
      "outputs": []
    },
    {
      "cell_type": "code",
      "metadata": {
        "colab": {
          "base_uri": "https://localhost:8080/",
          "height": 320
        },
        "id": "smVmxvFvT5bP",
        "outputId": "b1751ff5-665c-4c59-d8e7-7f57a41660ff"
      },
      "source": [
        "plt.figure(figsize=(8,5))\n",
        "plt.plot(10**(y_pred_lasso))\n",
        "plt.plot(10**(np.array(y_test)))\n",
        "plt.legend([\"Predicted\",\"Actual\"])\n",
        "plt.show()"
      ],
      "execution_count": 65,
      "outputs": [
        {
          "output_type": "display_data",
          "data": {
            "image/png": "[encoded data removed]",
            "text/plain": [
              "<Figure size 576x360 with 1 Axes>"
            ]
          },
          "metadata": {
            "needs_background": "light"
          }
        }
      ]
    },
    {
      "cell_type": "code",
      "metadata": {
        "colab": {
          "base_uri": "https://localhost:8080/"
        },
        "id": "FwpFQIuGT_jy",
        "outputId": "7ac22e24-1046-463d-d1ad-0d123c49af9f"
      },
      "source": [
        "MSE  = mean_squared_error(10**(y_test), 10**(y_pred_lasso))\n",
        "print(\"MSE :\" , MSE)\n",
        "\n",
        "RMSE = np.sqrt(MSE)\n",
        "print(\"RMSE :\" ,RMSE)\n",
        "\n",
        "r2 = r2_score(10**(y_test), 10**(y_pred_lasso))\n",
        "print(\"R2 :\" ,r2)\n",
        "print(\"Adjusted R2 : \",1-(1-r2_score(10**(y_test), 10**(y_pred_lasso)))*((X_test.shape[0]-1)/(X_test.shape[0]-X_test.shape[1]-1)))"
      ],
      "execution_count": 66,
      "outputs": [
        {
          "output_type": "stream",
          "name": "stdout",
          "text": [
            "MSE : 0.27182870056766534\n",
            "RMSE : 0.5213719407176276\n",
            "R2 : 0.497737061805537\n",
            "Adjusted R2 :  0.4976734707236671\n"
          ]
        }
      ]
    },
    {
      "cell_type": "markdown",
      "metadata": {
        "id": "XSp6OkcxKyOq"
      },
      "source": [
        "# ***Apply ridge to our model***"
      ]
    },
    {
      "cell_type": "code",
      "metadata": {
        "colab": {
          "base_uri": "https://localhost:8080/"
        },
        "id": "iFg_XD0eUFPD",
        "outputId": "e61f138f-3b38-46ee-b467-6e29c11557a2"
      },
      "source": [
        "from sklearn.linear_model import Ridge\n",
        "ridge = Ridge()\n",
        "parameters = {'alpha': [1e-15,1e-10,1e-8,1e-5,1e-4,1e-3,1e-2,1,5,10,20,30,40,45,50,55,60,100]}\n",
        "ridge_regressor = GridSearchCV(ridge, parameters, scoring='neg_mean_squared_error', cv=3)\n",
        "ridge_regressor.fit(X_train,y_train)"
      ],
      "execution_count": 67,
      "outputs": [
        {
          "output_type": "execute_result",
          "data": {
            "text/plain": [
              "GridSearchCV(cv=3, error_score=nan,\n",
              "             estimator=Ridge(alpha=1.0, copy_X=True, fit_intercept=True,\n",
              "                             max_iter=None, normalize=False, random_state=None,\n",
              "                             solver='auto', tol=0.001),\n",
              "             iid='deprecated', n_jobs=None,\n",
              "             param_grid={'alpha': [1e-15, 1e-10, 1e-08, 1e-05, 0.0001, 0.001,\n",
              "                                   0.01, 1, 5, 10, 20, 30, 40, 45, 50, 55, 60,\n",
              "                                   100]},\n",
              "             pre_dispatch='2*n_jobs', refit=True, return_train_score=False,\n",
              "             scoring='neg_mean_squared_error', verbose=0)"
            ]
          },
          "metadata": {},
          "execution_count": 67
        }
      ]
    },
    {
      "cell_type": "code",
      "metadata": {
        "colab": {
          "base_uri": "https://localhost:8080/"
        },
        "id": "C79NbYHoUKsA",
        "outputId": "8d7f41c5-9875-44a1-e58f-240dea52f3bb"
      },
      "source": [
        "print(\"The best fit alpha value is found out to be :\" ,ridge_regressor.best_params_)\n",
        "print(\"\\nUsing \",ridge_regressor.best_params_, \" the negative mean squared error is: \", ridge_regressor.best_score_)"
      ],
      "execution_count": 68,
      "outputs": [
        {
          "output_type": "stream",
          "name": "stdout",
          "text": [
            "The best fit alpha value is found out to be : {'alpha': 100}\n",
            "\n",
            "Using  {'alpha': 100}  the negative mean squared error is:  -0.029264513150841536\n"
          ]
        }
      ]
    },
    {
      "cell_type": "code",
      "metadata": {
        "id": "ctwGC_WbUPvW"
      },
      "source": [
        "y_pred_ridge = ridge_regressor.predict(X_test)"
      ],
      "execution_count": 69,
      "outputs": []
    },
    {
      "cell_type": "code",
      "metadata": {
        "colab": {
          "base_uri": "https://localhost:8080/"
        },
        "id": "cHiR8AwqUVWk",
        "outputId": "a2c8662e-f7fe-42b4-ff07-dbf216f6bf55"
      },
      "source": [
        "MSE  = mean_squared_error(10**(y_test), 10**(y_pred_ridge))\n",
        "print(\"MSE :\" , MSE)\n",
        "\n",
        "RMSE = np.sqrt(MSE)\n",
        "print(\"RMSE :\" ,RMSE)\n",
        "\n",
        "r2 = r2_score(10**(y_test), 10**(y_pred_ridge))\n",
        "print(\"R2 :\" ,r2)\n",
        "print(\"Adjusted R2 : \",1-(1-r2_score(10**(y_test), 10**(y_pred_ridge)))*((X_test.shape[0]-1)/(X_test.shape[0]-X_test.shape[1]-1)))"
      ],
      "execution_count": 70,
      "outputs": [
        {
          "output_type": "stream",
          "name": "stdout",
          "text": [
            "MSE : 0.26128948006242364\n",
            "RMSE : 0.5111648267070257\n",
            "R2 : 0.5172105752578973\n",
            "Adjusted R2 :  0.5171494497009428\n"
          ]
        }
      ]
    },
    {
      "cell_type": "markdown",
      "metadata": {
        "id": "Q3ujgwj11nF4"
      },
      "source": [
        "# ***Decision Trees***"
      ]
    },
    {
      "cell_type": "code",
      "metadata": {
        "id": "h5Np4UeTD6Sm"
      },
      "source": [
        "X = df[features]"
      ],
      "execution_count": 71,
      "outputs": []
    },
    {
      "cell_type": "code",
      "metadata": {
        "id": "6wbuOzWrKvpl"
      },
      "source": [
        "y = final_df['trip_duration_hour']"
      ],
      "execution_count": 72,
      "outputs": []
    },
    {
      "cell_type": "code",
      "metadata": {
        "id": "QjUkyerWEmWn"
      },
      "source": [
        "X_train, X_test, y_train, y_test = train_test_split(X, y, test_size=0.33, random_state=324)"
      ],
      "execution_count": 73,
      "outputs": []
    },
    {
      "cell_type": "code",
      "metadata": {
        "colab": {
          "base_uri": "https://localhost:8080/"
        },
        "id": "p13130AfFWat",
        "outputId": "8b871927-b0d2-48c2-f7a3-5f2ade8cbafd"
      },
      "source": [
        "from sklearn.datasets import load_diabetes\n",
        "from sklearn.model_selection import cross_val_score\n",
        "from sklearn.tree import DecisionTreeRegressor\n",
        "Reg = DecisionTreeRegressor(criterion='mse', max_leaf_nodes=10, random_state=0)\n",
        "Reg.fit(X_train, y_train)"
      ],
      "execution_count": 74,
      "outputs": [
        {
          "output_type": "execute_result",
          "data": {
            "text/plain": [
              "DecisionTreeRegressor(ccp_alpha=0.0, criterion='mse', max_depth=None,\n",
              "                      max_features=None, max_leaf_nodes=10,\n",
              "                      min_impurity_decrease=0.0, min_impurity_split=None,\n",
              "                      min_samples_leaf=1, min_samples_split=2,\n",
              "                      min_weight_fraction_leaf=0.0, presort='deprecated',\n",
              "                      random_state=0, splitter='best')"
            ]
          },
          "metadata": {},
          "execution_count": 74
        }
      ]
    },
    {
      "cell_type": "code",
      "metadata": {
        "id": "XFqdVCo_HN6M"
      },
      "source": [
        "y_predicted = reg.predict(X_test)"
      ],
      "execution_count": 75,
      "outputs": []
    },
    {
      "cell_type": "code",
      "metadata": {
        "colab": {
          "base_uri": "https://localhost:8080/"
        },
        "id": "LVzSHy0wHhBn",
        "outputId": "ea05b8f9-719c-491d-84a8-d03a0fc83d95"
      },
      "source": [
        "y_predicted[:10]"
      ],
      "execution_count": 76,
      "outputs": [
        {
          "output_type": "execute_result",
          "data": {
            "text/plain": [
              "array([4.08760980e+10, 4.24505910e+10, 4.04578816e+10, 4.26028682e+10,\n",
              "       4.25176311e+10, 4.26028682e+10, 4.21350315e+10, 4.26028682e+10,\n",
              "       3.98801400e+10, 4.02358221e+10])"
            ]
          },
          "metadata": {},
          "execution_count": 76
        }
      ]
    },
    {
      "cell_type": "code",
      "metadata": {
        "colab": {
          "base_uri": "https://localhost:8080/"
        },
        "id": "P5dlJLyYBmfC",
        "outputId": "388de240-9ab7-4846-cef2-469158e8f9df"
      },
      "source": [
        "y_test[:10]"
      ],
      "execution_count": 77,
      "outputs": [
        {
          "output_type": "execute_result",
          "data": {
            "text/plain": [
              "1240585    0.147500\n",
              "250482     0.536389\n",
              "656282     0.360278\n",
              "690549     0.115000\n",
              "240895     0.147778\n",
              "39385      0.396944\n",
              "1245066    0.164444\n",
              "96471      0.164722\n",
              "1020250    0.152778\n",
              "682806     0.291111\n",
              "Name: trip_duration_hour, dtype: float64"
            ]
          },
          "metadata": {},
          "execution_count": 77
        }
      ]
    },
    {
      "cell_type": "code",
      "metadata": {
        "id": "A9kfpT00HxDt"
      },
      "source": [
        "from sklearn.tree import DecisionTreeClassifier, export_graphviz\n",
        "from sklearn import tree\n",
        "from IPython.display import SVG\n",
        "from graphviz import Source\n",
        "from IPython.display import display"
      ],
      "execution_count": 78,
      "outputs": []
    },
    {
      "cell_type": "code",
      "metadata": {
        "colab": {
          "base_uri": "https://localhost:8080/",
          "height": 816
        },
        "id": "9TXlMXxrH6pL",
        "outputId": "26d6131c-3f38-43ca-f25c-db89e57d605c"
      },
      "source": [
        "graph = Source(tree.export_graphviz(Reg, out_file=None, feature_names=X_train.columns, filled = True))\n",
        "display(SVG(graph.pipe(format='svg')))"
      ],
      "execution_count": 79,
      "outputs": [
        {
          "output_type": "display_data",
          "data": {
            "text/plain": [
              "<IPython.core.display.SVG object>"
            ],
            "image/svg+xml": "<svg height=\"581pt\" viewBox=\"0.00 0.00 962.00 581.00\" width=\"962pt\" xmlns=\"http://www.w3.org/2000/svg\" xmlns:xlink=\"http://www.w3.org/1999/xlink\">\n<g class=\"graph\" id=\"graph0\" transform=\"scale(1 1) rotate(0) translate(4 577)\">\n<title>Tree</title>\n<polygon fill=\"#ffffff\" points=\"-4,4 -4,-577 958,-577 958,4 -4,4\" stroke=\"transparent\"/>\n<!-- 0 -->\n<g class=\"node\" id=\"node1\">\n<title>0</title>\n<polygon fill=\"#ffffff\" points=\"717.5,-573 526.5,-573 526.5,-505 717.5,-505 717.5,-573\" stroke=\"#000000\"/>\n<text fill=\"#000000\" font-family=\"Times,serif\" font-size=\"14.00\" text-anchor=\"middle\" x=\"622\" y=\"-557.8\">trip_duration_hour &lt;= 12.153</text>\n<text fill=\"#000000\" font-family=\"Times,serif\" font-size=\"14.00\" text-anchor=\"middle\" x=\"622\" y=\"-542.8\">mse = 0.98</text>\n<text fill=\"#000000\" font-family=\"Times,serif\" font-size=\"14.00\" text-anchor=\"middle\" x=\"622\" y=\"-527.8\">samples = 899734</text>\n<text fill=\"#000000\" font-family=\"Times,serif\" font-size=\"14.00\" text-anchor=\"middle\" x=\"622\" y=\"-512.8\">value = 0.228</text>\n</g>\n<!-- 1 -->\n<g class=\"node\" id=\"node2\">\n<title>1</title>\n<polygon fill=\"#ffffff\" points=\"552,-469 368,-469 368,-401 552,-401 552,-469\" stroke=\"#000000\"/>\n<text fill=\"#000000\" font-family=\"Times,serif\" font-size=\"14.00\" text-anchor=\"middle\" x=\"460\" y=\"-453.8\">trip_duration_hour &lt;= 0.257</text>\n<text fill=\"#000000\" font-family=\"Times,serif\" font-size=\"14.00\" text-anchor=\"middle\" x=\"460\" y=\"-438.8\">mse = 0.019</text>\n<text fill=\"#000000\" font-family=\"Times,serif\" font-size=\"14.00\" text-anchor=\"middle\" x=\"460\" y=\"-423.8\">samples = 898855</text>\n<text fill=\"#000000\" font-family=\"Times,serif\" font-size=\"14.00\" text-anchor=\"middle\" x=\"460\" y=\"-408.8\">value = 0.205</text>\n</g>\n<!-- 0&#45;&gt;1 -->\n<g class=\"edge\" id=\"edge1\">\n<title>0-&gt;1</title>\n<path d=\"M568.9551,-504.9465C553.8505,-495.2497 537.2676,-484.6039 521.6954,-474.6069\" fill=\"none\" stroke=\"#000000\"/>\n<polygon fill=\"#000000\" points=\"523.47,-471.5871 513.164,-469.13 519.6884,-477.4777 523.47,-471.5871\" stroke=\"#000000\"/>\n<text fill=\"#000000\" font-family=\"Times,serif\" font-size=\"14.00\" text-anchor=\"middle\" x=\"518.49\" y=\"-489.8561\">True</text>\n</g>\n<!-- 2 -->\n<g class=\"node\" id=\"node15\">\n<title>2</title>\n<polygon fill=\"#fefaf7\" points=\"827.5,-469 628.5,-469 628.5,-401 827.5,-401 827.5,-469\" stroke=\"#000000\"/>\n<text fill=\"#000000\" font-family=\"Times,serif\" font-size=\"14.00\" text-anchor=\"middle\" x=\"728\" y=\"-453.8\">trip_duration_hour &lt;= 321.389</text>\n<text fill=\"#000000\" font-family=\"Times,serif\" font-size=\"14.00\" text-anchor=\"middle\" x=\"728\" y=\"-438.8\">mse = 403.629</text>\n<text fill=\"#000000\" font-family=\"Times,serif\" font-size=\"14.00\" text-anchor=\"middle\" x=\"728\" y=\"-423.8\">samples = 879</text>\n<text fill=\"#000000\" font-family=\"Times,serif\" font-size=\"14.00\" text-anchor=\"middle\" x=\"728\" y=\"-408.8\">value = 24.302</text>\n</g>\n<!-- 0&#45;&gt;2 -->\n<g class=\"edge\" id=\"edge14\">\n<title>0-&gt;2</title>\n<path d=\"M656.7084,-504.9465C666.0426,-495.7884 676.2396,-485.7838 685.9273,-476.2788\" fill=\"none\" stroke=\"#000000\"/>\n<polygon fill=\"#000000\" points=\"688.5267,-478.6318 693.2137,-469.13 683.6243,-473.6351 688.5267,-478.6318\" stroke=\"#000000\"/>\n<text fill=\"#000000\" font-family=\"Times,serif\" font-size=\"14.00\" text-anchor=\"middle\" x=\"692.9756\" y=\"-490.4289\">False</text>\n</g>\n<!-- 5 -->\n<g class=\"node\" id=\"node3\">\n<title>5</title>\n<polygon fill=\"#ffffff\" points=\"293,-365 109,-365 109,-297 293,-297 293,-365\" stroke=\"#000000\"/>\n<text fill=\"#000000\" font-family=\"Times,serif\" font-size=\"14.00\" text-anchor=\"middle\" x=\"201\" y=\"-349.8\">trip_duration_hour &lt;= 0.142</text>\n<text fill=\"#000000\" font-family=\"Times,serif\" font-size=\"14.00\" text-anchor=\"middle\" x=\"201\" y=\"-334.8\">mse = 0.004</text>\n<text fill=\"#000000\" font-family=\"Times,serif\" font-size=\"14.00\" text-anchor=\"middle\" x=\"201\" y=\"-319.8\">samples = 645190</text>\n<text fill=\"#000000\" font-family=\"Times,serif\" font-size=\"14.00\" text-anchor=\"middle\" x=\"201\" y=\"-304.8\">value = 0.138</text>\n</g>\n<!-- 1&#45;&gt;5 -->\n<g class=\"edge\" id=\"edge2\">\n<title>1-&gt;5</title>\n<path d=\"M375.1937,-400.9465C349.7033,-390.711 321.5796,-379.4181 295.5028,-368.9471\" fill=\"none\" stroke=\"#000000\"/>\n<polygon fill=\"#000000\" points=\"296.5809,-365.6084 285.9968,-365.13 293.9724,-372.1043 296.5809,-365.6084\" stroke=\"#000000\"/>\n</g>\n<!-- 6 -->\n<g class=\"node\" id=\"node6\">\n<title>6</title>\n<polygon fill=\"#ffffff\" points=\"552,-365 368,-365 368,-297 552,-297 552,-365\" stroke=\"#000000\"/>\n<text fill=\"#000000\" font-family=\"Times,serif\" font-size=\"14.00\" text-anchor=\"middle\" x=\"460\" y=\"-349.8\">trip_duration_hour &lt;= 0.424</text>\n<text fill=\"#000000\" font-family=\"Times,serif\" font-size=\"14.00\" text-anchor=\"middle\" x=\"460\" y=\"-334.8\">mse = 0.018</text>\n<text fill=\"#000000\" font-family=\"Times,serif\" font-size=\"14.00\" text-anchor=\"middle\" x=\"460\" y=\"-319.8\">samples = 253665</text>\n<text fill=\"#000000\" font-family=\"Times,serif\" font-size=\"14.00\" text-anchor=\"middle\" x=\"460\" y=\"-304.8\">value = 0.375</text>\n</g>\n<!-- 1&#45;&gt;6 -->\n<g class=\"edge\" id=\"edge5\">\n<title>1-&gt;6</title>\n<path d=\"M460,-400.9465C460,-392.776 460,-383.9318 460,-375.3697\" fill=\"none\" stroke=\"#000000\"/>\n<polygon fill=\"#000000\" points=\"463.5001,-375.13 460,-365.13 456.5001,-375.13 463.5001,-375.13\" stroke=\"#000000\"/>\n</g>\n<!-- 9 -->\n<g class=\"node\" id=\"node4\">\n<title>9</title>\n<polygon fill=\"#ffffff\" points=\"122,-253.5 0,-253.5 0,-200.5 122,-200.5 122,-253.5\" stroke=\"#000000\"/>\n<text fill=\"#000000\" font-family=\"Times,serif\" font-size=\"14.00\" text-anchor=\"middle\" x=\"61\" y=\"-238.3\">mse = 0.001</text>\n<text fill=\"#000000\" font-family=\"Times,serif\" font-size=\"14.00\" text-anchor=\"middle\" x=\"61\" y=\"-223.3\">samples = 345288</text>\n<text fill=\"#000000\" font-family=\"Times,serif\" font-size=\"14.00\" text-anchor=\"middle\" x=\"61\" y=\"-208.3\">value = 0.09</text>\n</g>\n<!-- 5&#45;&gt;9 -->\n<g class=\"edge\" id=\"edge3\">\n<title>5-&gt;9</title>\n<path d=\"M155.1588,-296.9465C138.9965,-284.9403 120.8758,-271.4791 104.8795,-259.5962\" fill=\"none\" stroke=\"#000000\"/>\n<polygon fill=\"#000000\" points=\"106.8444,-256.6958 96.7298,-253.5422 102.6701,-262.3151 106.8444,-256.6958\" stroke=\"#000000\"/>\n</g>\n<!-- 10 -->\n<g class=\"node\" id=\"node5\">\n<title>10</title>\n<polygon fill=\"#ffffff\" points=\"262,-253.5 140,-253.5 140,-200.5 262,-200.5 262,-253.5\" stroke=\"#000000\"/>\n<text fill=\"#000000\" font-family=\"Times,serif\" font-size=\"14.00\" text-anchor=\"middle\" x=\"201\" y=\"-238.3\">mse = 0.001</text>\n<text fill=\"#000000\" font-family=\"Times,serif\" font-size=\"14.00\" text-anchor=\"middle\" x=\"201\" y=\"-223.3\">samples = 299902</text>\n<text fill=\"#000000\" font-family=\"Times,serif\" font-size=\"14.00\" text-anchor=\"middle\" x=\"201\" y=\"-208.3\">value = 0.193</text>\n</g>\n<!-- 5&#45;&gt;10 -->\n<g class=\"edge\" id=\"edge4\">\n<title>5-&gt;10</title>\n<path d=\"M201,-296.9465C201,-286.2621 201,-274.4254 201,-263.5742\" fill=\"none\" stroke=\"#000000\"/>\n<polygon fill=\"#000000\" points=\"204.5001,-263.5421 201,-253.5422 197.5001,-263.5422 204.5001,-263.5421\" stroke=\"#000000\"/>\n</g>\n<!-- 7 -->\n<g class=\"node\" id=\"node7\">\n<title>7</title>\n<polygon fill=\"#ffffff\" points=\"464,-261 280,-261 280,-193 464,-193 464,-261\" stroke=\"#000000\"/>\n<text fill=\"#000000\" font-family=\"Times,serif\" font-size=\"14.00\" text-anchor=\"middle\" x=\"372\" y=\"-245.8\">trip_duration_hour &lt;= 0.332</text>\n<text fill=\"#000000\" font-family=\"Times,serif\" font-size=\"14.00\" text-anchor=\"middle\" x=\"372\" y=\"-230.8\">mse = 0.002</text>\n<text fill=\"#000000\" font-family=\"Times,serif\" font-size=\"14.00\" text-anchor=\"middle\" x=\"372\" y=\"-215.8\">samples = 189239</text>\n<text fill=\"#000000\" font-family=\"Times,serif\" font-size=\"14.00\" text-anchor=\"middle\" x=\"372\" y=\"-200.8\">value = 0.325</text>\n</g>\n<!-- 6&#45;&gt;7 -->\n<g class=\"edge\" id=\"edge6\">\n<title>6-&gt;7</title>\n<path d=\"M431.1855,-296.9465C423.5883,-287.968 415.3026,-278.1758 407.4018,-268.8385\" fill=\"none\" stroke=\"#000000\"/>\n<polygon fill=\"#000000\" points=\"410.0105,-266.5031 400.8792,-261.13 404.6668,-271.0247 410.0105,-266.5031\" stroke=\"#000000\"/>\n</g>\n<!-- 8 -->\n<g class=\"node\" id=\"node10\">\n<title>8</title>\n<polygon fill=\"#ffffff\" points=\"658,-261 482,-261 482,-193 658,-193 658,-261\" stroke=\"#000000\"/>\n<text fill=\"#000000\" font-family=\"Times,serif\" font-size=\"14.00\" text-anchor=\"middle\" x=\"570\" y=\"-245.8\">trip_duration_hour &lt;= 4.73</text>\n<text fill=\"#000000\" font-family=\"Times,serif\" font-size=\"14.00\" text-anchor=\"middle\" x=\"570\" y=\"-230.8\">mse = 0.033</text>\n<text fill=\"#000000\" font-family=\"Times,serif\" font-size=\"14.00\" text-anchor=\"middle\" x=\"570\" y=\"-215.8\">samples = 64426</text>\n<text fill=\"#000000\" font-family=\"Times,serif\" font-size=\"14.00\" text-anchor=\"middle\" x=\"570\" y=\"-200.8\">value = 0.523</text>\n</g>\n<!-- 6&#45;&gt;8 -->\n<g class=\"edge\" id=\"edge9\">\n<title>6-&gt;8</title>\n<path d=\"M496.0181,-296.9465C505.7046,-287.7884 516.2864,-277.7838 526.3397,-268.2788\" fill=\"none\" stroke=\"#000000\"/>\n<polygon fill=\"#000000\" points=\"529.039,-270.5434 533.901,-261.13 524.2299,-265.4569 529.039,-270.5434\" stroke=\"#000000\"/>\n</g>\n<!-- 17 -->\n<g class=\"node\" id=\"node8\">\n<title>17</title>\n<polygon fill=\"#ffffff\" points=\"304.5,-149.5 183.5,-149.5 183.5,-96.5 304.5,-96.5 304.5,-149.5\" stroke=\"#000000\"/>\n<text fill=\"#000000\" font-family=\"Times,serif\" font-size=\"14.00\" text-anchor=\"middle\" x=\"244\" y=\"-134.3\">mse = 0.0</text>\n<text fill=\"#000000\" font-family=\"Times,serif\" font-size=\"14.00\" text-anchor=\"middle\" x=\"244\" y=\"-119.3\">samples = 111799</text>\n<text fill=\"#000000\" font-family=\"Times,serif\" font-size=\"14.00\" text-anchor=\"middle\" x=\"244\" y=\"-104.3\">value = 0.291</text>\n</g>\n<!-- 7&#45;&gt;17 -->\n<g class=\"edge\" id=\"edge7\">\n<title>7-&gt;17</title>\n<path d=\"M330.088,-192.9465C315.4467,-181.0504 299.0474,-167.726 284.5215,-155.9237\" fill=\"none\" stroke=\"#000000\"/>\n<polygon fill=\"#000000\" points=\"286.6355,-153.1317 276.6673,-149.5422 282.2214,-158.5645 286.6355,-153.1317\" stroke=\"#000000\"/>\n</g>\n<!-- 18 -->\n<g class=\"node\" id=\"node9\">\n<title>18</title>\n<polygon fill=\"#ffffff\" points=\"437.5,-149.5 322.5,-149.5 322.5,-96.5 437.5,-96.5 437.5,-149.5\" stroke=\"#000000\"/>\n<text fill=\"#000000\" font-family=\"Times,serif\" font-size=\"14.00\" text-anchor=\"middle\" x=\"380\" y=\"-134.3\">mse = 0.001</text>\n<text fill=\"#000000\" font-family=\"Times,serif\" font-size=\"14.00\" text-anchor=\"middle\" x=\"380\" y=\"-119.3\">samples = 77440</text>\n<text fill=\"#000000\" font-family=\"Times,serif\" font-size=\"14.00\" text-anchor=\"middle\" x=\"380\" y=\"-104.3\">value = 0.373</text>\n</g>\n<!-- 7&#45;&gt;18 -->\n<g class=\"edge\" id=\"edge8\">\n<title>7-&gt;18</title>\n<path d=\"M374.6195,-192.9465C375.4414,-182.2621 376.3519,-170.4254 377.1866,-159.5742\" fill=\"none\" stroke=\"#000000\"/>\n<polygon fill=\"#000000\" points=\"380.6809,-159.7812 377.9583,-149.5422 373.7015,-159.2442 380.6809,-159.7812\" stroke=\"#000000\"/>\n</g>\n<!-- 11 -->\n<g class=\"node\" id=\"node11\">\n<title>11</title>\n<polygon fill=\"#ffffff\" points=\"655,-157 471,-157 471,-89 655,-89 655,-157\" stroke=\"#000000\"/>\n<text fill=\"#000000\" font-family=\"Times,serif\" font-size=\"14.00\" text-anchor=\"middle\" x=\"563\" y=\"-141.8\">trip_duration_hour &lt;= 0.628</text>\n<text fill=\"#000000\" font-family=\"Times,serif\" font-size=\"14.00\" text-anchor=\"middle\" x=\"563\" y=\"-126.8\">mse = 0.013</text>\n<text fill=\"#000000\" font-family=\"Times,serif\" font-size=\"14.00\" text-anchor=\"middle\" x=\"563\" y=\"-111.8\">samples = 64406</text>\n<text fill=\"#000000\" font-family=\"Times,serif\" font-size=\"14.00\" text-anchor=\"middle\" x=\"563\" y=\"-96.8\">value = 0.521</text>\n</g>\n<!-- 8&#45;&gt;11 -->\n<g class=\"edge\" id=\"edge10\">\n<title>8-&gt;11</title>\n<path d=\"M567.7079,-192.9465C567.158,-184.776 566.5627,-175.9318 565.9864,-167.3697\" fill=\"none\" stroke=\"#000000\"/>\n<polygon fill=\"#000000\" points=\"569.461,-166.8723 565.2972,-157.13 562.4768,-167.3425 569.461,-166.8723\" stroke=\"#000000\"/>\n</g>\n<!-- 12 -->\n<g class=\"node\" id=\"node14\">\n<title>12</title>\n<polygon fill=\"#fffdfc\" points=\"770.5,-149.5 673.5,-149.5 673.5,-96.5 770.5,-96.5 770.5,-149.5\" stroke=\"#000000\"/>\n<text fill=\"#000000\" font-family=\"Times,serif\" font-size=\"14.00\" text-anchor=\"middle\" x=\"722\" y=\"-134.3\">mse = 4.217</text>\n<text fill=\"#000000\" font-family=\"Times,serif\" font-size=\"14.00\" text-anchor=\"middle\" x=\"722\" y=\"-119.3\">samples = 20</text>\n<text fill=\"#000000\" font-family=\"Times,serif\" font-size=\"14.00\" text-anchor=\"middle\" x=\"722\" y=\"-104.3\">value = 8.324</text>\n</g>\n<!-- 8&#45;&gt;12 -->\n<g class=\"edge\" id=\"edge13\">\n<title>8-&gt;12</title>\n<path d=\"M619.7705,-192.9465C637.4791,-180.8301 657.3532,-167.232 674.8368,-155.2696\" fill=\"none\" stroke=\"#000000\"/>\n<polygon fill=\"#000000\" points=\"676.9309,-158.0776 683.2076,-149.5422 672.9781,-152.3005 676.9309,-158.0776\" stroke=\"#000000\"/>\n</g>\n<!-- 15 -->\n<g class=\"node\" id=\"node12\">\n<title>15</title>\n<polygon fill=\"#ffffff\" points=\"555.5,-53 440.5,-53 440.5,0 555.5,0 555.5,-53\" stroke=\"#000000\"/>\n<text fill=\"#000000\" font-family=\"Times,serif\" font-size=\"14.00\" text-anchor=\"middle\" x=\"498\" y=\"-37.8\">mse = 0.003</text>\n<text fill=\"#000000\" font-family=\"Times,serif\" font-size=\"14.00\" text-anchor=\"middle\" x=\"498\" y=\"-22.8\">samples = 58002</text>\n<text fill=\"#000000\" font-family=\"Times,serif\" font-size=\"14.00\" text-anchor=\"middle\" x=\"498\" y=\"-7.8\">value = 0.494</text>\n</g>\n<!-- 11&#45;&gt;15 -->\n<g class=\"edge\" id=\"edge11\">\n<title>11-&gt;15</title>\n<path d=\"M540.0834,-88.9777C534.1006,-80.0954 527.6418,-70.5067 521.623,-61.5711\" fill=\"none\" stroke=\"#000000\"/>\n<polygon fill=\"#000000\" points=\"524.5067,-59.5871 516.0171,-53.2485 518.7009,-63.4978 524.5067,-59.5871\" stroke=\"#000000\"/>\n</g>\n<!-- 16 -->\n<g class=\"node\" id=\"node13\">\n<title>16</title>\n<polygon fill=\"#ffffff\" points=\"680.5,-53 573.5,-53 573.5,0 680.5,0 680.5,-53\" stroke=\"#000000\"/>\n<text fill=\"#000000\" font-family=\"Times,serif\" font-size=\"14.00\" text-anchor=\"middle\" x=\"627\" y=\"-37.8\">mse = 0.045</text>\n<text fill=\"#000000\" font-family=\"Times,serif\" font-size=\"14.00\" text-anchor=\"middle\" x=\"627\" y=\"-22.8\">samples = 6404</text>\n<text fill=\"#000000\" font-family=\"Times,serif\" font-size=\"14.00\" text-anchor=\"middle\" x=\"627\" y=\"-7.8\">value = 0.761</text>\n</g>\n<!-- 11&#45;&gt;16 -->\n<g class=\"edge\" id=\"edge12\">\n<title>11-&gt;16</title>\n<path d=\"M585.564,-88.9777C591.3941,-80.187 597.6831,-70.7044 603.557,-61.8477\" fill=\"none\" stroke=\"#000000\"/>\n<polygon fill=\"#000000\" points=\"606.6498,-63.5167 609.2601,-53.2485 600.8162,-59.6478 606.6498,-63.5167\" stroke=\"#000000\"/>\n</g>\n<!-- 3 -->\n<g class=\"node\" id=\"node16\">\n<title>3</title>\n<polygon fill=\"#fefaf7\" points=\"823.5,-365 632.5,-365 632.5,-297 823.5,-297 823.5,-365\" stroke=\"#000000\"/>\n<text fill=\"#000000\" font-family=\"Times,serif\" font-size=\"14.00\" text-anchor=\"middle\" x=\"728\" y=\"-349.8\">trip_duration_hour &lt;= 19.126</text>\n<text fill=\"#000000\" font-family=\"Times,serif\" font-size=\"14.00\" text-anchor=\"middle\" x=\"728\" y=\"-334.8\">mse = 1.119</text>\n<text fill=\"#000000\" font-family=\"Times,serif\" font-size=\"14.00\" text-anchor=\"middle\" x=\"728\" y=\"-319.8\">samples = 878</text>\n<text fill=\"#000000\" font-family=\"Times,serif\" font-size=\"14.00\" text-anchor=\"middle\" x=\"728\" y=\"-304.8\">value = 23.625</text>\n</g>\n<!-- 2&#45;&gt;3 -->\n<g class=\"edge\" id=\"edge15\">\n<title>2-&gt;3</title>\n<path d=\"M728,-400.9465C728,-392.776 728,-383.9318 728,-375.3697\" fill=\"none\" stroke=\"#000000\"/>\n<polygon fill=\"#000000\" points=\"731.5001,-375.13 728,-365.13 724.5001,-375.13 731.5001,-375.13\" stroke=\"#000000\"/>\n</g>\n<!-- 4 -->\n<g class=\"node\" id=\"node19\">\n<title>4</title>\n<polygon fill=\"#e58139\" points=\"954,-357.5 842,-357.5 842,-304.5 954,-304.5 954,-357.5\" stroke=\"#000000\"/>\n<text fill=\"#000000\" font-family=\"Times,serif\" font-size=\"14.00\" text-anchor=\"middle\" x=\"898\" y=\"-342.3\">mse = -0.0</text>\n<text fill=\"#000000\" font-family=\"Times,serif\" font-size=\"14.00\" text-anchor=\"middle\" x=\"898\" y=\"-327.3\">samples = 1</text>\n<text fill=\"#000000\" font-family=\"Times,serif\" font-size=\"14.00\" text-anchor=\"middle\" x=\"898\" y=\"-312.3\">value = 618.781</text>\n</g>\n<!-- 2&#45;&gt;4 -->\n<g class=\"edge\" id=\"edge18\">\n<title>2-&gt;4</title>\n<path d=\"M783.6644,-400.9465C803.7401,-388.6649 826.3043,-374.8609 846.0501,-362.7811\" fill=\"none\" stroke=\"#000000\"/>\n<polygon fill=\"#000000\" points=\"847.9099,-365.7464 854.6138,-357.5422 844.2569,-359.7751 847.9099,-365.7464\" stroke=\"#000000\"/>\n</g>\n<!-- 13 -->\n<g class=\"node\" id=\"node17\">\n<title>13</title>\n<polygon fill=\"#fefcfa\" points=\"780,-253.5 676,-253.5 676,-200.5 780,-200.5 780,-253.5\" stroke=\"#000000\"/>\n<text fill=\"#000000\" font-family=\"Times,serif\" font-size=\"14.00\" text-anchor=\"middle\" x=\"728\" y=\"-238.3\">mse = 4.077</text>\n<text fill=\"#000000\" font-family=\"Times,serif\" font-size=\"14.00\" text-anchor=\"middle\" x=\"728\" y=\"-223.3\">samples = 11</text>\n<text fill=\"#000000\" font-family=\"Times,serif\" font-size=\"14.00\" text-anchor=\"middle\" x=\"728\" y=\"-208.3\">value = 15.241</text>\n</g>\n<!-- 3&#45;&gt;13 -->\n<g class=\"edge\" id=\"edge16\">\n<title>3-&gt;13</title>\n<path d=\"M728,-296.9465C728,-286.2621 728,-274.4254 728,-263.5742\" fill=\"none\" stroke=\"#000000\"/>\n<polygon fill=\"#000000\" points=\"731.5001,-263.5421 728,-253.5422 724.5001,-263.5422 731.5001,-263.5421\" stroke=\"#000000\"/>\n</g>\n<!-- 14 -->\n<g class=\"node\" id=\"node18\">\n<title>14</title>\n<polygon fill=\"#fefaf7\" points=\"902,-253.5 798,-253.5 798,-200.5 902,-200.5 902,-253.5\" stroke=\"#000000\"/>\n<text fill=\"#000000\" font-family=\"Times,serif\" font-size=\"14.00\" text-anchor=\"middle\" x=\"850\" y=\"-238.3\">mse = 0.178</text>\n<text fill=\"#000000\" font-family=\"Times,serif\" font-size=\"14.00\" text-anchor=\"middle\" x=\"850\" y=\"-223.3\">samples = 867</text>\n<text fill=\"#000000\" font-family=\"Times,serif\" font-size=\"14.00\" text-anchor=\"middle\" x=\"850\" y=\"-208.3\">value = 23.732</text>\n</g>\n<!-- 3&#45;&gt;14 -->\n<g class=\"edge\" id=\"edge17\">\n<title>3-&gt;14</title>\n<path d=\"M767.9474,-296.9465C781.7732,-285.1606 797.2436,-271.9726 810.9929,-260.2519\" fill=\"none\" stroke=\"#000000\"/>\n<polygon fill=\"#000000\" points=\"813.5244,-262.6931 818.864,-253.5422 808.9832,-257.366 813.5244,-262.6931\" stroke=\"#000000\"/>\n</g>\n</g>\n</svg>"
          },
          "metadata": {}
        }
      ]
    },
    {
      "cell_type": "code",
      "metadata": {
        "colab": {
          "base_uri": "https://localhost:8080/"
        },
        "id": "OkQSu9G9CxzT",
        "outputId": "c858626d-8c0b-4a22-bb09-cf2ecc52ce1c"
      },
      "source": [
        "from sklearn.model_selection import cross_val_score\n",
        "\n",
        "print('Accuracy of Train Data :', cross_val_score(Reg, X_train,y_train, cv=10))\n",
        "print('Accuracy of Test Data :', cross_val_score(Reg, X_test,y_test, cv=10))\n",
        "predicted=Reg.predict(X_test[:3])\n",
        "print(predicted)"
      ],
      "execution_count": 80,
      "outputs": [
        {
          "output_type": "stream",
          "name": "stdout",
          "text": [
            "Accuracy of Train Data : [0.99665184 0.99725213 0.99726248 0.99709449 0.99663318 0.99647691\n",
            " 0.18877382 0.99668487 0.9971508  0.99734177]\n",
            "Accuracy of Test Data : [0.99803477 0.99838827 0.99770963 0.99787559 0.99669836 0.99870768\n",
            " 0.99751272 0.9969323  0.99751153 0.996615  ]\n",
            "[0.19343572 0.49425061 0.37329683]\n"
          ]
        }
      ]
    }
  ]
}